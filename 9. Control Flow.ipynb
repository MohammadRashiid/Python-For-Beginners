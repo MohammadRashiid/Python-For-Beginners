{
 "cells": [
  {
   "cell_type": "markdown",
   "id": "f318609b",
   "metadata": {},
   "source": [
    "<b>If, Elif, Else <br>\n",
    "<br>\n",
    "we often want certain code to execute when a particular condition has been met.<br>\n",
    "<br>\n",
    "Input() - Takes input from user and give output</b>\n"
   ]
  },
  {
   "cell_type": "code",
   "execution_count": 27,
   "id": "95d93b0b",
   "metadata": {},
   "outputs": [
    {
     "name": "stdout",
     "output_type": "stream",
     "text": [
      "Enter a number: 2\n",
      "2\n"
     ]
    }
   ],
   "source": [
    "a = int(input(\"Enter a number: \"))\n",
    "if a in [2,3]:\n",
    "    print(a)\n",
    "elif a in [3,4]:\n",
    "    print(a+1)\n",
    "else:\n",
    "    print(\"try again\")"
   ]
  },
  {
   "cell_type": "markdown",
   "id": "15ded4ce",
   "metadata": {},
   "source": [
    "<b>Exercise <br><br>\n",
    "Write a Python program that displays a message as follows for a given number:\n",
    "<br>\n",
    "If it is a multiple of 3, display \"Zip\"\n",
    "<br>\n",
    "If it is a multiple of 5, display \"Zap\"\n",
    "<br>\n",
    "If it is a multiple of both 3 and 5, display \"Zoom\"\n",
    "<br>\n",
    "If it does not satisfy any of the above given conditions, display \"Invalid\"</b>"
   ]
  },
  {
   "cell_type": "code",
   "execution_count": 28,
   "id": "2d343b7d",
   "metadata": {},
   "outputs": [
    {
     "name": "stdout",
     "output_type": "stream",
     "text": [
      "Enter a number: 2\n",
      "Invalid\n"
     ]
    }
   ],
   "source": [
    "num = int(input(\"Enter a number: \"))\n",
    "if num%3==0 and num%5 == 0:\n",
    "    print(\"Zoom\")\n",
    "elif num%3==0:\n",
    "    print(\"Zip\")\n",
    "elif num%5 == 0:\n",
    "    print(\"Zap\")\n",
    "else:\n",
    "    print(\"Invalid\")"
   ]
  },
  {
   "cell_type": "markdown",
   "id": "38f76d6a",
   "metadata": {},
   "source": [
    "--------------------------------------------------------------------------------------------------------"
   ]
  },
  {
   "cell_type": "markdown",
   "id": "30cf6b4c",
   "metadata": {},
   "source": [
    "<b>While Loop: <br> <br>\n",
    "It will continue to execute a block of code while some condition remains true. </b>"
   ]
  },
  {
   "cell_type": "code",
   "execution_count": 29,
   "id": "3f166b44",
   "metadata": {},
   "outputs": [
    {
     "name": "stdout",
     "output_type": "stream",
     "text": [
      "The current value is:  0\n",
      "The current value is:  1\n",
      "The current value is:  2\n",
      "The current value is:  3\n",
      "The current value is:  4\n"
     ]
    }
   ],
   "source": [
    "x=0\n",
    "while x<5:\n",
    "    print(\"The current value is: \",x)\n",
    "    x+=1"
   ]
  },
  {
   "cell_type": "code",
   "execution_count": 30,
   "id": "e0c37049",
   "metadata": {},
   "outputs": [
    {
     "name": "stdout",
     "output_type": "stream",
     "text": [
      "The current value is:  0\n",
      "The current value is:  1\n",
      "The current value is:  2\n",
      "The current value is:  3\n",
      "The current value is:  4\n",
      "The current value is not < 5\n"
     ]
    }
   ],
   "source": [
    "x=0\n",
    "while x<5:\n",
    "    print(\"The current value is: \",x)\n",
    "    x+=1\n",
    "else:\n",
    "    print(f\"The current value is not < {x}\")"
   ]
  },
  {
   "cell_type": "code",
   "execution_count": 31,
   "id": "3b476cd8",
   "metadata": {},
   "outputs": [
    {
     "name": "stdout",
     "output_type": "stream",
     "text": [
      "0 1 2 3 4 "
     ]
    }
   ],
   "source": [
    "i=0\n",
    "while i<5:\n",
    "    print(i, end=' ')\n",
    "    i+=1"
   ]
  },
  {
   "cell_type": "markdown",
   "id": "e5de2a1f",
   "metadata": {},
   "source": [
    "--------------------------------------------------------------------------------------------------------"
   ]
  },
  {
   "cell_type": "markdown",
   "id": "e1764a9a",
   "metadata": {},
   "source": [
    "<b>For Loop: <br>\n",
    "<br>\n",
    "Many objects in python are Iterable means we can iterate over every element of a list or every character of a string.<br><br>\n",
    "SYNTAX:<br>\n",
    "    my_iterable = [1,2,3]\n",
    "    for x in my_iterable:\n",
    "   <br> print(x)</b>"
   ]
  },
  {
   "cell_type": "code",
   "execution_count": 32,
   "id": "8ed4ccd7",
   "metadata": {},
   "outputs": [
    {
     "name": "stdout",
     "output_type": "stream",
     "text": [
      "1\n",
      "2\n",
      "3\n"
     ]
    }
   ],
   "source": [
    "l1 = [1,2,3]\n",
    "for x in l1:\n",
    "    print(x)"
   ]
  },
  {
   "cell_type": "code",
   "execution_count": 33,
   "id": "31ec235a",
   "metadata": {},
   "outputs": [
    {
     "name": "stdout",
     "output_type": "stream",
     "text": [
      "h\n",
      "e\n",
      "l\n",
      "l\n",
      "o\n"
     ]
    }
   ],
   "source": [
    "s1 = 'hello'\n",
    "for x in s1:\n",
    "    print(x)"
   ]
  },
  {
   "cell_type": "code",
   "execution_count": 34,
   "id": "47ac43ec",
   "metadata": {},
   "outputs": [
    {
     "name": "stdout",
     "output_type": "stream",
     "text": [
      "1\n",
      "2\n",
      "3\n"
     ]
    }
   ],
   "source": [
    "for s1 in l1:\n",
    "    print (s1)"
   ]
  },
  {
   "cell_type": "code",
   "execution_count": 35,
   "id": "5741776e",
   "metadata": {},
   "outputs": [
    {
     "name": "stdout",
     "output_type": "stream",
     "text": [
      "[1, 2, 3]\n",
      "[1, 2, 3]\n",
      "[1, 2, 3]\n"
     ]
    }
   ],
   "source": [
    "for s1 in l1:\n",
    "    print (l1)"
   ]
  },
  {
   "cell_type": "code",
   "execution_count": 36,
   "id": "8569e27e",
   "metadata": {},
   "outputs": [
    {
     "name": "stdout",
     "output_type": "stream",
     "text": [
      "Hello\n",
      "Hello\n",
      "Hello\n"
     ]
    }
   ],
   "source": [
    "for x in l1:\n",
    "    print('Hello')"
   ]
  },
  {
   "cell_type": "markdown",
   "id": "4098835a",
   "metadata": {},
   "source": [
    "<b>Combine if else and for loop</b>"
   ]
  },
  {
   "cell_type": "code",
   "execution_count": 37,
   "id": "457eacf1",
   "metadata": {},
   "outputs": [
    {
     "name": "stdout",
     "output_type": "stream",
     "text": [
      "Odd no: 1\n",
      "Even no: 2\n",
      "Odd no: 3\n",
      "Even no: 4\n",
      "Odd no: 5\n",
      "Even no: 6\n",
      "Odd no: 7\n",
      "Even no: 8\n",
      "Odd no: 9\n",
      "Even no: 10\n"
     ]
    }
   ],
   "source": [
    "mylist = [1,2,3,4,5,6,7,8,9,10]\n",
    "\n",
    "for num in mylist:\n",
    "    if num%2==0:\n",
    "        print(f\"Even no: {num}\")\n",
    "    else:\n",
    "        print(f\"Odd no: {num}\")\n",
    "    "
   ]
  },
  {
   "cell_type": "code",
   "execution_count": 38,
   "id": "b26bae08",
   "metadata": {},
   "outputs": [
    {
     "name": "stdout",
     "output_type": "stream",
     "text": [
      "1\n",
      "3\n",
      "6\n",
      "10\n",
      "15\n",
      "21\n",
      "28\n",
      "36\n",
      "45\n",
      "55\n"
     ]
    }
   ],
   "source": [
    "mylist = [1,2,3,4,5,6,7,8,9,10]\n",
    "list_sum = 0\n",
    "for num in mylist:\n",
    "    list_sum += num\n",
    "    print(list_sum)"
   ]
  },
  {
   "cell_type": "code",
   "execution_count": 39,
   "id": "9cb3192c",
   "metadata": {},
   "outputs": [
    {
     "name": "stdout",
     "output_type": "stream",
     "text": [
      "55\n"
     ]
    }
   ],
   "source": [
    "mylist = [1,2,3,4,5,6,7,8,9,10]\n",
    "list_sum = 0\n",
    "for num in mylist:\n",
    "    list_sum += num\n",
    "print(list_sum)"
   ]
  },
  {
   "cell_type": "code",
   "execution_count": 40,
   "id": "feb0b685",
   "metadata": {},
   "outputs": [
    {
     "name": "stdout",
     "output_type": "stream",
     "text": [
      "MoHaMmAd\n",
      "MoHaMmAd\n",
      "MoHaMmAd\n",
      "MoHaMmAd\n",
      "MoHaMmAd\n",
      "MoHaMmAd\n",
      "MoHaMmAd\n",
      "MoHaMmAd\n",
      "MoHaMmAd\n",
      "MoHaMmAd\n",
      "MoHaMmAd\n"
     ]
    }
   ],
   "source": [
    "for string in 'hello world':\n",
    "    print('MoHaMmAd')"
   ]
  },
  {
   "cell_type": "markdown",
   "id": "c21b472b",
   "metadata": {},
   "source": [
    "<b>Tuple Unpacking</b>"
   ]
  },
  {
   "cell_type": "code",
   "execution_count": 41,
   "id": "3773ae1b",
   "metadata": {},
   "outputs": [],
   "source": [
    "my_list = [(1,2),(3,4),(5,6),(7,8)]"
   ]
  },
  {
   "cell_type": "code",
   "execution_count": 42,
   "id": "cfb0e3cc",
   "metadata": {},
   "outputs": [
    {
     "name": "stdout",
     "output_type": "stream",
     "text": [
      "(1, 2)\n",
      "(3, 4)\n",
      "(5, 6)\n",
      "(7, 8)\n"
     ]
    }
   ],
   "source": [
    "for num in my_list:\n",
    "    print(num)"
   ]
  },
  {
   "cell_type": "code",
   "execution_count": 43,
   "id": "c3243cc5",
   "metadata": {},
   "outputs": [
    {
     "name": "stdout",
     "output_type": "stream",
     "text": [
      "1 2\n",
      "3 4\n",
      "5 6\n",
      "7 8\n"
     ]
    }
   ],
   "source": [
    "for a,b in my_list:\n",
    "    print(a,b)"
   ]
  },
  {
   "cell_type": "code",
   "execution_count": 44,
   "id": "b2e9c57f",
   "metadata": {},
   "outputs": [
    {
     "name": "stdout",
     "output_type": "stream",
     "text": [
      "1\n",
      "2\n",
      "3\n",
      "4\n",
      "5\n",
      "6\n",
      "7\n",
      "8\n"
     ]
    }
   ],
   "source": [
    "for a,b in my_list:\n",
    "    print(a)\n",
    "    print(b)"
   ]
  },
  {
   "cell_type": "markdown",
   "id": "c326b148",
   "metadata": {},
   "source": [
    "<b>Dictionary Unpacking<b>"
   ]
  },
  {
   "cell_type": "code",
   "execution_count": 45,
   "id": "551735ae",
   "metadata": {},
   "outputs": [],
   "source": [
    "d = {'k1':1,'k2':2,'k3':3}"
   ]
  },
  {
   "cell_type": "code",
   "execution_count": 46,
   "id": "ca2ebe5d",
   "metadata": {
    "scrolled": true
   },
   "outputs": [
    {
     "name": "stdout",
     "output_type": "stream",
     "text": [
      "k1\n",
      "k2\n",
      "k3\n"
     ]
    }
   ],
   "source": [
    "for item in d:\n",
    "    print (item)"
   ]
  },
  {
   "cell_type": "code",
   "execution_count": 47,
   "id": "a035e4f6",
   "metadata": {},
   "outputs": [
    {
     "name": "stdout",
     "output_type": "stream",
     "text": [
      "('k1', 1)\n",
      "('k2', 2)\n",
      "('k3', 3)\n"
     ]
    }
   ],
   "source": [
    "for item in d.items():\n",
    "    print (item)"
   ]
  },
  {
   "cell_type": "code",
   "execution_count": 48,
   "id": "5427e24c",
   "metadata": {},
   "outputs": [
    {
     "name": "stdout",
     "output_type": "stream",
     "text": [
      "k1 1\n",
      "k2 2\n",
      "k3 3\n"
     ]
    }
   ],
   "source": [
    "for key,value in d.items():\n",
    "    print(key,value)"
   ]
  },
  {
   "cell_type": "code",
   "execution_count": 49,
   "id": "3a644312",
   "metadata": {},
   "outputs": [
    {
     "name": "stdout",
     "output_type": "stream",
     "text": [
      "[1, 2, 3]\n",
      "[1, 2, 3]\n",
      "[1, 2, 3]\n"
     ]
    }
   ],
   "source": [
    "for x in sorted(d.items()):\n",
    "    print(sorted(d.values()))\n"
   ]
  },
  {
   "cell_type": "markdown",
   "id": "af34bb72",
   "metadata": {},
   "source": [
    "<b>Using range(start,stop,step)</b>"
   ]
  },
  {
   "cell_type": "code",
   "execution_count": 50,
   "id": "d4ce82b7",
   "metadata": {},
   "outputs": [
    {
     "name": "stdout",
     "output_type": "stream",
     "text": [
      "0\n",
      "2\n",
      "4\n",
      "6\n",
      "8\n",
      "10\n"
     ]
    }
   ],
   "source": [
    "for num in range(0,11,2):\n",
    "    print(num)"
   ]
  },
  {
   "cell_type": "code",
   "execution_count": 51,
   "id": "6212d268",
   "metadata": {},
   "outputs": [
    {
     "name": "stdout",
     "output_type": "stream",
     "text": [
      "The current number is  1\n",
      "The current number is  2\n",
      "The current number is  3\n",
      "The current number is  4\n",
      "---------------------------\n",
      "The current number is  1\n",
      "The current number is  3\n",
      "The current number is  5\n",
      "---------------------------\n",
      "The current number is  5\n",
      "The current number is  4\n",
      "The current number is  3\n",
      "The current number is  2\n",
      "The current number is  1\n"
     ]
    }
   ],
   "source": [
    "for number in range(1,5):\n",
    "    print (\"The current number is \",number)\n",
    "print(\"---------------------------\")\n",
    "for number in range(1,7,2):\n",
    "    print (\"The current number is \",number)\n",
    "print(\"---------------------------\")\n",
    "for number in range(5,0,-1):\n",
    "    print (\"The current number is \",number)"
   ]
  },
  {
   "cell_type": "markdown",
   "id": "ee85bd85",
   "metadata": {},
   "source": [
    "<b>A loop within a loop is known as a nested loop.\n",
    "<br>\n",
    "Assume that there are 5 passengers and each of them have 2 baggages. The below code will make sure that all baggages of each passenger have undergone the security check.</b>"
   ]
  },
  {
   "cell_type": "code",
   "execution_count": 52,
   "id": "bfe71c73",
   "metadata": {},
   "outputs": [
    {
     "name": "stdout",
     "output_type": "stream",
     "text": [
      "Security check of passenger: 1 -- baggage: 1 baggage cleared\n",
      "Security check of passenger: 1 -- baggage: 2 baggage cleared\n",
      "Security check of passenger: 2 -- baggage: 1 baggage cleared\n",
      "Security check of passenger: 2 -- baggage: 2 baggage cleared\n",
      "Security check of passenger: 3 -- baggage: 1 baggage cleared\n",
      "Security check of passenger: 3 -- baggage: 2 baggage cleared\n",
      "Security check of passenger: 4 -- baggage: 1 baggage cleared\n",
      "Security check of passenger: 4 -- baggage: 2 baggage cleared\n",
      "Security check of passenger: 5 -- baggage: 1 baggage cleared\n",
      "Security check of passenger: 5 -- baggage: 2 baggage cleared\n"
     ]
    }
   ],
   "source": [
    "number_of_passengers=5\n",
    "number_of_baggage=2\n",
    "security_check=True\n",
    "for passenger_count in range(1, number_of_passengers+1):\n",
    "    for baggage_count in range(1,number_of_baggage+1):\n",
    "        if(security_check==True):\n",
    "            print(\"Security check of passenger:\", passenger_count, \"-- baggage:\", baggage_count,\"baggage cleared\")\n",
    "        else:\n",
    "            print(\"Security check of passenger:\", passenger_count, \"-- baggage:\", baggage_count,\"baggage not cleared\")\n"
   ]
  },
  {
   "cell_type": "markdown",
   "id": "8a289f43",
   "metadata": {},
   "source": [
    "<b> The same code in the inner loop can also be written using the while loop instead of the for loop as shown below: </b>"
   ]
  },
  {
   "cell_type": "code",
   "execution_count": 53,
   "id": "ee2452bd",
   "metadata": {},
   "outputs": [
    {
     "name": "stdout",
     "output_type": "stream",
     "text": [
      "Security check of passenger: 1 -- baggage: 1 baggage cleared\n",
      "Security check of passenger: 1 -- baggage: 2 baggage cleared\n",
      "Security check of passenger: 2 -- baggage: 1 baggage cleared\n",
      "Security check of passenger: 2 -- baggage: 2 baggage cleared\n",
      "Security check of passenger: 3 -- baggage: 1 baggage cleared\n",
      "Security check of passenger: 3 -- baggage: 2 baggage cleared\n",
      "Security check of passenger: 4 -- baggage: 1 baggage cleared\n",
      "Security check of passenger: 4 -- baggage: 2 baggage cleared\n",
      "Security check of passenger: 5 -- baggage: 1 baggage cleared\n",
      "Security check of passenger: 5 -- baggage: 2 baggage cleared\n"
     ]
    }
   ],
   "source": [
    "number_of_passengers=5\n",
    "number_of_baggage=2\n",
    "security_check=True\n",
    "for passenger_count in range(1, number_of_passengers+1):\n",
    "    baggage_count =1\n",
    "    while (baggage_count<=number_of_baggage):\n",
    "        if(security_check==True):\n",
    "            print(\"Security check of passenger:\", passenger_count, \"-- baggage:\", baggage_count,\"baggage cleared\")\n",
    "        else:\n",
    "            print(\"Security check of passenger:\", passenger_count, \"-- baggage:\", baggage_count,\"baggage not cleared\")\n",
    "        baggage_count+=1\n"
   ]
  },
  {
   "cell_type": "markdown",
   "id": "10a4d176",
   "metadata": {},
   "source": [
    "<b> Write a Python program to find the sum of digits of a given number.\n",
    "<br>\n",
    "Example: Sum of digits of the number 123 will be 6\n",
    "<br>\n",
    "Note: Initialize the number with various values and test your program.</b>"
   ]
  },
  {
   "cell_type": "code",
   "execution_count": 66,
   "id": "5c4d0623",
   "metadata": {},
   "outputs": [
    {
     "name": "stdout",
     "output_type": "stream",
     "text": [
      "Enter the no.: 123134\n",
      "Sum of the digits of a number 123134 is 14.\n"
     ]
    }
   ],
   "source": [
    "a = int(input(\"Enter the no.: \"))\n",
    "sum = 0\n",
    "for digit in str(a):\n",
    "    sum+=int(digit)\n",
    "print(f\"Sum of the digits of a number {a} is {sum}.\")\n"
   ]
  },
  {
   "cell_type": "markdown",
   "id": "2d8b0cf4",
   "metadata": {},
   "source": [
    "<b>\n",
    "The flow inside looping statements are controlled using the looping control statements like pass, break and continue.\n",
    "<br><br>\n",
    "When we want to stop a loop or break out of it, we can use the break statement.\n",
    "<br><br>\n",
    "When we want to skip the remaining statements in the current loop and continue with the next iteration, we can use continue statement.\n",
    "<br><br>\n",
    "Example:\n",
    "<br><br>\n",
    "Assume A – Adult passenger, C- Child, FC – Flight Captain, FA – Flight Attendant, SP – Suspicious passenger. \n",
    "<br><br>\n",
    "Also, assume the following conditions:\n",
    "<br><br>\n",
    "Flight captains and attendants do not require to check-in\n",
    "<br><br>\n",
    "In case suspicious passengers are found, need to declare an emergency at the airport\n",
    "<br><br>\n",
    "For other passengers such as adults and children, need to proceed with normal security check\n",
    "</b>   \n",
    "    \n",
    "    \n",
    "    \n",
    "    "
   ]
  },
  {
   "cell_type": "code",
   "execution_count": 67,
   "id": "9b12932a",
   "metadata": {},
   "outputs": [],
   "source": [
    "A = 'Adult passenger'\n",
    "C = 'Child' \n",
    "FC = 'Flight Captain' \n",
    "FA = 'Flight Attendant' \n",
    "SP = 'Suspicious passenger'"
   ]
  },
  {
   "cell_type": "code",
   "execution_count": 71,
   "id": "5478935e",
   "metadata": {},
   "outputs": [
    {
     "name": "stdout",
     "output_type": "stream",
     "text": [
      "Normal security check\n",
      "Check the Person\n",
      "Check for the cabin baggage\n",
      "Normal security check\n",
      "Check the Person\n",
      "Check for the cabin baggage\n",
      "Do not require to Check-in\n",
      "Do not require to Check-in\n",
      "Emergency Declared\n"
     ]
    }
   ],
   "source": [
    "for passenger in (A,C,FC,FA,SP):\n",
    "    if(passenger==FC or passenger==FA):\n",
    "        print(\"Do not require to Check-in\")\n",
    "        continue\n",
    "    elif(passenger==SP):\n",
    "        print(\"Emergency Declared\")\n",
    "        break\n",
    "    else:\n",
    "        print(\"Normal security check\")\n",
    "        \n",
    "        print(\"Check the Person\")\n",
    "        \n",
    "        print(\"Check for the cabin baggage\")"
   ]
  },
  {
   "cell_type": "markdown",
   "id": "c43a9778",
   "metadata": {},
   "source": [
    "<b> In Python, pass is a null statement which is used to do create empty blocks. When pass is executed, it results in no-operation and the control will move to the next statement applicable. Below example shows how pass can be used to create an empty if block. </b>"
   ]
  },
  {
   "cell_type": "code",
   "execution_count": 72,
   "id": "2af067f4",
   "metadata": {},
   "outputs": [
    {
     "name": "stdout",
     "output_type": "stream",
     "text": [
      "1\n",
      "3\n",
      "5\n",
      "7\n",
      "9\n"
     ]
    }
   ],
   "source": [
    "num=10\n",
    "count=0\n",
    "while(count <= num):\n",
    "    if(count%2 == 0):\n",
    "        pass\n",
    "    else:\n",
    "        print(count)\n",
    "    count+=1"
   ]
  },
  {
   "cell_type": "markdown",
   "id": "0dcc0702",
   "metadata": {},
   "source": [
    "<b>Write a Python program to check whether the given year is leap year or not.</b>\n",
    "\n"
   ]
  },
  {
   "cell_type": "code",
   "execution_count": 77,
   "id": "9bdae265",
   "metadata": {},
   "outputs": [
    {
     "name": "stdout",
     "output_type": "stream",
     "text": [
      "Enter Year: 2000\n",
      "2000 is a leap year.\n"
     ]
    }
   ],
   "source": [
    "year = int(input(\"Enter Year: \"))\n",
    "if year%400 == 0 and year%100 == 0:\n",
    "    print(f\"{year} is a leap year.\")\n",
    "elif year%4==0 and year%100!=0:\n",
    "    print(f\"{year} is a leap year.\")\n",
    "else:\n",
    "    print(f\"{year} is not a leap year.\")"
   ]
  },
  {
   "cell_type": "markdown",
   "id": "f7eaca9a",
   "metadata": {},
   "source": [
    "<b>Write a Python program to find and display the maximum of three given numbers. </b>"
   ]
  },
  {
   "cell_type": "code",
   "execution_count": 84,
   "id": "34511af6",
   "metadata": {},
   "outputs": [
    {
     "name": "stdout",
     "output_type": "stream",
     "text": [
      "Enter Number: 100\n",
      "Enter Number: 200\n",
      "Enter Number: 300\n",
      "num3 is a maximum number\n"
     ]
    }
   ],
   "source": [
    "num1 = int(input(\"Enter Number: \"))\n",
    "num2 = int(input(\"Enter Number: \"))\n",
    "num3 = int(input(\"Enter Number: \"))\n",
    "if num1>num2 and num1>num3:\n",
    "    print(\"num1 is a maximum number\")\n",
    "elif num2>num1 and num3<num2:\n",
    "    print(\"num2 is a maximum number\")\n",
    "else:\n",
    "    print(\"num3 is a maximum number\")"
   ]
  },
  {
   "cell_type": "markdown",
   "id": "0b024bfc",
   "metadata": {},
   "source": [
    "<b>Write a Python program to check the given number is prime number or not.</b>"
   ]
  },
  {
   "cell_type": "code",
   "execution_count": 117,
   "id": "a89ae3dc",
   "metadata": {
    "scrolled": false
   },
   "outputs": [
    {
     "name": "stdout",
     "output_type": "stream",
     "text": [
      "Enter the value of 'n': 5\n",
      "Fibonacci Series:  0 1 1 2 3 "
     ]
    }
   ],
   "source": [
    "num = int(input(\"Enter Number: \"))\n",
    "  \n",
    "# If given number is greater than 1\n",
    "if num > 1:\n",
    "  \n",
    "    # Iterate from 2 to n / 2\n",
    "    for i in range(2, int(num/2)+1):\n",
    "  \n",
    "        # If num is divisible by any number between\n",
    "        # 2 and n / 2, it is not prime\n",
    "        if (num % i) == 0:\n",
    "            print(num, \"is not a prime number\")\n",
    "            break\n",
    "    else:\n",
    "        print(num, \"is a prime number\")\n",
    "  \n",
    "else:\n",
    "    print(num, \"is not a prime number\")"
   ]
  },
  {
   "cell_type": "markdown",
   "id": "4c159e14",
   "metadata": {},
   "source": [
    "<b>Write a Python program to print first n Fibonacci numbers.</b>"
   ]
  },
  {
   "cell_type": "code",
   "execution_count": 118,
   "id": "739ed844",
   "metadata": {},
   "outputs": [
    {
     "name": "stdout",
     "output_type": "stream",
     "text": [
      "Enter the value of 'n': 5\n",
      "Fibonacci Series:  0 1 1 2 3 "
     ]
    }
   ],
   "source": [
    "n = int(input(\"Enter the value of 'n': \"))\n",
    "a = 0\n",
    "b = 1\n",
    "summ = 0\n",
    "count = 1\n",
    "print(\"Fibonacci Series: \", end = \" \")\n",
    "while(count <= n):\n",
    "  print(summ, end = \" \")\n",
    "  count += 1\n",
    "  a = b\n",
    "  b = summ\n",
    "  summ = a + b"
   ]
  },
  {
   "cell_type": "markdown",
   "id": "ef9e9b08",
   "metadata": {},
   "source": [
    "<b>\n",
    "An organization has decided to provide salary hike to its employees based on their job level. Employees can be in job levels 3 , 4 or 5. Hike percentage based on job levels are given below:\n",
    "\n",
    "Job level--------Hike Percentage (applicable on current salary)<br>\n",
    "\n",
    "3--------------------15<br>\n",
    "\n",
    "4---------------------7\n",
    "<br>\n",
    "5---------------------5\n",
    "<br>\n",
    "\n",
    " \n",
    "\n",
    "In case of invalid job level, consider hike percentage to be 0.\n",
    "<br>\n",
    "Given the current salary and job level, write a Python program to find and display the new salary of an employee.\n",
    "<b>\n",
    " "
   ]
  },
  {
   "cell_type": "code",
   "execution_count": 7,
   "id": "0a052cc2",
   "metadata": {},
   "outputs": [
    {
     "name": "stdout",
     "output_type": "stream",
     "text": [
      "Enter Your Job Level: 3\n",
      "Enter Your Current Salary: 20000\n",
      "New Salary after 15% Hike:  23000.0\n"
     ]
    }
   ],
   "source": [
    "Job_level = int(input(\"Enter Your Job Level: \"))\n",
    "Current_salary = int(input(\"Enter Your Current Salary: \"))\n",
    "if Job_level == 3:\n",
    "    print(\"New Salary after 15% Hike: \",Current_salary+Current_salary*0.15)\n",
    "elif Job_level == 4:\n",
    "    print(\"New Salary after 7% Hike: \",Current_salary+Current_salary*0.07)\n",
    "elif Job_level == 5:\n",
    "    print(\"New Salary after 5% Hike: \",Current_salary+Current_salary*0.05)\n",
    "else:\n",
    "    print(\"Your New Salary: \",Current_salary)"
   ]
  },
  {
   "cell_type": "markdown",
   "id": "1ec1a5fc",
   "metadata": {},
   "source": [
    "<b>Guess Game:<br><br>\n",
    "Build a Number guessing game, in which the user selects a range.<br>\n",
    "Let’s say User selected a range, i.e., from A to B, where A and B belong to Integer.<br>\n",
    "Some random integer will be selected by the system and the user has to guess that integer in the minimum number of guesses.</b>"
   ]
  },
  {
   "cell_type": "code",
   "execution_count": 38,
   "id": "6226aeb3",
   "metadata": {
    "scrolled": true
   },
   "outputs": [
    {
     "name": "stdout",
     "output_type": "stream",
     "text": [
      "Enter Any Number between 1 to 100: 18\n",
      "Congratulations! You Guessed it!\n"
     ]
    }
   ],
   "source": [
    "count = 1\n",
    "n=18\n",
    "while count<=3:\n",
    "    num = int(input(\"Enter Any Number between 1 to 100: \"))\n",
    "    \n",
    "    if num > n:\n",
    "        print(\"You guessed greater number!\")\n",
    "    elif num < n:\n",
    "        print(\"You guessed lesser number!\")\n",
    "    else:\n",
    "        print(\"Congratulations! You Guessed it!\")\n",
    "        break\n",
    "        \n",
    "        \n",
    "    print(f\"You have {3-count} guess left\")   \n",
    "    count+=1   \n",
    "    \n",
    "    \n",
    "else:\n",
    "    print(\"Better Luck Next Time!\")"
   ]
  },
  {
   "cell_type": "markdown",
   "id": "9e731f12",
   "metadata": {},
   "source": [
    "<b>program to display student's marks from record</b>\n"
   ]
  },
  {
   "cell_type": "code",
   "execution_count": 43,
   "id": "c5a8cf7a",
   "metadata": {},
   "outputs": [
    {
     "name": "stdout",
     "output_type": "stream",
     "text": [
      "Student not in a list\n"
     ]
    }
   ],
   "source": [
    "student_name = 'Soyuj'\n",
    "\n",
    "marks = {'James': 90, 'Jules': 55, 'Arthur': 77} #, 'Soyuj':50}\n",
    "\n",
    "for student in marks:\n",
    "    if student == student_name:\n",
    "        print(marks[student])\n",
    "        break\n",
    "else:\n",
    "    print('Student not in a list')\n",
    "    "
   ]
  },
  {
   "cell_type": "markdown",
   "id": "630928eb",
   "metadata": {},
   "source": [
    "<b>Program to add natural</b>"
   ]
  },
  {
   "cell_type": "code",
   "execution_count": 50,
   "id": "d2b8ed30",
   "metadata": {
    "scrolled": true
   },
   "outputs": [
    {
     "name": "stdout",
     "output_type": "stream",
     "text": [
      "Enter number: 2\n",
      "Summ of 1 to 2 is:  3\n"
     ]
    }
   ],
   "source": [
    "n = int(input(\"Enter number: \"))\n",
    "summ=0\n",
    "count=1\n",
    "while count<=n:\n",
    "    summ+=count\n",
    "    count+=1\n",
    "print(f\"Summ of 1 to {n} is: \",summ)"
   ]
  },
  {
   "cell_type": "markdown",
   "id": "924aa8e4",
   "metadata": {},
   "source": [
    "\n",
    "<b>check for duplicates</b>"
   ]
  },
  {
   "cell_type": "code",
   "execution_count": 60,
   "id": "397da9c7",
   "metadata": {},
   "outputs": [
    {
     "name": "stdout",
     "output_type": "stream",
     "text": [
      "{10, 1, 2, 3}\n"
     ]
    }
   ],
   "source": [
    "my_list = [1, 2, 2, 3, 4, 5, 6, 7, 8, 9, 10,10,1,3]\n",
    "my_set = set()\n",
    "for value in my_list:\n",
    "    if my_list.count(value)>1:\n",
    "        my_set.add(value)\n",
    "print(my_set)"
   ]
  },
  {
   "cell_type": "markdown",
   "id": "e43f6d6f",
   "metadata": {},
   "source": [
    "<b> Given a list of integer values, write a Python program to check whether the list contains the same number in adjacent positions. Display the count of such adjacent occurrences.\n",
    "\n",
    "Sample Input______Sample Output\n",
    "\n",
    "[1,1,5,100,-20,-20,6,0,0]_________3\n",
    "\n",
    "[10,20,30,40,30,20]________0\n",
    "\n",
    "[1,2,2,3,4,4,4,10]                 3\n",
    "\n",
    "</b>"
   ]
  },
  {
   "cell_type": "code",
   "execution_count": 31,
   "id": "2e1c292f",
   "metadata": {},
   "outputs": [
    {
     "name": "stdout",
     "output_type": "stream",
     "text": [
      "3\n"
     ]
    }
   ],
   "source": [
    "num_list = [1,1,5,100,-20,-20,6,0,0]  \n",
    "count=0\n",
    "i=0\n",
    "   \n",
    "while(i<(len(num_list)-1)):\n",
    "    if(num_list[i]==num_list[i+1]):\n",
    "        count+=1\n",
    "    i+=1\n",
    "    \n",
    "print(count)"
   ]
  },
  {
   "cell_type": "markdown",
   "id": "95642d09",
   "metadata": {},
   "source": [
    "<b> Write a Python program to generate the ticket numbers for specified number of passengers traveling in a flight as per the details mentioned below:\n",
    "The ticket number should be generated as airline:src:dest:number where\n",
    "\n",
    "Consider AL1 as the value for airline\n",
    "\n",
    "src and dest should be the first three characters of the source and destination cities.\n",
    "\n",
    "number should be auto-generated starting from 101\n",
    "\n",
    "The program should return the list of ticket numbers of last five passengers.\n",
    "Note: If passenger count is less than 5, then return the list of all generated ticket numbers.\n",
    "    </b>"
   ]
  },
  {
   "cell_type": "code",
   "execution_count": 35,
   "id": "1adb7bcc",
   "metadata": {
    "scrolled": true
   },
   "outputs": [
    {
     "name": "stdout",
     "output_type": "stream",
     "text": [
      "Enter the airline:AL1\n",
      "Enter the source:Lunawada\n",
      "Enter the destinationGodhra\n",
      "Enter the total number of passengers:6\n",
      "['AL1:Lun:God:102', 'AL1:Lun:God:103', 'AL1:Lun:God:104', 'AL1:Lun:God:105', 'AL1:Lun:God:106']\n"
     ]
    }
   ],
   "source": [
    "ticket_number_list = []\n",
    "airline, source, destination, no_of_passengers  =  input('Enter the airline:'), input ('Enter the source:')[:3], input('Enter the destination') [:3], int(input('Enter the total number of passengers:'))\n",
    "i = 0\n",
    "if no_of_passengers < 5:\n",
    "    while no_of_passengers != 0:\n",
    "        ticket_number_list.append(airline + \":\" + source[:3] + \":\" + destination[:3] + \":\" + str(101+i))\n",
    "        i = i+1\n",
    "        no_of_passengers = no_of_passengers - 1\n",
    "else:\n",
    "    for i in range(5):\n",
    "        ticket_number_list.append(airline + \":\" + source[:3] + \":\" + destination[:3] + \":\" + str(100+no_of_passengers))\n",
    "        i = i+1\n",
    "        no_of_passengers = no_of_passengers - 1\n",
    "ticket_number_list = ticket_number_list[::-1]\n",
    "\n",
    "print(ticket_number_list)"
   ]
  },
  {
   "cell_type": "markdown",
   "id": "2817a682",
   "metadata": {},
   "source": [
    "<b>Write a Python program to generate the next 15 leap years starting from a given year. Populate the leap years into a list and display the list.</b>"
   ]
  },
  {
   "cell_type": "code",
   "execution_count": 33,
   "id": "59a752b1",
   "metadata": {},
   "outputs": [
    {
     "name": "stdout",
     "output_type": "stream",
     "text": [
      "Enter Year: 1899\n",
      "[1900, 1904, 1908, 1912, 1916, 1920, 1924, 1928, 1932, 1936, 1940, 1944, 1948, 1952, 1956]\n"
     ]
    }
   ],
   "source": [
    "num = int(input(\"Enter Year: \"))\n",
    "mylist=[]\n",
    "count=0\n",
    "while count<15:\n",
    "    if num%4==0 or num%400==0 and num%100==0 :\n",
    "        mylist.append(num)\n",
    "        count+=1\n",
    "    num+=1\n",
    "print(mylist)"
   ]
  },
  {
   "cell_type": "markdown",
   "id": "7e7c1f4a",
   "metadata": {},
   "source": [
    "<b>enumerate()</b>"
   ]
  },
  {
   "cell_type": "code",
   "execution_count": 2,
   "id": "c51458fb",
   "metadata": {},
   "outputs": [
    {
     "name": "stdout",
     "output_type": "stream",
     "text": [
      "(0, 'a')\n",
      "(1, 'b')\n",
      "(2, 'c')\n",
      "(3, 'd')\n",
      "(4, 'e')\n"
     ]
    }
   ],
   "source": [
    "for items in enumerate('abcde'):\n",
    "    print(items)"
   ]
  },
  {
   "cell_type": "code",
   "execution_count": 3,
   "id": "6a1100f5",
   "metadata": {},
   "outputs": [
    {
     "name": "stdout",
     "output_type": "stream",
     "text": [
      "0\n",
      "a\n",
      "\n",
      "\n",
      "1\n",
      "b\n",
      "\n",
      "\n",
      "2\n",
      "c\n",
      "\n",
      "\n",
      "3\n",
      "d\n",
      "\n",
      "\n",
      "4\n",
      "e\n",
      "\n",
      "\n"
     ]
    }
   ],
   "source": [
    "for index,letter in enumerate('abcde'):\n",
    "    print(index)\n",
    "    print(letter)\n",
    "    print('\\n')"
   ]
  },
  {
   "cell_type": "code",
   "execution_count": null,
   "id": "49b93b48",
   "metadata": {},
   "outputs": [],
   "source": []
  }
 ],
 "metadata": {
  "kernelspec": {
   "display_name": "Python 3 (ipykernel)",
   "language": "python",
   "name": "python3"
  },
  "language_info": {
   "codemirror_mode": {
    "name": "ipython",
    "version": 3
   },
   "file_extension": ".py",
   "mimetype": "text/x-python",
   "name": "python",
   "nbconvert_exporter": "python",
   "pygments_lexer": "ipython3",
   "version": "3.9.7"
  }
 },
 "nbformat": 4,
 "nbformat_minor": 5
}
