{
 "cells": [
  {
   "cell_type": "markdown",
   "id": "34be3d1a",
   "metadata": {},
   "source": [
    "<b>Text values composed of a sequence of characters</b>"
   ]
  },
  {
   "cell_type": "code",
   "execution_count": 1,
   "id": "92e9a510",
   "metadata": {},
   "outputs": [
    {
     "ename": "NameError",
     "evalue": "name 'Mohammad' is not defined",
     "output_type": "error",
     "traceback": [
      "\u001b[1;31m---------------------------------------------------------------------------\u001b[0m",
      "\u001b[1;31mNameError\u001b[0m                                 Traceback (most recent call last)",
      "\u001b[1;32mC:\\Users\\MOHAMM~1\\AppData\\Local\\Temp/ipykernel_10076/1732674387.py\u001b[0m in \u001b[0;36m<module>\u001b[1;34m\u001b[0m\n\u001b[1;32m----> 1\u001b[1;33m \u001b[0mMohammad\u001b[0m\u001b[1;33m\u001b[0m\u001b[1;33m\u001b[0m\u001b[0m\n\u001b[0m",
      "\u001b[1;31mNameError\u001b[0m: name 'Mohammad' is not defined"
     ]
    }
   ],
   "source": [
    "Mohammad"
   ]
  },
  {
   "cell_type": "code",
   "execution_count": null,
   "id": "64f32fad",
   "metadata": {},
   "outputs": [],
   "source": [
    "'Mohammad'"
   ]
  },
  {
   "cell_type": "code",
   "execution_count": 2,
   "id": "87aaa2bb",
   "metadata": {},
   "outputs": [
    {
     "data": {
      "text/plain": [
       "'Mohammad'"
      ]
     },
     "execution_count": 2,
     "metadata": {},
     "output_type": "execute_result"
    }
   ],
   "source": [
    "\"Mohammad\""
   ]
  },
  {
   "cell_type": "code",
   "execution_count": 3,
   "id": "0fddf533",
   "metadata": {},
   "outputs": [
    {
     "name": "stdout",
     "output_type": "stream",
     "text": [
      "Mohammad\n"
     ]
    }
   ],
   "source": [
    "print('Mohammad')"
   ]
  },
  {
   "cell_type": "code",
   "execution_count": 4,
   "id": "d34f57da",
   "metadata": {},
   "outputs": [],
   "source": [
    "name = 'Mohammad'"
   ]
  },
  {
   "cell_type": "code",
   "execution_count": 5,
   "id": "d848350f",
   "metadata": {},
   "outputs": [
    {
     "name": "stdout",
     "output_type": "stream",
     "text": [
      "Mohammad\n"
     ]
    }
   ],
   "source": [
    "print(name)"
   ]
  },
  {
   "cell_type": "code",
   "execution_count": 6,
   "id": "2c1a0d1c",
   "metadata": {},
   "outputs": [
    {
     "ename": "TypeError",
     "evalue": "unsupported operand type(s) for +: 'int' and 'str'",
     "output_type": "error",
     "traceback": [
      "\u001b[1;31m---------------------------------------------------------------------------\u001b[0m",
      "\u001b[1;31mTypeError\u001b[0m                                 Traceback (most recent call last)",
      "\u001b[1;32mC:\\Users\\MOHAMM~1\\AppData\\Local\\Temp/ipykernel_10076/2154215115.py\u001b[0m in \u001b[0;36m<module>\u001b[1;34m\u001b[0m\n\u001b[0;32m      1\u001b[0m \u001b[0my\u001b[0m \u001b[1;33m=\u001b[0m \u001b[1;36m10\u001b[0m\u001b[1;33m\u001b[0m\u001b[1;33m\u001b[0m\u001b[0m\n\u001b[1;32m----> 2\u001b[1;33m \u001b[0mprint\u001b[0m\u001b[1;33m(\u001b[0m\u001b[0my\u001b[0m \u001b[1;33m+\u001b[0m \u001b[0mname\u001b[0m\u001b[1;33m)\u001b[0m\u001b[1;33m\u001b[0m\u001b[1;33m\u001b[0m\u001b[0m\n\u001b[0m",
      "\u001b[1;31mTypeError\u001b[0m: unsupported operand type(s) for +: 'int' and 'str'"
     ]
    }
   ],
   "source": [
    "y = 10\n",
    "print(y + name)"
   ]
  },
  {
   "cell_type": "code",
   "execution_count": 7,
   "id": "1f39af0a",
   "metadata": {},
   "outputs": [
    {
     "name": "stdout",
     "output_type": "stream",
     "text": [
      "10Mohammad\n"
     ]
    }
   ],
   "source": [
    "print(str(y) + name)"
   ]
  },
  {
   "cell_type": "code",
   "execution_count": 8,
   "id": "7ec611d5",
   "metadata": {},
   "outputs": [
    {
     "name": "stdout",
     "output_type": "stream",
     "text": [
      "10 Mohammad\n"
     ]
    }
   ],
   "source": [
    "print(str(y) + \" \" +name)"
   ]
  },
  {
   "cell_type": "code",
   "execution_count": 9,
   "id": "761c5fc1",
   "metadata": {},
   "outputs": [
    {
     "ename": "SyntaxError",
     "evalue": "invalid syntax (Temp/ipykernel_10076/3537474532.py, line 1)",
     "output_type": "error",
     "traceback": [
      "\u001b[1;36m  File \u001b[1;32m\"C:\\Users\\MOHAMM~1\\AppData\\Local\\Temp/ipykernel_10076/3537474532.py\"\u001b[1;36m, line \u001b[1;32m1\u001b[0m\n\u001b[1;33m    'I'm fine'\u001b[0m\n\u001b[1;37m       ^\u001b[0m\n\u001b[1;31mSyntaxError\u001b[0m\u001b[1;31m:\u001b[0m invalid syntax\n"
     ]
    }
   ],
   "source": [
    "'I'm fine'"
   ]
  },
  {
   "cell_type": "code",
   "execution_count": 10,
   "id": "ad2f969a",
   "metadata": {},
   "outputs": [
    {
     "data": {
      "text/plain": [
       "\"I'm fine\""
      ]
     },
     "execution_count": 10,
     "metadata": {},
     "output_type": "execute_result"
    }
   ],
   "source": [
    "\"I'm fine\""
   ]
  },
  {
   "cell_type": "code",
   "execution_count": 11,
   "id": "7dab2633",
   "metadata": {},
   "outputs": [
    {
     "data": {
      "text/plain": [
       "\"I'm fine\""
      ]
     },
     "execution_count": 11,
     "metadata": {},
     "output_type": "execute_result"
    }
   ],
   "source": [
    "'I\\'m fine'"
   ]
  },
  {
   "cell_type": "markdown",
   "id": "2c7d0a11",
   "metadata": {},
   "source": [
    "<b>\\ - escape character</b>"
   ]
  },
  {
   "cell_type": "code",
   "execution_count": 12,
   "id": "f9d8d9a5",
   "metadata": {},
   "outputs": [
    {
     "data": {
      "text/plain": [
       "'redcar'"
      ]
     },
     "execution_count": 12,
     "metadata": {},
     "output_type": "execute_result"
    }
   ],
   "source": [
    "'red' 'car'"
   ]
  },
  {
   "cell_type": "code",
   "execution_count": 13,
   "id": "3e945674",
   "metadata": {},
   "outputs": [
    {
     "data": {
      "text/plain": [
       "'red car'"
      ]
     },
     "execution_count": 13,
     "metadata": {},
     "output_type": "execute_result"
    }
   ],
   "source": [
    "'red ' 'car'"
   ]
  },
  {
   "cell_type": "code",
   "execution_count": 14,
   "id": "d63c215a",
   "metadata": {},
   "outputs": [
    {
     "data": {
      "text/plain": [
       "'red car'"
      ]
     },
     "execution_count": 14,
     "metadata": {},
     "output_type": "execute_result"
    }
   ],
   "source": [
    "'red ' + 'car'"
   ]
  },
  {
   "cell_type": "code",
   "execution_count": 15,
   "id": "d286554e",
   "metadata": {},
   "outputs": [
    {
     "name": "stdout",
     "output_type": "stream",
     "text": [
      "red car\n"
     ]
    }
   ],
   "source": [
    "print('red ' + 'car')"
   ]
  },
  {
   "cell_type": "code",
   "execution_count": 16,
   "id": "96522eb1",
   "metadata": {},
   "outputs": [
    {
     "name": "stdout",
     "output_type": "stream",
     "text": [
      "red car\n"
     ]
    }
   ],
   "source": [
    "print('red','car')"
   ]
  },
  {
   "cell_type": "code",
   "execution_count": 17,
   "id": "1e1c8502",
   "metadata": {},
   "outputs": [
    {
     "name": "stdout",
     "output_type": "stream",
     "text": [
      "3 5\n"
     ]
    }
   ],
   "source": [
    "print(3,5)"
   ]
  },
  {
   "cell_type": "code",
   "execution_count": 19,
   "id": "b7c4b36e",
   "metadata": {},
   "outputs": [
    {
     "data": {
      "text/plain": [
       "(3, 5, 3.5, 'red')"
      ]
     },
     "execution_count": 19,
     "metadata": {},
     "output_type": "execute_result"
    }
   ],
   "source": [
    "3,5,3.5,'red'"
   ]
  },
  {
   "cell_type": "markdown",
   "id": "6c29edc0",
   "metadata": {},
   "source": [
    "<b>Indexing & Slicing</b>"
   ]
  },
  {
   "cell_type": "markdown",
   "id": "0596aa11",
   "metadata": {},
   "source": [
    "<b>\n",
    "Indexing starts with 0</b>"
   ]
  },
  {
   "cell_type": "code",
   "execution_count": 20,
   "id": "d85d7d01",
   "metadata": {},
   "outputs": [],
   "source": [
    "x='mohammad'"
   ]
  },
  {
   "cell_type": "code",
   "execution_count": 21,
   "id": "01b10d1f",
   "metadata": {},
   "outputs": [
    {
     "name": "stdout",
     "output_type": "stream",
     "text": [
      "m\n"
     ]
    }
   ],
   "source": [
    "print(x[4])"
   ]
  },
  {
   "cell_type": "code",
   "execution_count": 23,
   "id": "31c1a80f",
   "metadata": {},
   "outputs": [
    {
     "name": "stdout",
     "output_type": "stream",
     "text": [
      "o\n"
     ]
    }
   ],
   "source": [
    "print(x[1])"
   ]
  },
  {
   "cell_type": "code",
   "execution_count": 25,
   "id": "d2d903cc",
   "metadata": {},
   "outputs": [
    {
     "name": "stdout",
     "output_type": "stream",
     "text": [
      "d\n"
     ]
    }
   ],
   "source": [
    "print(x[-1]) #reverse \n"
   ]
  },
  {
   "cell_type": "markdown",
   "id": "dc235ccf",
   "metadata": {},
   "source": [
    "<b>Slicing [start:stop:[step]] stop- upto but not incluing. step - jump by.</b>"
   ]
  },
  {
   "cell_type": "code",
   "execution_count": 26,
   "id": "5151d681",
   "metadata": {},
   "outputs": [],
   "source": [
    "x='abcdefghi'"
   ]
  },
  {
   "cell_type": "code",
   "execution_count": 27,
   "id": "a738d336",
   "metadata": {},
   "outputs": [
    {
     "data": {
      "text/plain": [
       "'bcde'"
      ]
     },
     "execution_count": 27,
     "metadata": {},
     "output_type": "execute_result"
    }
   ],
   "source": [
    "x[1:5]"
   ]
  },
  {
   "cell_type": "code",
   "execution_count": 28,
   "id": "9fcc04a5",
   "metadata": {},
   "outputs": [
    {
     "data": {
      "text/plain": [
       "'f'"
      ]
     },
     "execution_count": 28,
     "metadata": {},
     "output_type": "execute_result"
    }
   ],
   "source": [
    "x[5]"
   ]
  },
  {
   "cell_type": "code",
   "execution_count": 29,
   "id": "1d2032e5",
   "metadata": {},
   "outputs": [
    {
     "data": {
      "text/plain": [
       "'abcde'"
      ]
     },
     "execution_count": 29,
     "metadata": {},
     "output_type": "execute_result"
    }
   ],
   "source": [
    "x[:5]"
   ]
  },
  {
   "cell_type": "code",
   "execution_count": 30,
   "id": "2d3a07ec",
   "metadata": {},
   "outputs": [
    {
     "data": {
      "text/plain": [
       "'bdf'"
      ]
     },
     "execution_count": 30,
     "metadata": {},
     "output_type": "execute_result"
    }
   ],
   "source": [
    "x[1:6:2]"
   ]
  },
  {
   "cell_type": "code",
   "execution_count": 31,
   "id": "bcd2b22c",
   "metadata": {},
   "outputs": [
    {
     "data": {
      "text/plain": [
       "'ihgfedcba'"
      ]
     },
     "execution_count": 31,
     "metadata": {},
     "output_type": "execute_result"
    }
   ],
   "source": [
    "x[::-1] #reverse the string"
   ]
  },
  {
   "cell_type": "markdown",
   "id": "821645be",
   "metadata": {},
   "source": [
    "<b>String Properties\n",
    "</b>"
   ]
  },
  {
   "cell_type": "markdown",
   "id": "675b7216",
   "metadata": {},
   "source": [
    "<b>Strings are Immutable. It means we can't mutate or change.</b>"
   ]
  },
  {
   "cell_type": "code",
   "execution_count": 32,
   "id": "b582b68f",
   "metadata": {},
   "outputs": [],
   "source": [
    "a= 'Sam'"
   ]
  },
  {
   "cell_type": "code",
   "execution_count": 33,
   "id": "75edd92d",
   "metadata": {},
   "outputs": [
    {
     "data": {
      "text/plain": [
       "'S'"
      ]
     },
     "execution_count": 33,
     "metadata": {},
     "output_type": "execute_result"
    }
   ],
   "source": [
    "a[0]"
   ]
  },
  {
   "cell_type": "code",
   "execution_count": 34,
   "id": "2ad58e4a",
   "metadata": {},
   "outputs": [
    {
     "ename": "TypeError",
     "evalue": "'str' object does not support item assignment",
     "output_type": "error",
     "traceback": [
      "\u001b[1;31m---------------------------------------------------------------------------\u001b[0m",
      "\u001b[1;31mTypeError\u001b[0m                                 Traceback (most recent call last)",
      "\u001b[1;32mC:\\Users\\MOHAMM~1\\AppData\\Local\\Temp/ipykernel_10076/3571479716.py\u001b[0m in \u001b[0;36m<module>\u001b[1;34m\u001b[0m\n\u001b[1;32m----> 1\u001b[1;33m \u001b[0ma\u001b[0m\u001b[1;33m[\u001b[0m\u001b[1;36m0\u001b[0m\u001b[1;33m]\u001b[0m \u001b[1;33m=\u001b[0m \u001b[1;34m'p'\u001b[0m\u001b[1;33m\u001b[0m\u001b[1;33m\u001b[0m\u001b[0m\n\u001b[0m",
      "\u001b[1;31mTypeError\u001b[0m: 'str' object does not support item assignment"
     ]
    }
   ],
   "source": [
    "a[0] = 'p'"
   ]
  },
  {
   "cell_type": "markdown",
   "id": "a8dc4091",
   "metadata": {},
   "source": [
    "<b>We can't do this. Instead we can use slicing and then concatenation.</b>"
   ]
  },
  {
   "cell_type": "code",
   "execution_count": 35,
   "id": "c9720353",
   "metadata": {},
   "outputs": [
    {
     "data": {
      "text/plain": [
       "'am'"
      ]
     },
     "execution_count": 35,
     "metadata": {},
     "output_type": "execute_result"
    }
   ],
   "source": [
    "a[1:]"
   ]
  },
  {
   "cell_type": "code",
   "execution_count": 36,
   "id": "77dc912f",
   "metadata": {},
   "outputs": [
    {
     "data": {
      "text/plain": [
       "'Pam'"
      ]
     },
     "execution_count": 36,
     "metadata": {},
     "output_type": "execute_result"
    }
   ],
   "source": [
    "'P'+a[1:]"
   ]
  },
  {
   "cell_type": "markdown",
   "id": "8f9be5a8",
   "metadata": {},
   "source": [
    "<b>String multiplication addition</b>"
   ]
  },
  {
   "cell_type": "code",
   "execution_count": 37,
   "id": "6d949ca9",
   "metadata": {},
   "outputs": [],
   "source": [
    "letter = 'z'"
   ]
  },
  {
   "cell_type": "code",
   "execution_count": 38,
   "id": "87462e37",
   "metadata": {},
   "outputs": [
    {
     "data": {
      "text/plain": [
       "'zzzzzzzzzz'"
      ]
     },
     "execution_count": 38,
     "metadata": {},
     "output_type": "execute_result"
    }
   ],
   "source": [
    "letter*10"
   ]
  },
  {
   "cell_type": "code",
   "execution_count": 39,
   "id": "cab781cd",
   "metadata": {},
   "outputs": [
    {
     "ename": "TypeError",
     "evalue": "can't multiply sequence by non-int of type 'str'",
     "output_type": "error",
     "traceback": [
      "\u001b[1;31m---------------------------------------------------------------------------\u001b[0m",
      "\u001b[1;31mTypeError\u001b[0m                                 Traceback (most recent call last)",
      "\u001b[1;32mC:\\Users\\MOHAMM~1\\AppData\\Local\\Temp/ipykernel_10076/1161922263.py\u001b[0m in \u001b[0;36m<module>\u001b[1;34m\u001b[0m\n\u001b[1;32m----> 1\u001b[1;33m \u001b[1;34m'2'\u001b[0m\u001b[1;33m*\u001b[0m\u001b[1;34m'2'\u001b[0m\u001b[1;33m\u001b[0m\u001b[1;33m\u001b[0m\u001b[0m\n\u001b[0m",
      "\u001b[1;31mTypeError\u001b[0m: can't multiply sequence by non-int of type 'str'"
     ]
    }
   ],
   "source": [
    "'2'*'2'"
   ]
  },
  {
   "cell_type": "code",
   "execution_count": 40,
   "id": "d725ec68",
   "metadata": {},
   "outputs": [
    {
     "data": {
      "text/plain": [
       "'22'"
      ]
     },
     "execution_count": 40,
     "metadata": {},
     "output_type": "execute_result"
    }
   ],
   "source": [
    "'2'*2"
   ]
  },
  {
   "cell_type": "code",
   "execution_count": 41,
   "id": "491ed31d",
   "metadata": {},
   "outputs": [
    {
     "data": {
      "text/plain": [
       "'22'"
      ]
     },
     "execution_count": 41,
     "metadata": {},
     "output_type": "execute_result"
    }
   ],
   "source": [
    "'2'+'2'"
   ]
  },
  {
   "cell_type": "code",
   "execution_count": 42,
   "id": "97adaa95",
   "metadata": {},
   "outputs": [
    {
     "ename": "TypeError",
     "evalue": "can only concatenate str (not \"int\") to str",
     "output_type": "error",
     "traceback": [
      "\u001b[1;31m---------------------------------------------------------------------------\u001b[0m",
      "\u001b[1;31mTypeError\u001b[0m                                 Traceback (most recent call last)",
      "\u001b[1;32mC:\\Users\\MOHAMM~1\\AppData\\Local\\Temp/ipykernel_10076/4007988369.py\u001b[0m in \u001b[0;36m<module>\u001b[1;34m\u001b[0m\n\u001b[1;32m----> 1\u001b[1;33m \u001b[1;34m'2'\u001b[0m\u001b[1;33m+\u001b[0m\u001b[1;36m2\u001b[0m\u001b[1;33m\u001b[0m\u001b[1;33m\u001b[0m\u001b[0m\n\u001b[0m",
      "\u001b[1;31mTypeError\u001b[0m: can only concatenate str (not \"int\") to str"
     ]
    }
   ],
   "source": [
    "'2'+2"
   ]
  },
  {
   "cell_type": "markdown",
   "id": "59de7290",
   "metadata": {},
   "source": [
    "<b>String Methods</b>"
   ]
  },
  {
   "cell_type": "code",
   "execution_count": 43,
   "id": "4f1fa445",
   "metadata": {},
   "outputs": [],
   "source": [
    "n='mohammad rashid'"
   ]
  },
  {
   "cell_type": "code",
   "execution_count": 44,
   "id": "63667964",
   "metadata": {},
   "outputs": [
    {
     "data": {
      "text/plain": [
       "'MOHAMMAD RASHID'"
      ]
     },
     "execution_count": 44,
     "metadata": {},
     "output_type": "execute_result"
    }
   ],
   "source": [
    "n.upper()"
   ]
  },
  {
   "cell_type": "code",
   "execution_count": 45,
   "id": "60d4d0ef",
   "metadata": {},
   "outputs": [
    {
     "data": {
      "text/plain": [
       "'mohammad rashid'"
      ]
     },
     "execution_count": 45,
     "metadata": {},
     "output_type": "execute_result"
    }
   ],
   "source": [
    "n.lower()"
   ]
  },
  {
   "cell_type": "code",
   "execution_count": 47,
   "id": "1ff713ce",
   "metadata": {},
   "outputs": [
    {
     "data": {
      "text/plain": [
       "'Mohammad rashid'"
      ]
     },
     "execution_count": 47,
     "metadata": {},
     "output_type": "execute_result"
    }
   ],
   "source": [
    "n.capitalize()"
   ]
  },
  {
   "cell_type": "code",
   "execution_count": 50,
   "id": "5a5e47e0",
   "metadata": {},
   "outputs": [
    {
     "data": {
      "text/plain": [
       "3"
      ]
     },
     "execution_count": 50,
     "metadata": {},
     "output_type": "execute_result"
    }
   ],
   "source": [
    "n.count('m')"
   ]
  },
  {
   "cell_type": "code",
   "execution_count": 52,
   "id": "dc05fe57",
   "metadata": {},
   "outputs": [
    {
     "data": {
      "text/plain": [
       "False"
      ]
     },
     "execution_count": 52,
     "metadata": {},
     "output_type": "execute_result"
    }
   ],
   "source": [
    "n.endswith('a')"
   ]
  },
  {
   "cell_type": "code",
   "execution_count": 53,
   "id": "7cd6d6de",
   "metadata": {},
   "outputs": [
    {
     "data": {
      "text/plain": [
       "True"
      ]
     },
     "execution_count": 53,
     "metadata": {},
     "output_type": "execute_result"
    }
   ],
   "source": [
    "n.endswith('d')"
   ]
  },
  {
   "cell_type": "code",
   "execution_count": 54,
   "id": "35638007",
   "metadata": {},
   "outputs": [
    {
     "data": {
      "text/plain": [
       "0"
      ]
     },
     "execution_count": 54,
     "metadata": {},
     "output_type": "execute_result"
    }
   ],
   "source": [
    "n.find('m')"
   ]
  },
  {
   "cell_type": "code",
   "execution_count": 56,
   "id": "7352c5b8",
   "metadata": {},
   "outputs": [
    {
     "data": {
      "text/plain": [
       "4"
      ]
     },
     "execution_count": 56,
     "metadata": {},
     "output_type": "execute_result"
    }
   ],
   "source": [
    "n.find('m',2)"
   ]
  },
  {
   "cell_type": "code",
   "execution_count": 58,
   "id": "74b9aa03",
   "metadata": {},
   "outputs": [
    {
     "data": {
      "text/plain": [
       "7"
      ]
     },
     "execution_count": 58,
     "metadata": {},
     "output_type": "execute_result"
    }
   ],
   "source": [
    "n.index('d')"
   ]
  },
  {
   "cell_type": "code",
   "execution_count": 72,
   "id": "10bc8fc0",
   "metadata": {},
   "outputs": [
    {
     "data": {
      "text/plain": [
       "['m', 'hammad rashid']"
      ]
     },
     "execution_count": 72,
     "metadata": {},
     "output_type": "execute_result"
    }
   ],
   "source": [
    "n.split('o')"
   ]
  },
  {
   "cell_type": "code",
   "execution_count": 64,
   "id": "f9b27caf",
   "metadata": {},
   "outputs": [
    {
     "data": {
      "text/plain": [
       "'m0hammad rashid'"
      ]
     },
     "execution_count": 64,
     "metadata": {},
     "output_type": "execute_result"
    }
   ],
   "source": [
    "n.replace('o','0')"
   ]
  },
  {
   "cell_type": "code",
   "execution_count": 65,
   "id": "ea08a893",
   "metadata": {},
   "outputs": [
    {
     "data": {
      "text/plain": [
       "'MohaMmad rashid'"
      ]
     },
     "execution_count": 65,
     "metadata": {},
     "output_type": "execute_result"
    }
   ],
   "source": [
    "n.replace('m','M',2)"
   ]
  },
  {
   "cell_type": "code",
   "execution_count": 68,
   "id": "4c20e4ac",
   "metadata": {},
   "outputs": [
    {
     "data": {
      "text/plain": [
       "'zzzmohammad rashidzzz'"
      ]
     },
     "execution_count": 68,
     "metadata": {},
     "output_type": "execute_result"
    }
   ],
   "source": [
    "n.center(21,'z')"
   ]
  },
  {
   "cell_type": "code",
   "execution_count": 73,
   "id": "51602910",
   "metadata": {},
   "outputs": [
    {
     "data": {
      "text/plain": [
       "('mohamma', 'd', ' rashid')"
      ]
     },
     "execution_count": 73,
     "metadata": {},
     "output_type": "execute_result"
    }
   ],
   "source": [
    "n.partition('d')"
   ]
  },
  {
   "cell_type": "code",
   "execution_count": 74,
   "id": "98caaae2",
   "metadata": {},
   "outputs": [
    {
     "data": {
      "text/plain": [
       "'a--b--c'"
      ]
     },
     "execution_count": 74,
     "metadata": {},
     "output_type": "execute_result"
    }
   ],
   "source": [
    "abc = 'a','b','c'\n",
    "'--'.join(abc)"
   ]
  },
  {
   "cell_type": "markdown",
   "id": "97560a72",
   "metadata": {},
   "source": [
    "<b>ischeck methods returns true or false. isalnum() isalpha() isupper() islower() isspace() istitle()</b>"
   ]
  },
  {
   "cell_type": "markdown",
   "id": "c510247e",
   "metadata": {},
   "source": [
    "<b>f-string </b>"
   ]
  },
  {
   "cell_type": "code",
   "execution_count": 75,
   "id": "5eb358e1",
   "metadata": {},
   "outputs": [],
   "source": [
    "name = 'mohammad'\n",
    "age = 24"
   ]
  },
  {
   "cell_type": "code",
   "execution_count": 76,
   "id": "84efb6ca",
   "metadata": {},
   "outputs": [
    {
     "data": {
      "text/plain": [
       "'my name is mohammad and age is 24'"
      ]
     },
     "execution_count": 76,
     "metadata": {},
     "output_type": "execute_result"
    }
   ],
   "source": [
    "f'my name is {name} and age is {age}'"
   ]
  },
  {
   "cell_type": "markdown",
   "id": "895f8c8e",
   "metadata": {},
   "source": [
    "<b>.format()\n",
    "</b>"
   ]
  },
  {
   "cell_type": "code",
   "execution_count": 77,
   "id": "a6c7fd01",
   "metadata": {},
   "outputs": [
    {
     "data": {
      "text/plain": [
       "'my name is mohammad and age is 24'"
      ]
     },
     "execution_count": 77,
     "metadata": {},
     "output_type": "execute_result"
    }
   ],
   "source": [
    "'my name is {} and age is {}'.format(name,age)"
   ]
  }
 ],
 "metadata": {
  "kernelspec": {
   "display_name": "Python 3 (ipykernel)",
   "language": "python",
   "name": "python3"
  },
  "language_info": {
   "codemirror_mode": {
    "name": "ipython",
    "version": 3
   },
   "file_extension": ".py",
   "mimetype": "text/x-python",
   "name": "python",
   "nbconvert_exporter": "python",
   "pygments_lexer": "ipython3",
   "version": "3.9.7"
  }
 },
 "nbformat": 4,
 "nbformat_minor": 5
}
