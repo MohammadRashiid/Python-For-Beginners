{
 "cells": [
  {
   "cell_type": "markdown",
   "id": "f3348643",
   "metadata": {},
   "source": [
    "<b>Lists are ordered sequences of objects that can hold a variety of object types.</b>"
   ]
  },
  {
   "cell_type": "code",
   "execution_count": 1,
   "id": "045fcdba",
   "metadata": {},
   "outputs": [],
   "source": [
    "a = [1,2,3,4,5]"
   ]
  },
  {
   "cell_type": "code",
   "execution_count": 2,
   "id": "93aa2c6e",
   "metadata": {},
   "outputs": [
    {
     "data": {
      "text/plain": [
       "[1, 2, 3, 4, 5]"
      ]
     },
     "execution_count": 2,
     "metadata": {},
     "output_type": "execute_result"
    }
   ],
   "source": [
    "a"
   ]
  },
  {
   "cell_type": "code",
   "execution_count": 3,
   "id": "08ea4e28",
   "metadata": {},
   "outputs": [],
   "source": [
    "b= [1,'a',2.3,-2]"
   ]
  },
  {
   "cell_type": "code",
   "execution_count": 4,
   "id": "7c759cc6",
   "metadata": {},
   "outputs": [
    {
     "data": {
      "text/plain": [
       "[1, 'a', 2.3, -2]"
      ]
     },
     "execution_count": 4,
     "metadata": {},
     "output_type": "execute_result"
    }
   ],
   "source": [
    "b"
   ]
  },
  {
   "cell_type": "code",
   "execution_count": 5,
   "id": "8a923f97",
   "metadata": {},
   "outputs": [],
   "source": [
    "c = [1,['a',2],2.2]"
   ]
  },
  {
   "cell_type": "code",
   "execution_count": 6,
   "id": "e53c4646",
   "metadata": {},
   "outputs": [
    {
     "data": {
      "text/plain": [
       "[1, ['a', 2], 2.2]"
      ]
     },
     "execution_count": 6,
     "metadata": {},
     "output_type": "execute_result"
    }
   ],
   "source": [
    "c"
   ]
  },
  {
   "cell_type": "code",
   "execution_count": 7,
   "id": "5ee140c9",
   "metadata": {},
   "outputs": [
    {
     "data": {
      "text/plain": [
       "4"
      ]
     },
     "execution_count": 7,
     "metadata": {},
     "output_type": "execute_result"
    }
   ],
   "source": [
    "len(b) #length"
   ]
  },
  {
   "cell_type": "code",
   "execution_count": 8,
   "id": "e2502df2",
   "metadata": {},
   "outputs": [
    {
     "data": {
      "text/plain": [
       "3"
      ]
     },
     "execution_count": 8,
     "metadata": {},
     "output_type": "execute_result"
    }
   ],
   "source": [
    "len(c)"
   ]
  },
  {
   "cell_type": "markdown",
   "id": "85e4875c",
   "metadata": {},
   "source": [
    "<b>Indexing & Slicing</b>"
   ]
  },
  {
   "cell_type": "code",
   "execution_count": 9,
   "id": "efd0977b",
   "metadata": {},
   "outputs": [
    {
     "data": {
      "text/plain": [
       "['a', 2]"
      ]
     },
     "execution_count": 9,
     "metadata": {},
     "output_type": "execute_result"
    }
   ],
   "source": [
    "c[1]"
   ]
  },
  {
   "cell_type": "code",
   "execution_count": 11,
   "id": "b868079c",
   "metadata": {},
   "outputs": [
    {
     "data": {
      "text/plain": [
       "2"
      ]
     },
     "execution_count": 11,
     "metadata": {},
     "output_type": "execute_result"
    }
   ],
   "source": [
    "c[1][1]"
   ]
  },
  {
   "cell_type": "code",
   "execution_count": 12,
   "id": "0410a29b",
   "metadata": {},
   "outputs": [],
   "source": [
    "d = ['a',1,'b',2,'c',3]"
   ]
  },
  {
   "cell_type": "code",
   "execution_count": 13,
   "id": "89c76135",
   "metadata": {},
   "outputs": [
    {
     "data": {
      "text/plain": [
       "[1, 'b', 2, 'c', 3]"
      ]
     },
     "execution_count": 13,
     "metadata": {},
     "output_type": "execute_result"
    }
   ],
   "source": [
    "d[1:]"
   ]
  },
  {
   "cell_type": "code",
   "execution_count": 14,
   "id": "0ec67803",
   "metadata": {},
   "outputs": [
    {
     "data": {
      "text/plain": [
       "['a', 1, 'b']"
      ]
     },
     "execution_count": 14,
     "metadata": {},
     "output_type": "execute_result"
    }
   ],
   "source": [
    "d[:3]"
   ]
  },
  {
   "cell_type": "code",
   "execution_count": 15,
   "id": "eb664aea",
   "metadata": {},
   "outputs": [
    {
     "data": {
      "text/plain": [
       "['a', 'b', 'c']"
      ]
     },
     "execution_count": 15,
     "metadata": {},
     "output_type": "execute_result"
    }
   ],
   "source": [
    "d[::2]"
   ]
  },
  {
   "cell_type": "markdown",
   "id": "c23878fe",
   "metadata": {},
   "source": [
    "Concatenation"
   ]
  },
  {
   "cell_type": "code",
   "execution_count": 16,
   "id": "c0f556da",
   "metadata": {},
   "outputs": [
    {
     "data": {
      "text/plain": [
       "[1, 2, 3, 4, 5]"
      ]
     },
     "execution_count": 16,
     "metadata": {},
     "output_type": "execute_result"
    }
   ],
   "source": [
    "a = [1,2,3]\n",
    "b= [4,5]\n",
    "a+b"
   ]
  },
  {
   "cell_type": "code",
   "execution_count": 18,
   "id": "75d8f152",
   "metadata": {},
   "outputs": [],
   "source": [
    "c = a + b + [6]"
   ]
  },
  {
   "cell_type": "code",
   "execution_count": 19,
   "id": "c915f7ee",
   "metadata": {},
   "outputs": [
    {
     "data": {
      "text/plain": [
       "[1, 2, 3, 4, 5, 6]"
      ]
     },
     "execution_count": 19,
     "metadata": {},
     "output_type": "execute_result"
    }
   ],
   "source": [
    "c"
   ]
  },
  {
   "cell_type": "markdown",
   "id": "d186b2b5",
   "metadata": {},
   "source": [
    "<b>Lists are mutable unlike strings\n",
    "</b>"
   ]
  },
  {
   "cell_type": "code",
   "execution_count": 20,
   "id": "67aa1450",
   "metadata": {},
   "outputs": [],
   "source": [
    "l1 = [1,2,3,4,4]"
   ]
  },
  {
   "cell_type": "code",
   "execution_count": 21,
   "id": "c8c11389",
   "metadata": {},
   "outputs": [],
   "source": [
    "l1[-1] = 5"
   ]
  },
  {
   "cell_type": "code",
   "execution_count": 22,
   "id": "8a1b6178",
   "metadata": {},
   "outputs": [
    {
     "data": {
      "text/plain": [
       "[1, 2, 3, 4, 5]"
      ]
     },
     "execution_count": 22,
     "metadata": {},
     "output_type": "execute_result"
    }
   ],
   "source": [
    "l1"
   ]
  },
  {
   "cell_type": "markdown",
   "id": "a5ae7a1a",
   "metadata": {},
   "source": [
    "<b>Lists Methods</b>"
   ]
  },
  {
   "cell_type": "code",
   "execution_count": 23,
   "id": "4f3debd7",
   "metadata": {},
   "outputs": [],
   "source": [
    "list1 = [1,2.3,4,5]"
   ]
  },
  {
   "cell_type": "code",
   "execution_count": 24,
   "id": "6e4db74a",
   "metadata": {},
   "outputs": [],
   "source": [
    "list1.append(6) #add item at the end of the list"
   ]
  },
  {
   "cell_type": "code",
   "execution_count": 25,
   "id": "8871e6c1",
   "metadata": {},
   "outputs": [
    {
     "data": {
      "text/plain": [
       "[1, 2.3, 4, 5, 6]"
      ]
     },
     "execution_count": 25,
     "metadata": {},
     "output_type": "execute_result"
    }
   ],
   "source": [
    "list1"
   ]
  },
  {
   "cell_type": "code",
   "execution_count": 26,
   "id": "a882ba6a",
   "metadata": {},
   "outputs": [],
   "source": [
    "list1.append([7,8])"
   ]
  },
  {
   "cell_type": "code",
   "execution_count": 27,
   "id": "6c319c14",
   "metadata": {},
   "outputs": [
    {
     "data": {
      "text/plain": [
       "[1, 2.3, 4, 5, 6, [7, 8]]"
      ]
     },
     "execution_count": 27,
     "metadata": {},
     "output_type": "execute_result"
    }
   ],
   "source": [
    "list1"
   ]
  },
  {
   "cell_type": "code",
   "execution_count": 30,
   "id": "2c329efb",
   "metadata": {},
   "outputs": [],
   "source": [
    "list1.extend([9,10])"
   ]
  },
  {
   "cell_type": "code",
   "execution_count": 31,
   "id": "5d1baba8",
   "metadata": {},
   "outputs": [
    {
     "data": {
      "text/plain": [
       "[1, 2.3, 4, 5, 6, [7, 8], 9, 10]"
      ]
     },
     "execution_count": 31,
     "metadata": {},
     "output_type": "execute_result"
    }
   ],
   "source": [
    "list1"
   ]
  },
  {
   "cell_type": "markdown",
   "id": "13cd46a2",
   "metadata": {},
   "source": [
    "<b>See the difference between append and extend</b>"
   ]
  },
  {
   "cell_type": "code",
   "execution_count": 32,
   "id": "9674d77e",
   "metadata": {},
   "outputs": [
    {
     "data": {
      "text/plain": [
       "10"
      ]
     },
     "execution_count": 32,
     "metadata": {},
     "output_type": "execute_result"
    }
   ],
   "source": [
    "list1.pop() #remove item from the end"
   ]
  },
  {
   "cell_type": "code",
   "execution_count": 33,
   "id": "b561dc19",
   "metadata": {},
   "outputs": [
    {
     "data": {
      "text/plain": [
       "[1, 2.3, 4, 5, 6, [7, 8], 9]"
      ]
     },
     "execution_count": 33,
     "metadata": {},
     "output_type": "execute_result"
    }
   ],
   "source": [
    "list1"
   ]
  },
  {
   "cell_type": "code",
   "execution_count": 34,
   "id": "641c025f",
   "metadata": {},
   "outputs": [
    {
     "data": {
      "text/plain": [
       "1"
      ]
     },
     "execution_count": 34,
     "metadata": {},
     "output_type": "execute_result"
    }
   ],
   "source": [
    "list1.pop(0) #remove specified item"
   ]
  },
  {
   "cell_type": "code",
   "execution_count": 35,
   "id": "5c188ddb",
   "metadata": {},
   "outputs": [
    {
     "data": {
      "text/plain": [
       "[2.3, 4, 5, 6, [7, 8], 9]"
      ]
     },
     "execution_count": 35,
     "metadata": {},
     "output_type": "execute_result"
    }
   ],
   "source": [
    "list1"
   ]
  },
  {
   "cell_type": "code",
   "execution_count": 36,
   "id": "857ed115",
   "metadata": {},
   "outputs": [],
   "source": [
    "list2 = ['e','a','c','b']"
   ]
  },
  {
   "cell_type": "code",
   "execution_count": 38,
   "id": "bdf965ce",
   "metadata": {},
   "outputs": [],
   "source": [
    "list2.sort() #sort the list"
   ]
  },
  {
   "cell_type": "code",
   "execution_count": 39,
   "id": "ca3f1e8b",
   "metadata": {},
   "outputs": [
    {
     "data": {
      "text/plain": [
       "['a', 'b', 'c', 'e']"
      ]
     },
     "execution_count": 39,
     "metadata": {},
     "output_type": "execute_result"
    }
   ],
   "source": [
    "list2"
   ]
  },
  {
   "cell_type": "code",
   "execution_count": 40,
   "id": "b3329b91",
   "metadata": {},
   "outputs": [],
   "source": [
    "list3 = [6,1,3,2]"
   ]
  },
  {
   "cell_type": "code",
   "execution_count": 41,
   "id": "be9a6b7b",
   "metadata": {},
   "outputs": [],
   "source": [
    "list3.sort()"
   ]
  },
  {
   "cell_type": "code",
   "execution_count": 42,
   "id": "3ea6e782",
   "metadata": {},
   "outputs": [
    {
     "data": {
      "text/plain": [
       "[1, 2, 3, 6]"
      ]
     },
     "execution_count": 42,
     "metadata": {},
     "output_type": "execute_result"
    }
   ],
   "source": [
    "list3"
   ]
  },
  {
   "cell_type": "code",
   "execution_count": 43,
   "id": "bc6b92d0",
   "metadata": {},
   "outputs": [],
   "source": [
    "list4 = [1,2,3,'a','b']"
   ]
  },
  {
   "cell_type": "code",
   "execution_count": 44,
   "id": "c977a971",
   "metadata": {},
   "outputs": [
    {
     "ename": "TypeError",
     "evalue": "'<' not supported between instances of 'str' and 'int'",
     "output_type": "error",
     "traceback": [
      "\u001b[1;31m---------------------------------------------------------------------------\u001b[0m",
      "\u001b[1;31mTypeError\u001b[0m                                 Traceback (most recent call last)",
      "\u001b[1;32mC:\\Users\\MOHAMM~1\\AppData\\Local\\Temp/ipykernel_11732/3303819169.py\u001b[0m in \u001b[0;36m<module>\u001b[1;34m\u001b[0m\n\u001b[1;32m----> 1\u001b[1;33m \u001b[0mlist4\u001b[0m\u001b[1;33m.\u001b[0m\u001b[0msort\u001b[0m\u001b[1;33m(\u001b[0m\u001b[1;33m)\u001b[0m\u001b[1;33m\u001b[0m\u001b[1;33m\u001b[0m\u001b[0m\n\u001b[0m",
      "\u001b[1;31mTypeError\u001b[0m: '<' not supported between instances of 'str' and 'int'"
     ]
    }
   ],
   "source": [
    "list4.sort()"
   ]
  },
  {
   "cell_type": "code",
   "execution_count": 45,
   "id": "c264660d",
   "metadata": {},
   "outputs": [],
   "source": [
    "list4.reverse()"
   ]
  },
  {
   "cell_type": "code",
   "execution_count": 46,
   "id": "1a173a97",
   "metadata": {},
   "outputs": [
    {
     "data": {
      "text/plain": [
       "['b', 'a', 3, 2, 1]"
      ]
     },
     "execution_count": 46,
     "metadata": {},
     "output_type": "execute_result"
    }
   ],
   "source": [
    "list4"
   ]
  },
  {
   "cell_type": "code",
   "execution_count": 48,
   "id": "186c2901",
   "metadata": {},
   "outputs": [
    {
     "data": {
      "text/plain": [
       "1"
      ]
     },
     "execution_count": 48,
     "metadata": {},
     "output_type": "execute_result"
    }
   ],
   "source": [
    "list4.count(2)"
   ]
  },
  {
   "cell_type": "code",
   "execution_count": 49,
   "id": "3229e36a",
   "metadata": {},
   "outputs": [
    {
     "data": {
      "text/plain": [
       "3"
      ]
     },
     "execution_count": 49,
     "metadata": {},
     "output_type": "execute_result"
    }
   ],
   "source": [
    "list4.index(2) #index position"
   ]
  },
  {
   "cell_type": "code",
   "execution_count": 50,
   "id": "00bbd461",
   "metadata": {},
   "outputs": [],
   "source": [
    "list4.insert(2,4) #insert object (index position, object)"
   ]
  },
  {
   "cell_type": "code",
   "execution_count": 51,
   "id": "1df78fc8",
   "metadata": {},
   "outputs": [
    {
     "data": {
      "text/plain": [
       "['b', 'a', 4, 3, 2, 1]"
      ]
     },
     "execution_count": 51,
     "metadata": {},
     "output_type": "execute_result"
    }
   ],
   "source": [
    "list4"
   ]
  },
  {
   "cell_type": "code",
   "execution_count": 52,
   "id": "2ba002df",
   "metadata": {},
   "outputs": [],
   "source": [
    "l5 = [1,2,1,3,5,4]"
   ]
  },
  {
   "cell_type": "code",
   "execution_count": 53,
   "id": "51a3b4bb",
   "metadata": {},
   "outputs": [],
   "source": [
    "l5.remove(1) #remove first occurance"
   ]
  },
  {
   "cell_type": "code",
   "execution_count": 54,
   "id": "a056494a",
   "metadata": {},
   "outputs": [
    {
     "data": {
      "text/plain": [
       "[2, 1, 3, 5, 4]"
      ]
     },
     "execution_count": 54,
     "metadata": {},
     "output_type": "execute_result"
    }
   ],
   "source": [
    "l5"
   ]
  },
  {
   "cell_type": "code",
   "execution_count": 55,
   "id": "16e52e94",
   "metadata": {},
   "outputs": [],
   "source": [
    "l6 = l5.copy() #copying the list"
   ]
  },
  {
   "cell_type": "code",
   "execution_count": 56,
   "id": "68ed66e7",
   "metadata": {},
   "outputs": [
    {
     "data": {
      "text/plain": [
       "[2, 1, 3, 5, 4]"
      ]
     },
     "execution_count": 56,
     "metadata": {},
     "output_type": "execute_result"
    }
   ],
   "source": [
    "l6"
   ]
  },
  {
   "cell_type": "code",
   "execution_count": 57,
   "id": "fef91d50",
   "metadata": {},
   "outputs": [],
   "source": [
    "l6.clear()"
   ]
  },
  {
   "cell_type": "code",
   "execution_count": 58,
   "id": "b744e8d6",
   "metadata": {},
   "outputs": [
    {
     "data": {
      "text/plain": [
       "[]"
      ]
     },
     "execution_count": 58,
     "metadata": {},
     "output_type": "execute_result"
    }
   ],
   "source": [
    "l6"
   ]
  },
  {
   "cell_type": "code",
   "execution_count": 59,
   "id": "93eeabcc",
   "metadata": {},
   "outputs": [],
   "source": [
    "l6 = l5.copy()"
   ]
  },
  {
   "cell_type": "code",
   "execution_count": 60,
   "id": "ea281c4c",
   "metadata": {},
   "outputs": [
    {
     "data": {
      "text/plain": [
       "[2, 1, 3, 5, 4]"
      ]
     },
     "execution_count": 60,
     "metadata": {},
     "output_type": "execute_result"
    }
   ],
   "source": [
    "l6"
   ]
  },
  {
   "cell_type": "code",
   "execution_count": 63,
   "id": "efd1cb1b",
   "metadata": {},
   "outputs": [
    {
     "data": {
      "text/plain": [
       "True"
      ]
     },
     "execution_count": 63,
     "metadata": {},
     "output_type": "execute_result"
    }
   ],
   "source": [
    "1 in l6 #True\n",
    "6 not in l6"
   ]
  },
  {
   "cell_type": "markdown",
   "id": "487c8fea",
   "metadata": {},
   "source": [
    "<b>In-place methods : append(), extend(), changinging value at specific index, pop(), sort(), reverse(), insert(), clear(), remove()\n",
    "Non-inplace: len(), index(), in & not in</b>"
   ]
  }
 ],
 "metadata": {
  "kernelspec": {
   "display_name": "Python 3 (ipykernel)",
   "language": "python",
   "name": "python3"
  },
  "language_info": {
   "codemirror_mode": {
    "name": "ipython",
    "version": 3
   },
   "file_extension": ".py",
   "mimetype": "text/x-python",
   "name": "python",
   "nbconvert_exporter": "python",
   "pygments_lexer": "ipython3",
   "version": "3.9.7"
  }
 },
 "nbformat": 4,
 "nbformat_minor": 5
}
