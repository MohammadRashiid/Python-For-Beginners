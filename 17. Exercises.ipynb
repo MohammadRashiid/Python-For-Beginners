{
 "cells": [
  {
   "cell_type": "markdown",
   "id": "58c0ecfa",
   "metadata": {},
   "source": [
    "<b>Given a list of numbers, write a Python function to return the list of prime numbers present in it.\n",
    "\n",
    "Example: input:[7,9,11,13,15,20,23] output:[7,11,13,23]</b>"
   ]
  },
  {
   "cell_type": "code",
   "execution_count": 32,
   "id": "73ea8e45",
   "metadata": {},
   "outputs": [],
   "source": [
    "def prime_number(num):\n",
    "    prime_numbers=[]\n",
    "    \n",
    "    try:\n",
    "        for num in num:\n",
    "\n",
    "            if num > 1:\n",
    "\n",
    "               # check for factors\n",
    "                for i in range(2,num):\n",
    "                    if (num % i) == 0:\n",
    "\n",
    "                        break\n",
    "                else:\n",
    "                    prime_numbers.append(num)\n",
    "\n",
    "        return prime_numbers\n",
    "    except:\n",
    "        print(\"some error occurred\")\n",
    "    finally:\n",
    "        print(\"Done! We got prime numbers.\")\n",
    "        \n"
   ]
  },
  {
   "cell_type": "code",
   "execution_count": 33,
   "id": "b499d817",
   "metadata": {},
   "outputs": [
    {
     "name": "stdout",
     "output_type": "stream",
     "text": [
      "Done! We got prime numbers.\n"
     ]
    },
    {
     "data": {
      "text/plain": [
       "[7, 11, 13, 23]"
      ]
     },
     "execution_count": 33,
     "metadata": {},
     "output_type": "execute_result"
    }
   ],
   "source": [
    "prime_number([7,9,11,13,15,20,23] )"
   ]
  },
  {
   "cell_type": "markdown",
   "id": "349699ef",
   "metadata": {},
   "source": [
    "<b>Write a python function find_common_characters(msg1,msg2) to display all the common characters between given two strings. Return -1 if there are no matching characters.\n",
    "\n",
    "Note: Ignore blank spaces if there are any. Perform case sensitive string comparison wherever necessary.\n",
    "\n",
    "Example: msg1=\"I like Python\", msg2=\"Java is a very popular language\" output=lieyon</b>"
   ]
  },
  {
   "cell_type": "code",
   "execution_count": 34,
   "id": "1cf06313",
   "metadata": {},
   "outputs": [],
   "source": [
    "def find_common_characters(msg1,msg2):\n",
    "    result = []\n",
    "    if len(msg1) > len(msg2):\n",
    "        \n",
    "        result = my_func(msg1,msg2)\n",
    "    else:\n",
    "        \n",
    "        result = my_func(msg2,msg1)\n",
    "    \n",
    "    if len(result) == 0:\n",
    "        return -1\n",
    "    \n",
    "    else:\n",
    "        \n",
    "        result = \"\".join(result)\n",
    "        \n",
    "        return result.replace(\" \",\"\")\n",
    "\n",
    "\n",
    "def my_func(bigger,smaller):\n",
    "    length = len(smaller)\n",
    "    bigger =list(bigger)\n",
    "    smaller = list(smaller)\n",
    "    \n",
    "    i = 0\n",
    "    result = []\n",
    "    while i < length :\n",
    "        ans = smaller[i] in bigger\n",
    "        if ans == True:\n",
    "            result.append(smaller[i])\n",
    "            bigger.remove(smaller[i])\n",
    "        i = i + 1\n",
    "    return result"
   ]
  },
  {
   "cell_type": "code",
   "execution_count": 35,
   "id": "4d2e24a7",
   "metadata": {},
   "outputs": [
    {
     "data": {
      "text/plain": [
       "'lieyon'"
      ]
     },
     "execution_count": 35,
     "metadata": {},
     "output_type": "execute_result"
    }
   ],
   "source": [
    "msg1=\"I like Python\"\n",
    "msg2=\"Java is a very popular language\" \n",
    "find_common_characters(msg1,msg2)"
   ]
  },
  {
   "cell_type": "markdown",
   "id": "325ae542",
   "metadata": {},
   "source": [
    "<b>Write a python function, find_pairs_of_numbers(num_list,n) which accepts a list of positive integers with no repetitions and returns count of pairs of numbers in the list that adds up to n. The function should return 0, if no such pairs are found in the list.\n",
    "\n",
    "Example: num_list=[1, 2, 7, 4, 5, 6, 0, 3], n=6 output:3\n",
    "\n",
    "              num_list= [3, 4, 1, 8, 5, 9, 0, 6], n=9 output:4</b>"
   ]
  },
  {
   "cell_type": "code",
   "execution_count": 36,
   "id": "ed257ad3",
   "metadata": {},
   "outputs": [],
   "source": [
    "def find_pairs_of_numbers(num_list,n):\n",
    "    count=0\n",
    "    for x in num_list:\n",
    "        index=num_list.index(x)+1\n",
    "        for y in range(index,len(num_list)):\n",
    "            if x+num_list[y]==n:\n",
    "                count+=1\n",
    "    return count\n"
   ]
  },
  {
   "cell_type": "code",
   "execution_count": 37,
   "id": "a2a61748",
   "metadata": {},
   "outputs": [
    {
     "name": "stdout",
     "output_type": "stream",
     "text": [
      "3\n"
     ]
    }
   ],
   "source": [
    "num_list=[1, 2, 7, 4, 5, 6, 0, 3]\n",
    "n=9\n",
    "print(find_pairs_of_numbers(num_list,n))"
   ]
  },
  {
   "cell_type": "markdown",
   "id": "8c9b95e6",
   "metadata": {},
   "source": [
    "<b>The python function, find_average() given below, is written to accept a list of marks and return the average marks. On execution, the program is resulting in an error.</b>"
   ]
  },
  {
   "cell_type": "code",
   "execution_count": 38,
   "id": "2e4b2f68",
   "metadata": {},
   "outputs": [
    {
     "ename": "SyntaxError",
     "evalue": "invalid non-printable character U+00A0 (Temp/ipykernel_6476/1627274463.py, line 2)",
     "output_type": "error",
     "traceback": [
      "\u001b[1;36m  File \u001b[1;32m\"C:\\Users\\MOHAMM~1\\AppData\\Local\\Temp/ipykernel_6476/1627274463.py\"\u001b[1;36m, line \u001b[1;32m2\u001b[0m\n\u001b[1;33m    total=0\u001b[0m\n\u001b[1;37m    ^\u001b[0m\n\u001b[1;31mSyntaxError\u001b[0m\u001b[1;31m:\u001b[0m invalid non-printable character U+00A0\n"
     ]
    }
   ],
   "source": [
    "def find_average(mark_list):\n",
    "          total=0\n",
    "          for i in range(0, len(mark_list)):\n",
    "                   total+=mark_list1[i]\n",
    "          marks_avg=total/len(mark_list)\n",
    "          return marks_avg\n",
    "m_list=[1,2,3,4]\n",
    "print(\"Average marks:\", find_average(m_list))\n"
   ]
  },
  {
   "cell_type": "markdown",
   "id": "d6800a49",
   "metadata": {},
   "source": [
    "<b>Infosys Springboard Exercise</b>\n",
    "1: Add code to handle the exception occurring in the code.\n",
    "2: Make the necessary correction in the program to remove the error."
   ]
  },
  {
   "cell_type": "code",
   "execution_count": 42,
   "id": "85f0593c",
   "metadata": {},
   "outputs": [
    {
     "name": "stdout",
     "output_type": "stream",
     "text": [
      "Average marks: 2.5\n"
     ]
    }
   ],
   "source": [
    "def find_average(mark_list):\n",
    "        try:\n",
    "          total=0\n",
    "          for i in range(0, len(mark_list)):\n",
    "                   total+=mark_list[i]\n",
    "          marks_avg=total/len(mark_list)\n",
    "          return marks_avg\n",
    "        except SyntaxError:\n",
    "            print(\"Syntax error occured\")\n",
    "m_list=[1,2,3,4]\n",
    "print(\"Average marks:\", find_average(m_list))"
   ]
  },
  {
   "cell_type": "markdown",
   "id": "cd8efd43",
   "metadata": {},
   "source": [
    "3: Make the following changes in the code, execute, observe the results. Add code to handle the errors occurring in each case.<br>\n",
    "Case – 1: Initialize m_list as [\"1\",2,3,4]<br>\n",
    "Case – 2: Initialize m_list as given below<br>\n",
    "Case – 3: Initialize m_list as []<br>\n",
    "Case – 4: Make the following change in the for loop statement\n"
   ]
  },
  {
   "cell_type": "code",
   "execution_count": 47,
   "id": "53e230a5",
   "metadata": {},
   "outputs": [
    {
     "ename": "IndexError",
     "evalue": "list index out of range",
     "output_type": "error",
     "traceback": [
      "\u001b[1;31m---------------------------------------------------------------------------\u001b[0m",
      "\u001b[1;31mIndexError\u001b[0m                                Traceback (most recent call last)",
      "\u001b[1;32mC:\\Users\\MOHAMM~1\\AppData\\Local\\Temp/ipykernel_6476/20287004.py\u001b[0m in \u001b[0;36m<module>\u001b[1;34m\u001b[0m\n\u001b[0;32m     10\u001b[0m \u001b[0mm_list\u001b[0m\u001b[1;33m=\u001b[0m\u001b[1;33m[\u001b[0m\u001b[1;33m]\u001b[0m\u001b[1;33m\u001b[0m\u001b[1;33m\u001b[0m\u001b[0m\n\u001b[0;32m     11\u001b[0m \u001b[1;33m\u001b[0m\u001b[0m\n\u001b[1;32m---> 12\u001b[1;33m \u001b[0mprint\u001b[0m\u001b[1;33m(\u001b[0m\u001b[1;34m\"Average marks:\"\u001b[0m\u001b[1;33m,\u001b[0m \u001b[0mfind_average\u001b[0m\u001b[1;33m(\u001b[0m\u001b[0mm_list\u001b[0m\u001b[1;33m)\u001b[0m\u001b[1;33m)\u001b[0m\u001b[1;33m\u001b[0m\u001b[1;33m\u001b[0m\u001b[0m\n\u001b[0m",
      "\u001b[1;32mC:\\Users\\MOHAMM~1\\AppData\\Local\\Temp/ipykernel_6476/20287004.py\u001b[0m in \u001b[0;36mfind_average\u001b[1;34m(mark_list)\u001b[0m\n\u001b[0;32m      3\u001b[0m             \u001b[0mtotal\u001b[0m\u001b[1;33m=\u001b[0m\u001b[1;36m0\u001b[0m\u001b[1;33m\u001b[0m\u001b[1;33m\u001b[0m\u001b[0m\n\u001b[0;32m      4\u001b[0m             \u001b[1;32mfor\u001b[0m \u001b[0mi\u001b[0m \u001b[1;32min\u001b[0m \u001b[0mrange\u001b[0m\u001b[1;33m(\u001b[0m\u001b[1;36m0\u001b[0m\u001b[1;33m,\u001b[0m \u001b[0mlen\u001b[0m\u001b[1;33m(\u001b[0m\u001b[0mmark_list\u001b[0m\u001b[1;33m)\u001b[0m\u001b[1;33m+\u001b[0m\u001b[1;36m1\u001b[0m\u001b[1;33m)\u001b[0m\u001b[1;33m:\u001b[0m\u001b[1;33m\u001b[0m\u001b[1;33m\u001b[0m\u001b[0m\n\u001b[1;32m----> 5\u001b[1;33m                      \u001b[0mtotal\u001b[0m\u001b[1;33m+=\u001b[0m\u001b[0mmark_list\u001b[0m\u001b[1;33m[\u001b[0m\u001b[0mi\u001b[0m\u001b[1;33m]\u001b[0m\u001b[1;33m\u001b[0m\u001b[1;33m\u001b[0m\u001b[0m\n\u001b[0m\u001b[0;32m      6\u001b[0m             \u001b[0mmarks_avg\u001b[0m\u001b[1;33m=\u001b[0m\u001b[0mtotal\u001b[0m\u001b[1;33m/\u001b[0m\u001b[0mlen\u001b[0m\u001b[1;33m(\u001b[0m\u001b[0mmark_list\u001b[0m\u001b[1;33m)\u001b[0m\u001b[1;33m\u001b[0m\u001b[1;33m\u001b[0m\u001b[0m\n\u001b[0;32m      7\u001b[0m             \u001b[1;32mreturn\u001b[0m \u001b[0mmarks_avg\u001b[0m\u001b[1;33m\u001b[0m\u001b[1;33m\u001b[0m\u001b[0m\n",
      "\u001b[1;31mIndexError\u001b[0m: list index out of range"
     ]
    }
   ],
   "source": [
    "def find_average(mark_list):\n",
    "        try:\n",
    "            total=0\n",
    "            for i in range(0, len(mark_list)+1):\n",
    "                     total+=mark_list[i]\n",
    "            marks_avg=total/len(mark_list)\n",
    "            return marks_avg\n",
    "        except SyntaxError:\n",
    "            print(\"Syntax error occured\")\n",
    "m_list=[]\n",
    "\n",
    "print(\"Average marks:\", find_average(m_list))"
   ]
  },
  {
   "cell_type": "code",
   "execution_count": 48,
   "id": "f24b47ba",
   "metadata": {},
   "outputs": [
    {
     "name": "stdout",
     "output_type": "stream",
     "text": [
      "Zero Division Error Occurred\n"
     ]
    }
   ],
   "source": [
    "num1=100\n",
    "num2=0\n",
    "try:\n",
    "    result=num1/num2\n",
    "    print(result)\n",
    "except ZeroDivisionError:\n",
    "    print(\"Zero Division Error Occurred\")"
   ]
  },
  {
   "cell_type": "code",
   "execution_count": 49,
   "id": "f4bf0a88",
   "metadata": {},
   "outputs": [
    {
     "name": "stdout",
     "output_type": "stream",
     "text": [
      "Value error\n",
      "Finally\n",
      "Done\n"
     ]
    }
   ],
   "source": [
    "def division(a,b):\n",
    "    try:\n",
    "        return int(a)/b\n",
    "    except TypeError:\n",
    "        print(\"Type error\")\n",
    "    except ValueError:\n",
    "        print(\"Value error\")\n",
    "    finally:\n",
    "        print(\"Finally\")\n",
    "    print(\"Done\")\n",
    "division('A',10)"
   ]
  },
  {
   "cell_type": "code",
   "execution_count": 50,
   "id": "8a55ba0d",
   "metadata": {},
   "outputs": [
    {
     "name": "stdout",
     "output_type": "stream",
     "text": [
      "Function name error\n",
      "Sum finally\n",
      "Invocation finally\n"
     ]
    }
   ],
   "source": [
    "def find_sum(a,b):\n",
    "    try:\n",
    "        print(a+c)\n",
    "    except NameError:\n",
    "        print(\"Function name error\")\n",
    "    finally:\n",
    "        print(\"Sum finally\")\n",
    "try:\n",
    "    find_sum(12,13)\n",
    "except NameError:\n",
    "    print(\"Invocation name error\")\n",
    "finally:\n",
    "    print(\"Invocation finally\")"
   ]
  },
  {
   "cell_type": "code",
   "execution_count": 51,
   "id": "f9c8ac96",
   "metadata": {},
   "outputs": [
    {
     "name": "stdout",
     "output_type": "stream",
     "text": [
      "Before function call: [10, 20, 30, 40, 50]\n",
      "Inside function: [10, 20, 30, 40, 50, 60, 70, 80]\n",
      "After function call: [10, 20, 30, 40, 50]\n"
     ]
    }
   ],
   "source": [
    "def modify_list(arg_list):\n",
    "    arg_list=arg_list + [60, 70, 80]\n",
    "    print(\"Inside function:\", arg_list)\n",
    "    \n",
    "i_list=[10,20,30,40,50]\n",
    "print(\"Before function call:\", i_list)\n",
    "modify_list(i_list)\n",
    "print(\"After function call:\", i_list)"
   ]
  },
  {
   "cell_type": "code",
   "execution_count": 52,
   "id": "d5b60982",
   "metadata": {},
   "outputs": [
    {
     "name": "stdout",
     "output_type": "stream",
     "text": [
      "[10, 20, 30, 40, 50, 25]\n"
     ]
    }
   ],
   "source": [
    "list1=[10,20,30,40,50]\n",
    "list1.insert(7,25)\n",
    "print(list1)"
   ]
  },
  {
   "cell_type": "code",
   "execution_count": 53,
   "id": "4f0bcbec",
   "metadata": {},
   "outputs": [
    {
     "name": "stdout",
     "output_type": "stream",
     "text": [
      "[0, 0, 2, 6, 12]\n"
     ]
    }
   ],
   "source": [
    "my_list=[0]*5\n",
    "for index in range(1,5):\n",
    "    my_list[index]=(index-1)*index\n",
    "                    \n",
    "print(my_list)"
   ]
  },
  {
   "cell_type": "code",
   "execution_count": 54,
   "id": "a378db27",
   "metadata": {},
   "outputs": [
    {
     "name": "stdout",
     "output_type": "stream",
     "text": [
      "18\n",
      "closed? False\n",
      "after closing the file closed? True\n"
     ]
    }
   ],
   "source": [
    "FHW=open(\"data.txt\",\"w\")\n",
    "FHW.write(\"written some thing\")\n",
    "print(FHW.tell())\n",
    "print(\"closed?\",FHW.closed)\n",
    "FHW.close()\n",
    "print(\"after closing the file closed?\",FHW.closed)"
   ]
  },
  {
   "cell_type": "code",
   "execution_count": 55,
   "id": "95dae597",
   "metadata": {},
   "outputs": [
    {
     "name": "stdout",
     "output_type": "stream",
     "text": [
      "0 1 2 3 4 5 6 7 8 "
     ]
    }
   ],
   "source": [
    "set_1={1,2,3,1,2,4,5,3,4,8,9,7,10}\n",
    "for index in range(len(set_1)):\n",
    "    print(index,end=\" \")"
   ]
  },
  {
   "cell_type": "code",
   "execution_count": 56,
   "id": "38f3d847",
   "metadata": {},
   "outputs": [
    {
     "name": "stdout",
     "output_type": "stream",
     "text": [
      "[10, 8, 6, 4, 2]\n"
     ]
    }
   ],
   "source": [
    "def value(num1):\n",
    "    list1=[]\n",
    "    while num1!=0:\n",
    "        if num1%2==0:\n",
    "            list1.append(num1)\n",
    "        else:\n",
    "            break\n",
    "        num1-=2\n",
    "    print(list1)\n",
    "value(10) "
   ]
  },
  {
   "cell_type": "code",
   "execution_count": 57,
   "id": "c29f1017",
   "metadata": {},
   "outputs": [
    {
     "name": "stdout",
     "output_type": "stream",
     "text": [
      "14\n"
     ]
    }
   ],
   "source": [
    "def sample(value):\n",
    "    sum1=0\n",
    "    for i in value:\n",
    "        if i%2!=0:\n",
    "            sum1+=value[i]\n",
    "        else:\n",
    "            sum1-=i\n",
    "    print(sum1)\n",
    "dict1={1:2,2:4,3:6,5:8}\n",
    "sample(dict1)"
   ]
  },
  {
   "cell_type": "code",
   "execution_count": 58,
   "id": "121718b0",
   "metadata": {},
   "outputs": [
    {
     "name": "stdout",
     "output_type": "stream",
     "text": [
      "10\n",
      "<class 'int'>\n"
     ]
    }
   ],
   "source": [
    "tuple1=(10)\n",
    "print(tuple1)\n",
    "print(type(tuple1))"
   ]
  },
  {
   "cell_type": "code",
   "execution_count": 59,
   "id": "d15fd70f",
   "metadata": {},
   "outputs": [
    {
     "name": "stdout",
     "output_type": "stream",
     "text": [
      "apple boy cat\n"
     ]
    }
   ],
   "source": [
    "sample_dict={'a':\"apple\",'b':\"ball\"}\n",
    "sample_dict.update({'b':\"boy\", 'c':'cat' })\n",
    "print(sample_dict['a'],sample_dict.get('b'),sample_dict.get('c'))"
   ]
  },
  {
   "cell_type": "code",
   "execution_count": 60,
   "id": "7f7df430",
   "metadata": {},
   "outputs": [
    {
     "name": "stdout",
     "output_type": "stream",
     "text": [
      "Sum finally\n",
      "Invocation name error\n",
      "Invocation finally\n"
     ]
    }
   ],
   "source": [
    "def find_sum(a,b):\n",
    "    try:\n",
    "        print(a+c)\n",
    "    except ValueError:\n",
    "        print(\"Function name error\")\n",
    "    finally:\n",
    "        print(\"Sum finally\")\n",
    "try:\n",
    "    find_sum(12,13)\n",
    "except NameError:\n",
    "    print(\"Invocation name error\")\n",
    "finally:\n",
    "    print(\"Invocation finally\")"
   ]
  },
  {
   "cell_type": "code",
   "execution_count": null,
   "id": "35ae374c",
   "metadata": {},
   "outputs": [],
   "source": []
  }
 ],
 "metadata": {
  "kernelspec": {
   "display_name": "Python 3 (ipykernel)",
   "language": "python",
   "name": "python3"
  },
  "language_info": {
   "codemirror_mode": {
    "name": "ipython",
    "version": 3
   },
   "file_extension": ".py",
   "mimetype": "text/x-python",
   "name": "python",
   "nbconvert_exporter": "python",
   "pygments_lexer": "ipython3",
   "version": "3.9.7"
  }
 },
 "nbformat": 4,
 "nbformat_minor": 5
}
