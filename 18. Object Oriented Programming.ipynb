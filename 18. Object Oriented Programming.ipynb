{
 "cells": [
  {
   "cell_type": "markdown",
   "id": "a10707d2",
   "metadata": {},
   "source": [
    "<b>Class and Objects</b>"
   ]
  },
  {
   "cell_type": "markdown",
   "id": "0d7dce8e",
   "metadata": {},
   "source": [
    "<b>In Oop, there is an idea of class and object. Class is a blueprint of what we want to create. what are the basic attributes that is properties that our class has. what are basic actions and methods that our class can take. and using this blueprint we are able to create objects over and over.\n",
    "</b>"
   ]
  },
  {
   "cell_type": "code",
   "execution_count": 3,
   "id": "b3be58e6",
   "metadata": {
    "scrolled": true
   },
   "outputs": [
    {
     "name": "stdout",
     "output_type": "stream",
     "text": [
      "<class 'NoneType'>\n"
     ]
    }
   ],
   "source": [
    "print(type(None))"
   ]
  },
  {
   "cell_type": "code",
   "execution_count": 4,
   "id": "0365dc33",
   "metadata": {},
   "outputs": [
    {
     "name": "stdout",
     "output_type": "stream",
     "text": [
      "<class 'bool'>\n"
     ]
    }
   ],
   "source": [
    "print(type(True))"
   ]
  },
  {
   "cell_type": "code",
   "execution_count": 5,
   "id": "994b2049",
   "metadata": {},
   "outputs": [
    {
     "name": "stdout",
     "output_type": "stream",
     "text": [
      "<class 'str'>\n"
     ]
    }
   ],
   "source": [
    "print(type('5'))"
   ]
  },
  {
   "cell_type": "markdown",
   "id": "7713c11e",
   "metadata": {},
   "source": [
    "<b>Everything in python is an object because of this 'class' keyword.\n",
    "</b>"
   ]
  },
  {
   "cell_type": "markdown",
   "id": "436ea858",
   "metadata": {},
   "source": [
    "<b>In python, I can create my own class using class keyword.</b>"
   ]
  },
  {
   "cell_type": "code",
   "execution_count": 6,
   "id": "52f2f7d5",
   "metadata": {},
   "outputs": [],
   "source": [
    "class BigDrone:\n",
    "    pass"
   ]
  },
  {
   "cell_type": "code",
   "execution_count": 7,
   "id": "7ee50f27",
   "metadata": {},
   "outputs": [
    {
     "name": "stdout",
     "output_type": "stream",
     "text": [
      "<class 'type'>\n"
     ]
    }
   ],
   "source": [
    "print(type(BigDrone))"
   ]
  },
  {
   "cell_type": "markdown",
   "id": "7e11fb4e",
   "metadata": {},
   "source": [
    "<b>we can now create objects</b>"
   ]
  },
  {
   "cell_type": "code",
   "execution_count": 8,
   "id": "375113ac",
   "metadata": {},
   "outputs": [],
   "source": [
    "obj1 = BigDrone()"
   ]
  },
  {
   "cell_type": "code",
   "execution_count": 9,
   "id": "21ee858c",
   "metadata": {},
   "outputs": [
    {
     "name": "stdout",
     "output_type": "stream",
     "text": [
      "<class '__main__.BigDrone'>\n"
     ]
    }
   ],
   "source": [
    "print(type(obj1))"
   ]
  },
  {
   "cell_type": "markdown",
   "id": "0c474280",
   "metadata": {},
   "source": [
    "<b>  Class can be Instantiated that is the action of creating different Instances. Objects are Instances. We can write our code in class and use it in our objects. No need to write code again and again.\n",
    "</b>    \n",
    "    "
   ]
  },
  {
   "cell_type": "markdown",
   "id": "fd49ca9f",
   "metadata": {},
   "source": [
    "<b> Creating our own Objects </b>"
   ]
  },
  {
   "cell_type": "code",
   "execution_count": 15,
   "id": "520621fd",
   "metadata": {},
   "outputs": [],
   "source": [
    "class PlayerCharacter:\n",
    "    def __init__(self,name,age):\n",
    "        self.name = name\n",
    "        self.age = age\n",
    "    def run(self):\n",
    "        print(\"Let's Play!!!\")"
   ]
  },
  {
   "cell_type": "code",
   "execution_count": 16,
   "id": "1f1fde06",
   "metadata": {},
   "outputs": [],
   "source": [
    "player1 = PlayerCharacter('Mohammad',23)\n",
    "player2 = PlayerCharacter('Rashid',23)"
   ]
  },
  {
   "cell_type": "code",
   "execution_count": 17,
   "id": "97bd8c72",
   "metadata": {},
   "outputs": [
    {
     "name": "stdout",
     "output_type": "stream",
     "text": [
      "Mohammad 23\n"
     ]
    }
   ],
   "source": [
    "print(player1.name, player1.age)"
   ]
  },
  {
   "cell_type": "code",
   "execution_count": 18,
   "id": "42f8c942",
   "metadata": {},
   "outputs": [
    {
     "name": "stdout",
     "output_type": "stream",
     "text": [
      "<bound method PlayerCharacter.run of <__main__.PlayerCharacter object at 0x000002871B8EC250>>\n"
     ]
    }
   ],
   "source": [
    "print(player1.run)"
   ]
  },
  {
   "cell_type": "markdown",
   "id": "1d27ff5e",
   "metadata": {},
   "source": [
    "<b> Here __init__ is a dunder method or magic method which allows us to create atttributes for player's character and define class<br><br> self refers to PlayerCharacter.<br> self.name,age are attributes.<br> run is a method.<br> attributes are dynamic.<br> class object attributes are static.</b>"
   ]
  },
  {
   "cell_type": "code",
   "execution_count": 19,
   "id": "d5b993f4",
   "metadata": {},
   "outputs": [],
   "source": [
    "class PlayerCharacter:\n",
    "    membership = True #static - it won't change \n",
    "    def __init__(self,name,age):\n",
    "        self.name = name #dynamic\n",
    "        self.age = age   #dynamic\n",
    "    def run(self):\n",
    "        print(\"Let's Play!!!\")"
   ]
  },
  {
   "cell_type": "code",
   "execution_count": 20,
   "id": "b14ee321",
   "metadata": {},
   "outputs": [
    {
     "name": "stdout",
     "output_type": "stream",
     "text": [
      "The oldest cat is 3 years old.\n"
     ]
    }
   ],
   "source": [
    "class Cat:\n",
    "    species = 'mammal'\n",
    "    def __init__(self, name, age):\n",
    "        self.name = name\n",
    "        self.age = age\n",
    "\n",
    "\n",
    "# 1 Instantiate the Cat object with 3 cats\n",
    "cat1 = Cat('Kitty',3)\n",
    "cat2 = Cat('Mitten',2)\n",
    "cat3 = Cat('Puss',1.5)\n",
    "\n",
    "\n",
    "# 2 Create a function that finds the oldest cat\n",
    "def find_oldest_cat(*args):\n",
    "    oldest = 0\n",
    "    for cat in args:\n",
    "        if cat.age > oldest:\n",
    "            oldest = cat.age\n",
    "    return oldest\n",
    "\n",
    "# 3 Print out: \"The oldest cat is x years old.\". x will be the oldest cat age by using the function in #2\n",
    "print(f'The oldest cat is {find_oldest_cat(cat1, cat2, cat3)} years old.')"
   ]
  },
  {
   "cell_type": "markdown",
   "id": "5aff6dce",
   "metadata": {},
   "source": [
    "<b>@classmethod - It refers to class directly. but it's also care about attributes. The difference is we can print it without creating an object. \n",
    "</b>"
   ]
  },
  {
   "cell_type": "code",
   "execution_count": 21,
   "id": "3792d647",
   "metadata": {},
   "outputs": [],
   "source": [
    "class PlayerCharacter:\n",
    "    membership = True #static - it won't change \n",
    "    def __init__(self,name,age):\n",
    "        self.name = name #dynamic\n",
    "        self.age = age   #dynamic\n",
    "    def run(self):\n",
    "        print(\"Let's Play!!!\")\n",
    "    @classmethod\n",
    "    def add_things(cls,n1,n2): #cls stands for class it refers to class\n",
    "        return n1+n2"
   ]
  },
  {
   "cell_type": "code",
   "execution_count": 22,
   "id": "890070df",
   "metadata": {},
   "outputs": [],
   "source": [
    "player1 = PlayerCharacter('Mohammad',23)\n",
    "player2 = PlayerCharacter('Rashid',23)"
   ]
  },
  {
   "cell_type": "code",
   "execution_count": 25,
   "id": "562efc35",
   "metadata": {},
   "outputs": [
    {
     "name": "stdout",
     "output_type": "stream",
     "text": [
      "5\n"
     ]
    }
   ],
   "source": [
    "print(player1.add_things(1,4))"
   ]
  },
  {
   "cell_type": "code",
   "execution_count": 26,
   "id": "a066ef6e",
   "metadata": {},
   "outputs": [
    {
     "name": "stdout",
     "output_type": "stream",
     "text": [
      "5\n"
     ]
    }
   ],
   "source": [
    "print(PlayerCharacter.add_things(1,4)) #we can call classmethods to class directly thats the difference"
   ]
  },
  {
   "cell_type": "markdown",
   "id": "a207a3d1",
   "metadata": {},
   "source": [
    "<b>we can create new object using classmethod.</b>"
   ]
  },
  {
   "cell_type": "code",
   "execution_count": 27,
   "id": "bf56d40e",
   "metadata": {},
   "outputs": [],
   "source": [
    "class PlayerCharacter:\n",
    "    membership = True #static - it won't change \n",
    "    def __init__(self,name,age):\n",
    "        self.name = name #dynamic\n",
    "        self.age = age   #dynamic\n",
    "    def run(self):\n",
    "        print(\"Let's Play!!!\")\n",
    "    @classmethod\n",
    "    def add_things(cls,n1,n2): #cls stands for class it refers to class\n",
    "        return cls('Teddy',n1+n2)"
   ]
  },
  {
   "cell_type": "code",
   "execution_count": 29,
   "id": "3eca69bf",
   "metadata": {},
   "outputs": [],
   "source": [
    "player3 = PlayerCharacter.add_things(1,3)"
   ]
  },
  {
   "cell_type": "code",
   "execution_count": 30,
   "id": "72ec3a3f",
   "metadata": {},
   "outputs": [
    {
     "name": "stdout",
     "output_type": "stream",
     "text": [
      "Teddy 4\n"
     ]
    }
   ],
   "source": [
    "print(player3.name,player3.age)"
   ]
  },
  {
   "cell_type": "markdown",
   "id": "5d0149b3",
   "metadata": {},
   "source": [
    "<b>@staticmethod - the difference between classmethod and staticmethod is static method don't care about attributes.\n",
    "</b>    "
   ]
  },
  {
   "cell_type": "code",
   "execution_count": 34,
   "id": "530299c0",
   "metadata": {},
   "outputs": [],
   "source": [
    "class PlayerCharacter:\n",
    "    \n",
    "    membership = True #static - it won't change \n",
    "    \n",
    "    def __init__(self,name,age):\n",
    "        self.name = name #dynamic\n",
    "        self.age = age   #dynamic\n",
    "        \n",
    "    def run(self):\n",
    "        print(\"Let's Play!!!\")\n",
    "        \n",
    "    @classmethod\n",
    "    def add_things(cls,n1,n2): #cls stands for class it refers to class\n",
    "        return cls('Teddy',n1+n2)\n",
    "    \n",
    "    @staticmethod\n",
    "    def add_things2(n1,n2):\n",
    "        return n1+n2"
   ]
  },
  {
   "cell_type": "code",
   "execution_count": 35,
   "id": "10b17ceb",
   "metadata": {},
   "outputs": [],
   "source": [
    "player4 = PlayerCharacter('kevin',20)"
   ]
  },
  {
   "cell_type": "code",
   "execution_count": 36,
   "id": "b4eddce7",
   "metadata": {},
   "outputs": [
    {
     "data": {
      "text/plain": [
       "9"
      ]
     },
     "execution_count": 36,
     "metadata": {},
     "output_type": "execute_result"
    }
   ],
   "source": [
    "player4.add_things2(4,5)"
   ]
  },
  {
   "cell_type": "markdown",
   "id": "6defd186",
   "metadata": {},
   "source": [
    "<b>----------4 PILLARS OF OOP----------</b>"
   ]
  },
  {
   "cell_type": "markdown",
   "id": "b6fb0a38",
   "metadata": {},
   "source": [
    "<b>1. Encapsulation<br>\n",
    "    Encapsulation is binding of data and functions that manipulate that data and we Encapsulate into on big object so that we keep everything in this box that users or code or other machines can interact with. (Attributes & Methods)"
   ]
  },
  {
   "cell_type": "code",
   "execution_count": 3,
   "id": "3959f57d",
   "metadata": {},
   "outputs": [
    {
     "name": "stdout",
     "output_type": "stream",
     "text": [
      "I'm Mohammad and I'm 23 years old.\n",
      "None\n"
     ]
    }
   ],
   "source": [
    "class PlayerCharacter:\n",
    "    \n",
    "    membership = True\n",
    "    \n",
    "    def __init__(self,name,age):\n",
    "        self.name = name \n",
    "        self.age = age   \n",
    "        \n",
    "    def run(self):\n",
    "        print(\"Let's Play!!!\")\n",
    "        \n",
    "    def speak(self):\n",
    "        print(f\"I'm {self.name} and I'm {self.age} years old.\")\n",
    "        \n",
    "player1 = PlayerCharacter('Mohammad',23)\n",
    "print(player1.speak())"
   ]
  },
  {
   "cell_type": "markdown",
   "id": "2765ccf3",
   "metadata": {},
   "source": [
    "<b> 2. Abstraction <br>\n",
    "    Abstraction means hiding the information or abstracting away information and giving access to what necessary.<br><br> In above program, when I run speak(). I got output i don't need to worry about implementation that how it works behind the bar.</b>"
   ]
  },
  {
   "cell_type": "markdown",
   "id": "d4054e66",
   "metadata": {},
   "source": [
    "<b>Public, Protected & Private Variables</b>"
   ]
  },
  {
   "cell_type": "markdown",
   "id": "adaba762",
   "metadata": {},
   "source": [
    "<b> GOOD PROGRAMMER SHOULD KNOW </b><br><br>\n",
    "<b>Public can be access or overwritten anywhere.</b><br><br>\n",
    "<b>Protected can be access or overwritten only in subclass or childclass.</b><br><br>\n",
    "<b>Private can not be access or modified.</b><br><br>\n",
    "<b>WE CAN CHANGE THEM ALL BUT ITS THE HINT FOR GOOD DEVELOPER.</b><br><br>"
   ]
  },
  {
   "cell_type": "markdown",
   "id": "a8b46067",
   "metadata": {},
   "source": [
    "<b>Public</b>"
   ]
  },
  {
   "cell_type": "code",
   "execution_count": 6,
   "id": "396ba356",
   "metadata": {},
   "outputs": [],
   "source": [
    "class car():\n",
    "    def __init__(self, windows, doors, enginetype):\n",
    "        \n",
    "        self.windows=windows\n",
    "        self.doors=doors\n",
    "        self.enginetype=enginetype\n",
    "audi = car(4,5,\"Diesel\")\n",
    "#we can overwrite\n",
    "audi.windows = 6"
   ]
  },
  {
   "cell_type": "code",
   "execution_count": 7,
   "id": "7d1ae243",
   "metadata": {},
   "outputs": [
    {
     "name": "stdout",
     "output_type": "stream",
     "text": [
      "6\n"
     ]
    }
   ],
   "source": [
    "print(audi.windows)"
   ]
  },
  {
   "cell_type": "code",
   "execution_count": 8,
   "id": "5ff2294c",
   "metadata": {},
   "outputs": [
    {
     "data": {
      "text/plain": [
       "['__class__',\n",
       " '__delattr__',\n",
       " '__dict__',\n",
       " '__dir__',\n",
       " '__doc__',\n",
       " '__eq__',\n",
       " '__format__',\n",
       " '__ge__',\n",
       " '__getattribute__',\n",
       " '__gt__',\n",
       " '__hash__',\n",
       " '__init__',\n",
       " '__init_subclass__',\n",
       " '__le__',\n",
       " '__lt__',\n",
       " '__module__',\n",
       " '__ne__',\n",
       " '__new__',\n",
       " '__reduce__',\n",
       " '__reduce_ex__',\n",
       " '__repr__',\n",
       " '__setattr__',\n",
       " '__sizeof__',\n",
       " '__str__',\n",
       " '__subclasshook__',\n",
       " '__weakref__',\n",
       " 'doors',\n",
       " 'enginetype',\n",
       " 'windows']"
      ]
     },
     "execution_count": 8,
     "metadata": {},
     "output_type": "execute_result"
    }
   ],
   "source": [
    "dir(audi) # 'doors','enginetype', 'windows' public variables."
   ]
  },
  {
   "cell_type": "markdown",
   "id": "a3d2bc75",
   "metadata": {},
   "source": [
    "<b>Protected</b>"
   ]
  },
  {
   "cell_type": "code",
   "execution_count": 16,
   "id": "0a8926d1",
   "metadata": {},
   "outputs": [],
   "source": [
    "class car():\n",
    "    def __init__(self, windows, doors, enginetype):\n",
    "        \n",
    "        self._windows=windows\n",
    "        self._doors=doors\n",
    "        self._enginetype=enginetype\n",
    "audi = car(4,5,\"Diesel\")\n",
    "\n",
    "class truck(car):\n",
    "    def __init__(self, windows, doors, enginetype,horse_power):\n",
    "        super().__init__( windows, doors, enginetype)\n",
    "        self._horse_power=horse_power\n",
    "        "
   ]
  },
  {
   "cell_type": "code",
   "execution_count": 13,
   "id": "e2131ee0",
   "metadata": {},
   "outputs": [
    {
     "data": {
      "text/plain": [
       "['__class__',\n",
       " '__delattr__',\n",
       " '__dict__',\n",
       " '__dir__',\n",
       " '__doc__',\n",
       " '__eq__',\n",
       " '__format__',\n",
       " '__ge__',\n",
       " '__getattribute__',\n",
       " '__gt__',\n",
       " '__hash__',\n",
       " '__init__',\n",
       " '__init_subclass__',\n",
       " '__le__',\n",
       " '__lt__',\n",
       " '__module__',\n",
       " '__ne__',\n",
       " '__new__',\n",
       " '__reduce__',\n",
       " '__reduce_ex__',\n",
       " '__repr__',\n",
       " '__setattr__',\n",
       " '__sizeof__',\n",
       " '__str__',\n",
       " '__subclasshook__',\n",
       " '__weakref__',\n",
       " '_doors',\n",
       " '_enginetype',\n",
       " '_windows']"
      ]
     },
     "execution_count": 13,
     "metadata": {},
     "output_type": "execute_result"
    }
   ],
   "source": [
    "dir(audi) # '_doors','_enginetype', '_windows' protected variables."
   ]
  },
  {
   "cell_type": "code",
   "execution_count": 17,
   "id": "ed1017b0",
   "metadata": {
    "scrolled": true
   },
   "outputs": [
    {
     "data": {
      "text/plain": [
       "['__class__',\n",
       " '__delattr__',\n",
       " '__dict__',\n",
       " '__dir__',\n",
       " '__doc__',\n",
       " '__eq__',\n",
       " '__format__',\n",
       " '__ge__',\n",
       " '__getattribute__',\n",
       " '__gt__',\n",
       " '__hash__',\n",
       " '__init__',\n",
       " '__init_subclass__',\n",
       " '__le__',\n",
       " '__lt__',\n",
       " '__module__',\n",
       " '__ne__',\n",
       " '__new__',\n",
       " '__reduce__',\n",
       " '__reduce_ex__',\n",
       " '__repr__',\n",
       " '__setattr__',\n",
       " '__sizeof__',\n",
       " '__str__',\n",
       " '__subclasshook__',\n",
       " '__weakref__',\n",
       " '_doors',\n",
       " '_enginetype',\n",
       " '_horse_power',\n",
       " '_windows']"
      ]
     },
     "execution_count": 17,
     "metadata": {},
     "output_type": "execute_result"
    }
   ],
   "source": [
    "truck = truck(4,4,'Diesel',4000)\n",
    "dir(truck)"
   ]
  },
  {
   "cell_type": "code",
   "execution_count": 18,
   "id": "0c1d7f22",
   "metadata": {},
   "outputs": [],
   "source": [
    "truck._doors = 5 #we can overwrite in subclass"
   ]
  },
  {
   "cell_type": "markdown",
   "id": "51a8cfdf",
   "metadata": {},
   "source": [
    "\n",
    "<b>Private</b>"
   ]
  },
  {
   "cell_type": "code",
   "execution_count": 19,
   "id": "5fb93297",
   "metadata": {},
   "outputs": [],
   "source": [
    "class car():\n",
    "    def __init__(self, windows, doors, enginetype):\n",
    "        \n",
    "        self.__windows=windows\n",
    "        self.__doors=doors\n",
    "        self.__enginetype=enginetype\n",
    "audi = car(4,5,\"Diesel\") #we shouldn't change the value"
   ]
  },
  {
   "cell_type": "code",
   "execution_count": 22,
   "id": "d2bf243e",
   "metadata": {},
   "outputs": [
    {
     "name": "stdout",
     "output_type": "stream",
     "text": [
      "['__class__', '__delattr__', '__dict__', '__dir__', '__doc__', '__eq__', '__format__', '__ge__', '__getattribute__', '__gt__', '__hash__', '__init__', '__init_subclass__', '__le__', '__lt__', '__module__', '__ne__', '__new__', '__reduce__', '__reduce_ex__', '__repr__', '__setattr__', '__sizeof__', '__str__', '__subclasshook__', '__weakref__', '_car__doors', '_car__enginetype', '_car__windows']\n"
     ]
    }
   ],
   "source": [
    "print(dir(audi)) #'_car__doors', '_car__enginetype', '_car__windows' private"
   ]
  },
  {
   "cell_type": "markdown",
   "id": "26247ab5",
   "metadata": {},
   "source": [
    "<b>3. Inheritance </b><br>\n",
    "<b>Inheritance allows objects to take on the properties of existing objects. so you can inherit classes.</b>"
   ]
  },
  {
   "cell_type": "code",
   "execution_count": 25,
   "id": "3e839ffc",
   "metadata": {},
   "outputs": [],
   "source": [
    "class User:\n",
    "    def sign_in(self):\n",
    "        print(\"Logged in\")\n",
    "\n",
    "class Wizard(User):\n",
    "    def __init__(self,name,power):\n",
    "        self.name = name\n",
    "        self.power = power\n",
    "        \n",
    "    def attack(self):\n",
    "        print(f\"Attacking with power of - {self.power}\")\n",
    "        \n",
    "class Archer(User):\n",
    "    def __init__(self,name,arrows):\n",
    "        self.name = name\n",
    "        self.arrows = arrows      \n",
    "        \n",
    "    def attack(self):\n",
    "        print(f\"Arrows left - {self.arrows}\")\n",
    "        \n"
   ]
  },
  {
   "cell_type": "code",
   "execution_count": 32,
   "id": "7aa8dd62",
   "metadata": {},
   "outputs": [
    {
     "name": "stdout",
     "output_type": "stream",
     "text": [
      "Loged in\n",
      "Attacking with power of - 50\n"
     ]
    },
    {
     "data": {
      "text/plain": [
       "50"
      ]
     },
     "execution_count": 32,
     "metadata": {},
     "output_type": "execute_result"
    }
   ],
   "source": [
    "wizard1 = Wizard(\"Harry\",50)\n",
    "wizard1.sign_in()\n",
    "wizard1.attack()\n",
    "wizard1.power\n"
   ]
  },
  {
   "cell_type": "code",
   "execution_count": 34,
   "id": "3bb11335",
   "metadata": {},
   "outputs": [
    {
     "name": "stdout",
     "output_type": "stream",
     "text": [
      "Loged in\n",
      "Arrows left - 50\n"
     ]
    },
    {
     "data": {
      "text/plain": [
       "50"
      ]
     },
     "execution_count": 34,
     "metadata": {},
     "output_type": "execute_result"
    }
   ],
   "source": [
    "archer1 = Archer(\"Harry\",50)\n",
    "archer1.sign_in()\n",
    "archer1.attack()\n",
    "archer1.arrows\n"
   ]
  },
  {
   "cell_type": "markdown",
   "id": "68855244",
   "metadata": {},
   "source": [
    "<b>The idea of Inheritance is very very powerful and the key here is parent class (User) and children classes (Wizard and Archer). </b>"
   ]
  },
  {
   "cell_type": "code",
   "execution_count": 40,
   "id": "540fbe0e",
   "metadata": {},
   "outputs": [
    {
     "data": {
      "text/plain": [
       "False"
      ]
     },
     "execution_count": 40,
     "metadata": {},
     "output_type": "execute_result"
    }
   ],
   "source": [
    "# To check Instance, Class - isinstance(Instance, Class)\n",
    "\n",
    "isinstance(wizard1, Wizard) #true\n",
    "isinstance(wizard1, User) #true\n",
    "isinstance(wizard1, Archer) #false\n",
    "\n",
    "\n"
   ]
  },
  {
   "cell_type": "markdown",
   "id": "7d49510b",
   "metadata": {},
   "source": [
    "<b>4. Polymorphism</b><br><br>\n",
    "<b> Objects classes can share the same method names. but those methods names can act differently based on what object calls them<br> In above program, there is an attack method in both Wizard & Archer classes but both have different outputs.</b>\n",
    "\n"
   ]
  },
  {
   "cell_type": "markdown",
   "id": "f880c2cf",
   "metadata": {},
   "source": [
    "<b>--------------------------------------------------</B>"
   ]
  },
  {
   "cell_type": "markdown",
   "id": "a7801f4e",
   "metadata": {},
   "source": [
    "<b> Super() </b>"
   ]
  },
  {
   "cell_type": "code",
   "execution_count": 1,
   "id": "7637e2a1",
   "metadata": {},
   "outputs": [],
   "source": [
    "class Car():\n",
    "    def __init__(self,name,color):\n",
    "        self.name = name\n",
    "        self.color = color\n",
    "class Bike(Car):\n",
    "    def __init__(self,name,color,engine):\n",
    "        super().__init__(name,color) #use different class properties here\n",
    "        self.engine = engine"
   ]
  },
  {
   "cell_type": "code",
   "execution_count": 2,
   "id": "e198ef48",
   "metadata": {},
   "outputs": [
    {
     "data": {
      "text/plain": [
       "['__class__',\n",
       " '__delattr__',\n",
       " '__dict__',\n",
       " '__dir__',\n",
       " '__doc__',\n",
       " '__eq__',\n",
       " '__format__',\n",
       " '__ge__',\n",
       " '__getattribute__',\n",
       " '__gt__',\n",
       " '__hash__',\n",
       " '__init__',\n",
       " '__init_subclass__',\n",
       " '__le__',\n",
       " '__lt__',\n",
       " '__module__',\n",
       " '__ne__',\n",
       " '__new__',\n",
       " '__reduce__',\n",
       " '__reduce_ex__',\n",
       " '__repr__',\n",
       " '__setattr__',\n",
       " '__sizeof__',\n",
       " '__str__',\n",
       " '__subclasshook__',\n",
       " '__weakref__',\n",
       " 'color',\n",
       " 'engine',\n",
       " 'name']"
      ]
     },
     "execution_count": 2,
     "metadata": {},
     "output_type": "execute_result"
    }
   ],
   "source": [
    "bike1 = Bike('Honda','Red','Petrol')\n",
    "Car1 = Car('Audi','White')\n",
    "dir(bike1)"
   ]
  },
  {
   "cell_type": "markdown",
   "id": "bd016e98",
   "metadata": {},
   "source": [
    "<b> Multiple Inheritance </b>"
   ]
  },
  {
   "cell_type": "code",
   "execution_count": 4,
   "id": "b09a9bcb",
   "metadata": {},
   "outputs": [],
   "source": [
    "class User():\n",
    "    def sign_in(self):\n",
    "        return 'Logged In'\n",
    "\n",
    "class Car(User):\n",
    "    def __init__(self,name,color):\n",
    "        self.name = name\n",
    "        self.color = color\n",
    "        \n",
    "class Bike(User):\n",
    "    def __init__(self,is_fast):\n",
    "        self.is_fast = is_fast\n",
    "        \n",
    "class Bicycle(Car,Bike):\n",
    "    def __init__(self,name,color,is_fast,price):\n",
    "        Car.__init__(name,color)\n",
    "        Bike.__init__(is_fast)\n",
    "        self.price = price\n",
    "        \n",
    "    "
   ]
  },
  {
   "cell_type": "code",
   "execution_count": 5,
   "id": "7c29ab96",
   "metadata": {},
   "outputs": [
    {
     "data": {
      "text/plain": [
       "True"
      ]
     },
     "execution_count": 5,
     "metadata": {},
     "output_type": "execute_result"
    }
   ],
   "source": [
    "issubclass(Bicycle,User)"
   ]
  },
  {
   "cell_type": "code",
   "execution_count": null,
   "id": "193c7549",
   "metadata": {},
   "outputs": [],
   "source": []
  }
 ],
 "metadata": {
  "kernelspec": {
   "display_name": "Python 3 (ipykernel)",
   "language": "python",
   "name": "python3"
  },
  "language_info": {
   "codemirror_mode": {
    "name": "ipython",
    "version": 3
   },
   "file_extension": ".py",
   "mimetype": "text/x-python",
   "name": "python",
   "nbconvert_exporter": "python",
   "pygments_lexer": "ipython3",
   "version": "3.9.7"
  }
 },
 "nbformat": 4,
 "nbformat_minor": 5
}
