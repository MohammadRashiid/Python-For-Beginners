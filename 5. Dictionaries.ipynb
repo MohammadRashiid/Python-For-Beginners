{
 "cells": [
  {
   "cell_type": "markdown",
   "id": "00f240b2",
   "metadata": {},
   "source": [
    "<b>Dictionaries are unordered mapping for unordered objects.\n",
    "<br>Use key-value pairing.\n",
    "<br>key-value pairing allowed  users to quickly grab value without knowing index position.\n",
    "<br>{'k1':'v1','k2':'v2'}</b>"
   ]
  },
  {
   "cell_type": "code",
   "execution_count": 1,
   "id": "740501f6",
   "metadata": {},
   "outputs": [],
   "source": [
    "fruits = {'apple':20, 'banana':35, 'grapes':50}"
   ]
  },
  {
   "cell_type": "code",
   "execution_count": 2,
   "id": "8026fc69",
   "metadata": {},
   "outputs": [
    {
     "data": {
      "text/plain": [
       "50"
      ]
     },
     "execution_count": 2,
     "metadata": {},
     "output_type": "execute_result"
    }
   ],
   "source": [
    "#price of grapes\n",
    "fruits['grapes']"
   ]
  },
  {
   "cell_type": "markdown",
   "id": "909deeb2",
   "metadata": {},
   "source": [
    "<b>Dictionaries can have int, floats, strings and even lists.</b>"
   ]
  },
  {
   "cell_type": "code",
   "execution_count": 3,
   "id": "56912657",
   "metadata": {},
   "outputs": [],
   "source": [
    "d1 = {'str1':'string value', 'int1':1, 2:3, 'l1':[1,'a',2.1]}"
   ]
  },
  {
   "cell_type": "code",
   "execution_count": 4,
   "id": "c36515cb",
   "metadata": {},
   "outputs": [
    {
     "data": {
      "text/plain": [
       "3"
      ]
     },
     "execution_count": 4,
     "metadata": {},
     "output_type": "execute_result"
    }
   ],
   "source": [
    "d1[2]"
   ]
  },
  {
   "cell_type": "code",
   "execution_count": 5,
   "id": "7f9a5f5e",
   "metadata": {},
   "outputs": [
    {
     "data": {
      "text/plain": [
       "'a'"
      ]
     },
     "execution_count": 5,
     "metadata": {},
     "output_type": "execute_result"
    }
   ],
   "source": [
    "d1['l1'][1]"
   ]
  },
  {
   "cell_type": "code",
   "execution_count": 6,
   "id": "fc2cb1ab",
   "metadata": {},
   "outputs": [
    {
     "data": {
      "text/plain": [
       "'A'"
      ]
     },
     "execution_count": 6,
     "metadata": {},
     "output_type": "execute_result"
    }
   ],
   "source": [
    "d1['l1'][1].upper()"
   ]
  },
  {
   "cell_type": "markdown",
   "id": "7e8a669c",
   "metadata": {},
   "source": [
    "<b>We can add new value</b>"
   ]
  },
  {
   "cell_type": "code",
   "execution_count": 7,
   "id": "2dfe0ea1",
   "metadata": {},
   "outputs": [],
   "source": [
    "d1['floating'] = 5.6"
   ]
  },
  {
   "cell_type": "code",
   "execution_count": 8,
   "id": "fd1d7657",
   "metadata": {},
   "outputs": [
    {
     "data": {
      "text/plain": [
       "{'str1': 'string value', 'int1': 1, 2: 3, 'l1': [1, 'a', 2.1], 'floating': 5.6}"
      ]
     },
     "execution_count": 8,
     "metadata": {},
     "output_type": "execute_result"
    }
   ],
   "source": [
    "d1"
   ]
  },
  {
   "cell_type": "markdown",
   "id": "89f87ff2",
   "metadata": {},
   "source": [
    "<b>change value</b>"
   ]
  },
  {
   "cell_type": "code",
   "execution_count": 9,
   "id": "87312765",
   "metadata": {},
   "outputs": [],
   "source": [
    "d1['str1'] = 'abc'"
   ]
  },
  {
   "cell_type": "code",
   "execution_count": 10,
   "id": "30ec46ca",
   "metadata": {},
   "outputs": [
    {
     "data": {
      "text/plain": [
       "{'str1': 'abc', 'int1': 1, 2: 3, 'l1': [1, 'a', 2.1], 'floating': 5.6}"
      ]
     },
     "execution_count": 10,
     "metadata": {},
     "output_type": "execute_result"
    }
   ],
   "source": [
    "d1"
   ]
  },
  {
   "cell_type": "markdown",
   "id": "a7ecfa5b",
   "metadata": {},
   "source": [
    "<b>Create empty dictionary</b>"
   ]
  },
  {
   "cell_type": "code",
   "execution_count": 11,
   "id": "8acb6e8b",
   "metadata": {},
   "outputs": [],
   "source": [
    "d2 = {}"
   ]
  },
  {
   "cell_type": "code",
   "execution_count": 12,
   "id": "dd54ff12",
   "metadata": {},
   "outputs": [],
   "source": [
    "d2['first'] = 1"
   ]
  },
  {
   "cell_type": "code",
   "execution_count": 13,
   "id": "75ee7667",
   "metadata": {},
   "outputs": [
    {
     "data": {
      "text/plain": [
       "{'first': 1}"
      ]
     },
     "execution_count": 13,
     "metadata": {},
     "output_type": "execute_result"
    }
   ],
   "source": [
    "d2"
   ]
  },
  {
   "cell_type": "markdown",
   "id": "879a276c",
   "metadata": {},
   "source": [
    "<b>Nesting </b>"
   ]
  },
  {
   "cell_type": "code",
   "execution_count": 14,
   "id": "a86d088f",
   "metadata": {},
   "outputs": [],
   "source": [
    "d3 = {'k1':{'k2':{'k3':4}}}"
   ]
  },
  {
   "cell_type": "code",
   "execution_count": 16,
   "id": "ae373787",
   "metadata": {},
   "outputs": [
    {
     "data": {
      "text/plain": [
       "4"
      ]
     },
     "execution_count": 16,
     "metadata": {},
     "output_type": "execute_result"
    }
   ],
   "source": [
    "d3['k1']['k2']['k3']"
   ]
  },
  {
   "cell_type": "markdown",
   "id": "0e084cd5",
   "metadata": {},
   "source": [
    "<b>Methods</b>"
   ]
  },
  {
   "cell_type": "code",
   "execution_count": 17,
   "id": "3541e970",
   "metadata": {},
   "outputs": [
    {
     "data": {
      "text/plain": [
       "dict_keys(['str1', 'int1', 2, 'l1', 'floating'])"
      ]
     },
     "execution_count": 17,
     "metadata": {},
     "output_type": "execute_result"
    }
   ],
   "source": [
    "d1.keys()"
   ]
  },
  {
   "cell_type": "code",
   "execution_count": 18,
   "id": "6917aa15",
   "metadata": {},
   "outputs": [
    {
     "data": {
      "text/plain": [
       "dict_values(['abc', 1, 3, [1, 'a', 2.1], 5.6])"
      ]
     },
     "execution_count": 18,
     "metadata": {},
     "output_type": "execute_result"
    }
   ],
   "source": [
    "d1.values()"
   ]
  },
  {
   "cell_type": "code",
   "execution_count": 19,
   "id": "7b624c8c",
   "metadata": {},
   "outputs": [
    {
     "data": {
      "text/plain": [
       "dict_items([('str1', 'abc'), ('int1', 1), (2, 3), ('l1', [1, 'a', 2.1]), ('floating', 5.6)])"
      ]
     },
     "execution_count": 19,
     "metadata": {},
     "output_type": "execute_result"
    }
   ],
   "source": [
    "d1.items()"
   ]
  }
 ],
 "metadata": {
  "kernelspec": {
   "display_name": "Python 3 (ipykernel)",
   "language": "python",
   "name": "python3"
  },
  "language_info": {
   "codemirror_mode": {
    "name": "ipython",
    "version": 3
   },
   "file_extension": ".py",
   "mimetype": "text/x-python",
   "name": "python",
   "nbconvert_exporter": "python",
   "pygments_lexer": "ipython3",
   "version": "3.9.7"
  }
 },
 "nbformat": 4,
 "nbformat_minor": 5
}
