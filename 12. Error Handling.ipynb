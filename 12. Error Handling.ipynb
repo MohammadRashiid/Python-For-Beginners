{
 "cells": [
  {
   "cell_type": "markdown",
   "id": "71be3954",
   "metadata": {},
   "source": [
    "<b>12.1 Errors in Python - There are lots of errors and <a href=\"https://docs.python.org/3/library/exceptions.html\">exceptions</a> in python.</b><br>\n",
    "<b>'hello - Syntax Error<br>\n",
    "    1+'a' - Type Error<br>\n",
    "    1+name - Name Error<br>\n",
    "    d={'a':1} d['b'] - Key Error<br>\n",
    "    5/0 - ZeroDivision Error<br>\n",
    "    etc.</b>"
   ]
  },
  {
   "cell_type": "code",
   "execution_count": 1,
   "id": "46b37bcd",
   "metadata": {
    "collapsed": true
   },
   "outputs": [
    {
     "ename": "SyntaxError",
     "evalue": "EOL while scanning string literal (Temp/ipykernel_6940/628875690.py, line 1)",
     "output_type": "error",
     "traceback": [
      "\u001b[1;36m  File \u001b[1;32m\"C:\\Users\\MOHAMM~1\\AppData\\Local\\Temp/ipykernel_6940/628875690.py\"\u001b[1;36m, line \u001b[1;32m1\u001b[0m\n\u001b[1;33m    'hello\u001b[0m\n\u001b[1;37m          ^\u001b[0m\n\u001b[1;31mSyntaxError\u001b[0m\u001b[1;31m:\u001b[0m EOL while scanning string literal\n"
     ]
    }
   ],
   "source": [
    "'hello"
   ]
  },
  {
   "cell_type": "code",
   "execution_count": 2,
   "id": "e0f5ac99",
   "metadata": {
    "collapsed": true
   },
   "outputs": [
    {
     "ename": "TypeError",
     "evalue": "unsupported operand type(s) for +: 'int' and 'str'",
     "output_type": "error",
     "traceback": [
      "\u001b[1;31m---------------------------------------------------------------------------\u001b[0m",
      "\u001b[1;31mTypeError\u001b[0m                                 Traceback (most recent call last)",
      "\u001b[1;32mC:\\Users\\MOHAMM~1\\AppData\\Local\\Temp/ipykernel_6940/1332625590.py\u001b[0m in \u001b[0;36m<module>\u001b[1;34m\u001b[0m\n\u001b[1;32m----> 1\u001b[1;33m \u001b[1;36m1\u001b[0m\u001b[1;33m+\u001b[0m\u001b[1;34m'a'\u001b[0m\u001b[1;33m\u001b[0m\u001b[1;33m\u001b[0m\u001b[0m\n\u001b[0m",
      "\u001b[1;31mTypeError\u001b[0m: unsupported operand type(s) for +: 'int' and 'str'"
     ]
    }
   ],
   "source": [
    "1+'a'"
   ]
  },
  {
   "cell_type": "code",
   "execution_count": 3,
   "id": "168751ab",
   "metadata": {
    "collapsed": true
   },
   "outputs": [
    {
     "ename": "NameError",
     "evalue": "name 'name' is not defined",
     "output_type": "error",
     "traceback": [
      "\u001b[1;31m---------------------------------------------------------------------------\u001b[0m",
      "\u001b[1;31mNameError\u001b[0m                                 Traceback (most recent call last)",
      "\u001b[1;32mC:\\Users\\MOHAMM~1\\AppData\\Local\\Temp/ipykernel_6940/871482192.py\u001b[0m in \u001b[0;36m<module>\u001b[1;34m\u001b[0m\n\u001b[1;32m----> 1\u001b[1;33m \u001b[1;36m1\u001b[0m\u001b[1;33m+\u001b[0m\u001b[0mname\u001b[0m\u001b[1;33m\u001b[0m\u001b[1;33m\u001b[0m\u001b[0m\n\u001b[0m",
      "\u001b[1;31mNameError\u001b[0m: name 'name' is not defined"
     ]
    }
   ],
   "source": [
    "1+name"
   ]
  },
  {
   "cell_type": "code",
   "execution_count": 4,
   "id": "8e896420",
   "metadata": {
    "collapsed": true
   },
   "outputs": [
    {
     "ename": "IndexError",
     "evalue": "list index out of range",
     "output_type": "error",
     "traceback": [
      "\u001b[1;31m---------------------------------------------------------------------------\u001b[0m",
      "\u001b[1;31mIndexError\u001b[0m                                Traceback (most recent call last)",
      "\u001b[1;32mC:\\Users\\MOHAMM~1\\AppData\\Local\\Temp/ipykernel_6940/571988709.py\u001b[0m in \u001b[0;36m<module>\u001b[1;34m\u001b[0m\n\u001b[0;32m      1\u001b[0m \u001b[0ml1\u001b[0m\u001b[1;33m=\u001b[0m\u001b[1;33m[\u001b[0m\u001b[1;36m1\u001b[0m\u001b[1;33m,\u001b[0m\u001b[1;36m2\u001b[0m\u001b[1;33m,\u001b[0m\u001b[1;36m3\u001b[0m\u001b[1;33m]\u001b[0m\u001b[1;33m\u001b[0m\u001b[1;33m\u001b[0m\u001b[0m\n\u001b[1;32m----> 2\u001b[1;33m \u001b[0ml1\u001b[0m\u001b[1;33m[\u001b[0m\u001b[1;36m5\u001b[0m\u001b[1;33m]\u001b[0m\u001b[1;33m\u001b[0m\u001b[1;33m\u001b[0m\u001b[0m\n\u001b[0m",
      "\u001b[1;31mIndexError\u001b[0m: list index out of range"
     ]
    }
   ],
   "source": [
    "l1=[1,2,3]\n",
    "l1[5]"
   ]
  },
  {
   "cell_type": "code",
   "execution_count": 5,
   "id": "864309f8",
   "metadata": {
    "collapsed": true
   },
   "outputs": [
    {
     "ename": "KeyError",
     "evalue": "'b'",
     "output_type": "error",
     "traceback": [
      "\u001b[1;31m---------------------------------------------------------------------------\u001b[0m",
      "\u001b[1;31mKeyError\u001b[0m                                  Traceback (most recent call last)",
      "\u001b[1;32mC:\\Users\\MOHAMM~1\\AppData\\Local\\Temp/ipykernel_6940/1996805703.py\u001b[0m in \u001b[0;36m<module>\u001b[1;34m\u001b[0m\n\u001b[0;32m      1\u001b[0m \u001b[0md\u001b[0m\u001b[1;33m=\u001b[0m\u001b[1;33m{\u001b[0m\u001b[1;34m'a'\u001b[0m\u001b[1;33m:\u001b[0m\u001b[1;36m1\u001b[0m\u001b[1;33m}\u001b[0m\u001b[1;33m\u001b[0m\u001b[1;33m\u001b[0m\u001b[0m\n\u001b[1;32m----> 2\u001b[1;33m \u001b[0md\u001b[0m\u001b[1;33m[\u001b[0m\u001b[1;34m'b'\u001b[0m\u001b[1;33m]\u001b[0m\u001b[1;33m\u001b[0m\u001b[1;33m\u001b[0m\u001b[0m\n\u001b[0m",
      "\u001b[1;31mKeyError\u001b[0m: 'b'"
     ]
    }
   ],
   "source": [
    "d={'a':1}\n",
    "d['b']"
   ]
  },
  {
   "cell_type": "code",
   "execution_count": 6,
   "id": "fae713a7",
   "metadata": {
    "collapsed": true
   },
   "outputs": [
    {
     "ename": "ZeroDivisionError",
     "evalue": "division by zero",
     "output_type": "error",
     "traceback": [
      "\u001b[1;31m---------------------------------------------------------------------------\u001b[0m",
      "\u001b[1;31mZeroDivisionError\u001b[0m                         Traceback (most recent call last)",
      "\u001b[1;32mC:\\Users\\MOHAMM~1\\AppData\\Local\\Temp/ipykernel_6940/2874912419.py\u001b[0m in \u001b[0;36m<module>\u001b[1;34m\u001b[0m\n\u001b[1;32m----> 1\u001b[1;33m \u001b[1;36m5\u001b[0m\u001b[1;33m/\u001b[0m\u001b[1;36m0\u001b[0m\u001b[1;33m\u001b[0m\u001b[1;33m\u001b[0m\u001b[0m\n\u001b[0m",
      "\u001b[1;31mZeroDivisionError\u001b[0m: division by zero"
     ]
    }
   ],
   "source": [
    "5/0"
   ]
  },
  {
   "cell_type": "markdown",
   "id": "7c872530",
   "metadata": {},
   "source": [
    "<b>12.2 Error Handling</b>"
   ]
  },
  {
   "cell_type": "code",
   "execution_count": 7,
   "id": "98ccc755",
   "metadata": {
    "collapsed": true
   },
   "outputs": [
    {
     "name": "stdout",
     "output_type": "stream",
     "text": [
      "Enter your age: kfkdlshfd\n"
     ]
    },
    {
     "ename": "ValueError",
     "evalue": "invalid literal for int() with base 10: 'kfkdlshfd'",
     "output_type": "error",
     "traceback": [
      "\u001b[1;31m---------------------------------------------------------------------------\u001b[0m",
      "\u001b[1;31mValueError\u001b[0m                                Traceback (most recent call last)",
      "\u001b[1;32mC:\\Users\\MOHAMM~1\\AppData\\Local\\Temp/ipykernel_6940/1429134655.py\u001b[0m in \u001b[0;36m<module>\u001b[1;34m\u001b[0m\n\u001b[1;32m----> 1\u001b[1;33m \u001b[0mage\u001b[0m \u001b[1;33m=\u001b[0m \u001b[0mint\u001b[0m\u001b[1;33m(\u001b[0m\u001b[0minput\u001b[0m\u001b[1;33m(\u001b[0m\u001b[1;34m\"Enter your age: \"\u001b[0m\u001b[1;33m)\u001b[0m\u001b[1;33m)\u001b[0m\u001b[1;33m\u001b[0m\u001b[1;33m\u001b[0m\u001b[0m\n\u001b[0m\u001b[0;32m      2\u001b[0m \u001b[0mprint\u001b[0m\u001b[1;33m(\u001b[0m\u001b[0mage\u001b[0m\u001b[1;33m)\u001b[0m\u001b[1;33m\u001b[0m\u001b[1;33m\u001b[0m\u001b[0m\n",
      "\u001b[1;31mValueError\u001b[0m: invalid literal for int() with base 10: 'kfkdlshfd'"
     ]
    }
   ],
   "source": [
    "age = int(input(\"Enter your age: \"))\n",
    "print(age)"
   ]
  },
  {
   "cell_type": "markdown",
   "id": "1ce0c739",
   "metadata": {},
   "source": [
    "<b>To avoid this error we will use try and except keywords which is error handling.</b>"
   ]
  },
  {
   "cell_type": "code",
   "execution_count": 8,
   "id": "af394128",
   "metadata": {
    "collapsed": true
   },
   "outputs": [
    {
     "name": "stdout",
     "output_type": "stream",
     "text": [
      "Enter your age: ghg\n",
      "Please enter a number.\n"
     ]
    }
   ],
   "source": [
    "try: \n",
    "    age = int(input(\"Enter your age: \"))\n",
    "    print(age)\n",
    "except:\n",
    "    print(\"Please enter a number.\")"
   ]
  },
  {
   "cell_type": "markdown",
   "id": "3db8ff2b",
   "metadata": {},
   "source": [
    "<b>But it just ended here not asking for input again to solve this we will use while loop here</b>"
   ]
  },
  {
   "cell_type": "code",
   "execution_count": 9,
   "id": "7cf253a9",
   "metadata": {
    "collapsed": true
   },
   "outputs": [
    {
     "name": "stdout",
     "output_type": "stream",
     "text": [
      "Enter your age: jbjkgk\n",
      "Please enter a number.\n",
      "Enter your age: fuyjhgui\n",
      "Please enter a number.\n",
      "Enter your age: 18\n",
      "18\n",
      "Thank you!\n"
     ]
    }
   ],
   "source": [
    "while True:\n",
    "    try: \n",
    "        age = int(input(\"Enter your age: \"))\n",
    "        print(age)\n",
    "    except:\n",
    "        print(\"Please enter a number.\")\n",
    "    else:\n",
    "        print(\"Thank you!\")\n",
    "        break"
   ]
  },
  {
   "cell_type": "markdown",
   "id": "ea2117db",
   "metadata": {},
   "source": [
    "<b>Now, What we have possibilities to have multiple errors. In above program we have seen ValueError but if we try to do 10/age then 10/0 we will get ZeroDivision Error. How can we add two exceptions for two different Errors?\n",
    "</b>"
   ]
  },
  {
   "cell_type": "code",
   "execution_count": 10,
   "id": "379a6728",
   "metadata": {
    "collapsed": true
   },
   "outputs": [
    {
     "name": "stdout",
     "output_type": "stream",
     "text": [
      "Enter your age: 0\n",
      "Please enter a number.\n",
      "Enter your age: 12\n",
      "0.8333333333333334\n",
      "Thank you!\n"
     ]
    }
   ],
   "source": [
    "while True:\n",
    "    try: \n",
    "        age = int(input(\"Enter your age: \"))\n",
    "        print(10/age) #here we should have different error msg \n",
    "    except:\n",
    "        print(\"Please enter a number.\")\n",
    "    else:\n",
    "        print(\"Thank you!\")\n",
    "        break"
   ]
  },
  {
   "cell_type": "code",
   "execution_count": 13,
   "id": "89427b68",
   "metadata": {
    "collapsed": true
   },
   "outputs": [
    {
     "name": "stdout",
     "output_type": "stream",
     "text": [
      "Enter your age: 0\n",
      "Please enter a number other than 0.\n",
      "Enter your age: 12\n",
      "Thank you!\n"
     ]
    }
   ],
   "source": [
    "while True:\n",
    "    try: \n",
    "        age = int(input(\"Enter your age: \"))\n",
    "        10/age #here we should have different error msg \n",
    "    except ValueError:\n",
    "        print(\"Please enter a number.\")\n",
    "    except ZeroDivisionError:\n",
    "        print(\"Please enter a number other than 0.\")\n",
    "    else:\n",
    "        print(\"Thank you!\")\n",
    "        break"
   ]
  },
  {
   "cell_type": "markdown",
   "id": "4d5ab439",
   "metadata": {},
   "source": [
    "<b>-------------------------------</b>"
   ]
  },
  {
   "cell_type": "code",
   "execution_count": 14,
   "id": "6a1e7b80",
   "metadata": {
    "collapsed": true
   },
   "outputs": [
    {
     "ename": "TypeError",
     "evalue": "can only concatenate str (not \"int\") to str",
     "output_type": "error",
     "traceback": [
      "\u001b[1;31m---------------------------------------------------------------------------\u001b[0m",
      "\u001b[1;31mTypeError\u001b[0m                                 Traceback (most recent call last)",
      "\u001b[1;32mC:\\Users\\MOHAMM~1\\AppData\\Local\\Temp/ipykernel_6940/2080019883.py\u001b[0m in \u001b[0;36m<module>\u001b[1;34m\u001b[0m\n\u001b[0;32m      1\u001b[0m \u001b[1;32mdef\u001b[0m \u001b[0madd\u001b[0m\u001b[1;33m(\u001b[0m\u001b[0mn1\u001b[0m\u001b[1;33m,\u001b[0m\u001b[0mn2\u001b[0m\u001b[1;33m)\u001b[0m\u001b[1;33m:\u001b[0m\u001b[1;33m\u001b[0m\u001b[1;33m\u001b[0m\u001b[0m\n\u001b[0;32m      2\u001b[0m     \u001b[1;32mreturn\u001b[0m \u001b[0mn1\u001b[0m\u001b[1;33m+\u001b[0m\u001b[0mn2\u001b[0m\u001b[1;33m\u001b[0m\u001b[1;33m\u001b[0m\u001b[0m\n\u001b[1;32m----> 3\u001b[1;33m \u001b[0madd\u001b[0m\u001b[1;33m(\u001b[0m\u001b[1;34m'1'\u001b[0m\u001b[1;33m,\u001b[0m\u001b[1;36m2\u001b[0m\u001b[1;33m)\u001b[0m\u001b[1;33m\u001b[0m\u001b[1;33m\u001b[0m\u001b[0m\n\u001b[0m",
      "\u001b[1;32mC:\\Users\\MOHAMM~1\\AppData\\Local\\Temp/ipykernel_6940/2080019883.py\u001b[0m in \u001b[0;36madd\u001b[1;34m(n1, n2)\u001b[0m\n\u001b[0;32m      1\u001b[0m \u001b[1;32mdef\u001b[0m \u001b[0madd\u001b[0m\u001b[1;33m(\u001b[0m\u001b[0mn1\u001b[0m\u001b[1;33m,\u001b[0m\u001b[0mn2\u001b[0m\u001b[1;33m)\u001b[0m\u001b[1;33m:\u001b[0m\u001b[1;33m\u001b[0m\u001b[1;33m\u001b[0m\u001b[0m\n\u001b[1;32m----> 2\u001b[1;33m     \u001b[1;32mreturn\u001b[0m \u001b[0mn1\u001b[0m\u001b[1;33m+\u001b[0m\u001b[0mn2\u001b[0m\u001b[1;33m\u001b[0m\u001b[1;33m\u001b[0m\u001b[0m\n\u001b[0m\u001b[0;32m      3\u001b[0m \u001b[0madd\u001b[0m\u001b[1;33m(\u001b[0m\u001b[1;34m'1'\u001b[0m\u001b[1;33m,\u001b[0m\u001b[1;36m2\u001b[0m\u001b[1;33m)\u001b[0m\u001b[1;33m\u001b[0m\u001b[1;33m\u001b[0m\u001b[0m\n",
      "\u001b[1;31mTypeError\u001b[0m: can only concatenate str (not \"int\") to str"
     ]
    }
   ],
   "source": [
    "def add(n1,n2):\n",
    "    return n1+n2\n",
    "add('1',2)"
   ]
  },
  {
   "cell_type": "code",
   "execution_count": 15,
   "id": "bbc4089c",
   "metadata": {
    "collapsed": true
   },
   "outputs": [
    {
     "name": "stdout",
     "output_type": "stream",
     "text": [
      "Please enter numbers.\n"
     ]
    }
   ],
   "source": [
    "def add(n1,n2):\n",
    "    try:\n",
    "        return n1+n2\n",
    "    except TypeError:\n",
    "        print(\"Please enter numbers.\")\n",
    "add('1',2)"
   ]
  },
  {
   "cell_type": "markdown",
   "id": "735a094a",
   "metadata": {},
   "source": [
    "<b>as err keyword</b>"
   ]
  },
  {
   "cell_type": "code",
   "execution_count": 16,
   "id": "c4f02795",
   "metadata": {
    "collapsed": true
   },
   "outputs": [
    {
     "name": "stdout",
     "output_type": "stream",
     "text": [
      "Please enter numbers. can only concatenate str (not \"int\") to str\n"
     ]
    }
   ],
   "source": [
    "def add(n1,n2):\n",
    "    try:\n",
    "        return n1+n2\n",
    "    except TypeError as err:\n",
    "        print(f\"Please enter numbers. {err}\")\n",
    "add('1',2)"
   ]
  },
  {
   "cell_type": "markdown",
   "id": "38350599",
   "metadata": {},
   "source": [
    "<b>we can add multiple exceptions</b>"
   ]
  },
  {
   "cell_type": "code",
   "execution_count": 19,
   "id": "879f4900",
   "metadata": {
    "collapsed": true
   },
   "outputs": [
    {
     "ename": "SyntaxError",
     "evalue": "invalid syntax (Temp/ipykernel_6940/3835465588.py, line 4)",
     "output_type": "error",
     "traceback": [
      "\u001b[1;36m  File \u001b[1;32m\"C:\\Users\\MOHAMM~1\\AppData\\Local\\Temp/ipykernel_6940/3835465588.py\"\u001b[1;36m, line \u001b[1;32m4\u001b[0m\n\u001b[1;33m    except TypeError,ZeroDivisionError as err:\u001b[0m\n\u001b[1;37m                    ^\u001b[0m\n\u001b[1;31mSyntaxError\u001b[0m\u001b[1;31m:\u001b[0m invalid syntax\n"
     ]
    }
   ],
   "source": [
    "def div(n1,n2):\n",
    "    try:\n",
    "        return n1/n2\n",
    "    except TypeError, ZeroDivisionError as err:\n",
    "        print(f\"Please enter numbers. {err}\")\n",
    "div(2,0)"
   ]
  },
  {
   "cell_type": "code",
   "execution_count": 22,
   "id": "5cf84849",
   "metadata": {
    "collapsed": true
   },
   "outputs": [
    {
     "name": "stdout",
     "output_type": "stream",
     "text": [
      "unsupported operand type(s) for /: 'int' and 'str'\n"
     ]
    }
   ],
   "source": [
    "def div(n1,n2):\n",
    "    try:\n",
    "        return n1/n2\n",
    "    except (TypeError, ZeroDivisionError) as err:\n",
    "        print(err)\n",
    "div(2,'0')"
   ]
  },
  {
   "cell_type": "code",
   "execution_count": 23,
   "id": "cf63f52f",
   "metadata": {
    "collapsed": true
   },
   "outputs": [
    {
     "name": "stdout",
     "output_type": "stream",
     "text": [
      "division by zero\n"
     ]
    }
   ],
   "source": [
    "def div(n1,n2):\n",
    "    try:\n",
    "        return n1/n2\n",
    "    except (TypeError, ZeroDivisionError) as err:\n",
    "        print(err)\n",
    "div(2,0)"
   ]
  },
  {
   "cell_type": "markdown",
   "id": "93d2d3b6",
   "metadata": {},
   "source": [
    "<b>finally keyword<br>\n",
    "The print statement inside finally block will run everytime we run code</b>"
   ]
  },
  {
   "cell_type": "code",
   "execution_count": 26,
   "id": "3c08ca18",
   "metadata": {
    "collapsed": true
   },
   "outputs": [
    {
     "name": "stdout",
     "output_type": "stream",
     "text": [
      "Enter your age: 0\n",
      "Please enter age other than 0.\n",
      "Done! I am finally done.\n",
      "Enter your age: 18\n",
      "Thank you!\n",
      "Done! I am finally done.\n"
     ]
    }
   ],
   "source": [
    "while True:\n",
    "    try: \n",
    "        age = int(input(\"Enter your age: \"))\n",
    "        10/age #here we should have different error msg \n",
    "    except ValueError:\n",
    "        print(\"Please enter a number.\")\n",
    "    except ZeroDivisionError:\n",
    "        print(\"Please enter age other than 0.\")\n",
    "    else:\n",
    "        print(\"Thank you!\")\n",
    "        break\n",
    "    finally:\n",
    "        print(\"Done! I am finally done.\")"
   ]
  },
  {
   "cell_type": "markdown",
   "id": "ef4e9d8b",
   "metadata": {},
   "source": [
    "<b>Raise an Error</b>"
   ]
  },
  {
   "cell_type": "code",
   "execution_count": 29,
   "id": "e6af5329",
   "metadata": {
    "collapsed": true
   },
   "outputs": [
    {
     "name": "stdout",
     "output_type": "stream",
     "text": [
      "Enter your age: 0\n",
      "Please enter age other than 0.\n",
      "Done! I am finally done.\n",
      "Done! I am finally done.\n"
     ]
    },
    {
     "ename": "KeyboardInterrupt",
     "evalue": "Interrupted by user",
     "output_type": "error",
     "traceback": [
      "\u001b[1;31m---------------------------------------------------------------------------\u001b[0m",
      "\u001b[1;31mKeyboardInterrupt\u001b[0m                         Traceback (most recent call last)",
      "\u001b[1;32mC:\\Users\\MOHAMM~1\\AppData\\Local\\Temp/ipykernel_6940/1610910539.py\u001b[0m in \u001b[0;36m<module>\u001b[1;34m\u001b[0m\n\u001b[0;32m      1\u001b[0m \u001b[1;32mwhile\u001b[0m \u001b[1;32mTrue\u001b[0m\u001b[1;33m:\u001b[0m\u001b[1;33m\u001b[0m\u001b[1;33m\u001b[0m\u001b[0m\n\u001b[0;32m      2\u001b[0m     \u001b[1;32mtry\u001b[0m\u001b[1;33m:\u001b[0m\u001b[1;33m\u001b[0m\u001b[1;33m\u001b[0m\u001b[0m\n\u001b[1;32m----> 3\u001b[1;33m         \u001b[0mage\u001b[0m \u001b[1;33m=\u001b[0m \u001b[0mint\u001b[0m\u001b[1;33m(\u001b[0m\u001b[0minput\u001b[0m\u001b[1;33m(\u001b[0m\u001b[1;34m\"Enter your age: \"\u001b[0m\u001b[1;33m)\u001b[0m\u001b[1;33m)\u001b[0m\u001b[1;33m\u001b[0m\u001b[1;33m\u001b[0m\u001b[0m\n\u001b[0m\u001b[0;32m      4\u001b[0m         \u001b[1;36m10\u001b[0m\u001b[1;33m/\u001b[0m\u001b[0mage\u001b[0m \u001b[1;31m#here we should have different error msg\u001b[0m\u001b[1;33m\u001b[0m\u001b[1;33m\u001b[0m\u001b[0m\n\u001b[0;32m      5\u001b[0m         \u001b[1;32mraise\u001b[0m \u001b[0mValueError\u001b[0m\u001b[1;33m(\u001b[0m\u001b[1;34m'Hey, Cut it out!'\u001b[0m\u001b[1;33m)\u001b[0m \u001b[1;31m#it will show us except ValueError msg\u001b[0m\u001b[1;33m\u001b[0m\u001b[1;33m\u001b[0m\u001b[0m\n",
      "\u001b[1;32m~\\anaconda3\\lib\\site-packages\\ipykernel\\kernelbase.py\u001b[0m in \u001b[0;36mraw_input\u001b[1;34m(self, prompt)\u001b[0m\n\u001b[0;32m   1004\u001b[0m                 \u001b[1;34m\"raw_input was called, but this frontend does not support input requests.\"\u001b[0m\u001b[1;33m\u001b[0m\u001b[1;33m\u001b[0m\u001b[0m\n\u001b[0;32m   1005\u001b[0m             )\n\u001b[1;32m-> 1006\u001b[1;33m         return self._input_request(\n\u001b[0m\u001b[0;32m   1007\u001b[0m             \u001b[0mstr\u001b[0m\u001b[1;33m(\u001b[0m\u001b[0mprompt\u001b[0m\u001b[1;33m)\u001b[0m\u001b[1;33m,\u001b[0m\u001b[1;33m\u001b[0m\u001b[1;33m\u001b[0m\u001b[0m\n\u001b[0;32m   1008\u001b[0m             \u001b[0mself\u001b[0m\u001b[1;33m.\u001b[0m\u001b[0m_parent_ident\u001b[0m\u001b[1;33m[\u001b[0m\u001b[1;34m\"shell\"\u001b[0m\u001b[1;33m]\u001b[0m\u001b[1;33m,\u001b[0m\u001b[1;33m\u001b[0m\u001b[1;33m\u001b[0m\u001b[0m\n",
      "\u001b[1;32m~\\anaconda3\\lib\\site-packages\\ipykernel\\kernelbase.py\u001b[0m in \u001b[0;36m_input_request\u001b[1;34m(self, prompt, ident, parent, password)\u001b[0m\n\u001b[0;32m   1049\u001b[0m             \u001b[1;32mexcept\u001b[0m \u001b[0mKeyboardInterrupt\u001b[0m\u001b[1;33m:\u001b[0m\u001b[1;33m\u001b[0m\u001b[1;33m\u001b[0m\u001b[0m\n\u001b[0;32m   1050\u001b[0m                 \u001b[1;31m# re-raise KeyboardInterrupt, to truncate traceback\u001b[0m\u001b[1;33m\u001b[0m\u001b[1;33m\u001b[0m\u001b[0m\n\u001b[1;32m-> 1051\u001b[1;33m                 \u001b[1;32mraise\u001b[0m \u001b[0mKeyboardInterrupt\u001b[0m\u001b[1;33m(\u001b[0m\u001b[1;34m\"Interrupted by user\"\u001b[0m\u001b[1;33m)\u001b[0m \u001b[1;32mfrom\u001b[0m \u001b[1;32mNone\u001b[0m\u001b[1;33m\u001b[0m\u001b[1;33m\u001b[0m\u001b[0m\n\u001b[0m\u001b[0;32m   1052\u001b[0m             \u001b[1;32mexcept\u001b[0m \u001b[0mException\u001b[0m\u001b[1;33m:\u001b[0m\u001b[1;33m\u001b[0m\u001b[1;33m\u001b[0m\u001b[0m\n\u001b[0;32m   1053\u001b[0m                 \u001b[0mself\u001b[0m\u001b[1;33m.\u001b[0m\u001b[0mlog\u001b[0m\u001b[1;33m.\u001b[0m\u001b[0mwarning\u001b[0m\u001b[1;33m(\u001b[0m\u001b[1;34m\"Invalid Message:\"\u001b[0m\u001b[1;33m,\u001b[0m \u001b[0mexc_info\u001b[0m\u001b[1;33m=\u001b[0m\u001b[1;32mTrue\u001b[0m\u001b[1;33m)\u001b[0m\u001b[1;33m\u001b[0m\u001b[1;33m\u001b[0m\u001b[0m\n",
      "\u001b[1;31mKeyboardInterrupt\u001b[0m: Interrupted by user"
     ]
    }
   ],
   "source": [
    "while True:\n",
    "    try: \n",
    "        age = int(input(\"Enter your age: \"))\n",
    "        10/age #here we should have different error msg \n",
    "        raise ValueError('Hey, Cut it out!') #it will show us except ValueError msg\n",
    "    except ValueError:\n",
    "        print(\"Please enter a number.\")\n",
    "    except ZeroDivisionError:\n",
    "        print(\"Please enter age other than 0.\")\n",
    "    else:\n",
    "        print(\"Thank you!\")\n",
    "        break\n",
    "    finally:\n",
    "        print(\"Done! I am finally done.\")"
   ]
  },
  {
   "cell_type": "code",
   "execution_count": 30,
   "id": "1167e966",
   "metadata": {},
   "outputs": [
    {
     "name": "stdout",
     "output_type": "stream",
     "text": [
      "Enter your age: 12\n",
      "Done! I am finally done.\n"
     ]
    },
    {
     "ename": "ValueError",
     "evalue": "Hey, Cut it out!",
     "output_type": "error",
     "traceback": [
      "\u001b[1;31m---------------------------------------------------------------------------\u001b[0m",
      "\u001b[1;31mValueError\u001b[0m                                Traceback (most recent call last)",
      "\u001b[1;32mC:\\Users\\MOHAMM~1\\AppData\\Local\\Temp/ipykernel_6940/232767577.py\u001b[0m in \u001b[0;36m<module>\u001b[1;34m\u001b[0m\n\u001b[0;32m      3\u001b[0m         \u001b[0mage\u001b[0m \u001b[1;33m=\u001b[0m \u001b[0mint\u001b[0m\u001b[1;33m(\u001b[0m\u001b[0minput\u001b[0m\u001b[1;33m(\u001b[0m\u001b[1;34m\"Enter your age: \"\u001b[0m\u001b[1;33m)\u001b[0m\u001b[1;33m)\u001b[0m\u001b[1;33m\u001b[0m\u001b[1;33m\u001b[0m\u001b[0m\n\u001b[0;32m      4\u001b[0m         \u001b[1;36m10\u001b[0m\u001b[1;33m/\u001b[0m\u001b[0mage\u001b[0m \u001b[1;31m#here we should have different error msg\u001b[0m\u001b[1;33m\u001b[0m\u001b[1;33m\u001b[0m\u001b[0m\n\u001b[1;32m----> 5\u001b[1;33m         \u001b[1;32mraise\u001b[0m \u001b[0mValueError\u001b[0m\u001b[1;33m(\u001b[0m\u001b[1;34m'Hey, Cut it out!'\u001b[0m\u001b[1;33m)\u001b[0m \u001b[1;31m#it will show us except ValueError msg\u001b[0m\u001b[1;33m\u001b[0m\u001b[1;33m\u001b[0m\u001b[0m\n\u001b[0m\u001b[0;32m      6\u001b[0m \u001b[1;31m#     except ValueError:\u001b[0m\u001b[1;33m\u001b[0m\u001b[1;33m\u001b[0m\u001b[0m\n\u001b[0;32m      7\u001b[0m \u001b[1;31m#         print(\"Please enter a number.\")\u001b[0m\u001b[1;33m\u001b[0m\u001b[1;33m\u001b[0m\u001b[0m\n",
      "\u001b[1;31mValueError\u001b[0m: Hey, Cut it out!"
     ]
    }
   ],
   "source": [
    "while True:\n",
    "    try: \n",
    "        age = int(input(\"Enter your age: \"))\n",
    "        10/age #here we should have different error msg \n",
    "        raise ValueError('Hey, Cut it out!') #it will show us except ValueError msg\n",
    "#     except ValueError:\n",
    "#         print(\"Please enter a number.\")\n",
    "    except ZeroDivisionError:\n",
    "        print(\"Please enter age other than 0.\")\n",
    "    else:\n",
    "        print(\"Thank you!\")\n",
    "        break\n",
    "    finally:\n",
    "        print(\"Done! I am finally done.\")"
   ]
  },
  {
   "cell_type": "code",
   "execution_count": 3,
   "id": "44a2b67e",
   "metadata": {},
   "outputs": [
    {
     "name": "stdout",
     "output_type": "stream",
     "text": [
      "Withdraw\n",
      "Take the card out of ATM\n"
     ]
    }
   ],
   "source": [
    "balance=1000\n",
    "amount=300\n",
    "def take_card():\n",
    "    print(\"Take the card out of ATM\")\n",
    "try:\n",
    "    if balance>=int(amount):\n",
    "        print(\"Withdraw\")\n",
    "    else:\n",
    "        print(\"Invalid amount\")\n",
    "except TypeError:\n",
    "    print(\"Type Error Occurred\")\n",
    "except ValueError:\n",
    "    print(\"Value Error Occurred\")\n",
    "except:\n",
    "    print(\"Some error Occurred\")\n",
    "finally:\n",
    "    take_card()\n"
   ]
  },
  {
   "cell_type": "code",
   "execution_count": null,
   "id": "75a2eb33",
   "metadata": {},
   "outputs": [],
   "source": []
  }
 ],
 "metadata": {
  "kernelspec": {
   "display_name": "Python 3 (ipykernel)",
   "language": "python",
   "name": "python3"
  },
  "language_info": {
   "codemirror_mode": {
    "name": "ipython",
    "version": 3
   },
   "file_extension": ".py",
   "mimetype": "text/x-python",
   "name": "python",
   "nbconvert_exporter": "python",
   "pygments_lexer": "ipython3",
   "version": "3.9.7"
  }
 },
 "nbformat": 4,
 "nbformat_minor": 5
}
