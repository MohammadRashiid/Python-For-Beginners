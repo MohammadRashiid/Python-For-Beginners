{
 "cells": [
  {
   "cell_type": "markdown",
   "id": "fbefb49d",
   "metadata": {},
   "source": [
    "<b>Creating a text file in python</b><br><br>\n"
   ]
  },
  {
   "cell_type": "code",
   "execution_count": 1,
   "id": "a8ce419b",
   "metadata": {},
   "outputs": [
    {
     "name": "stdout",
     "output_type": "stream",
     "text": [
      "Writing test.txt\n"
     ]
    }
   ],
   "source": [
    "%%writefile test.txt\n",
    "Hello, this is a quick test file."
   ]
  },
  {
   "cell_type": "markdown",
   "id": "2a5fda20",
   "metadata": {},
   "source": [
    "<b>Opening a file in python</b><br><br>\n",
    "Python provides a function called open() to open a file programmatically. open() function returns a file object using which other file operations like reading, writing and closing of the file are done.\n",
    "<br><br>\n",
    "Syntax:\n",
    "<br>\n",
    "file_object = open(file_name_path [, access_mode])\n",
    "<br>\n",
    "where,\n",
    "<br>\n",
    "file_name_path is the filename or path of the file to be opened.<br>\n",
    "access_mode is the mode in which the file has to be opened which is optional. If not specified, default value will be read.<br>\n",
    "file_object is the object returned by open method which is used for further file operations."
   ]
  },
  {
   "cell_type": "code",
   "execution_count": 2,
   "id": "020dd375",
   "metadata": {},
   "outputs": [
    {
     "data": {
      "text/plain": [
       "'C:\\\\Users\\\\Mohammad Rashid\\\\Desktop\\\\Python For Beginners'"
      ]
     },
     "execution_count": 2,
     "metadata": {},
     "output_type": "execute_result"
    }
   ],
   "source": [
    "pwd #check current directory"
   ]
  },
  {
   "cell_type": "markdown",
   "id": "536d7a35",
   "metadata": {},
   "source": [
    "if we have a file in same directory then we can open by passing file name otherwise we have to pass in entire directory to open file."
   ]
  },
  {
   "cell_type": "code",
   "execution_count": 4,
   "id": "3038464d",
   "metadata": {},
   "outputs": [],
   "source": [
    "myfile = open(\"test.txt\")"
   ]
  },
  {
   "cell_type": "code",
   "execution_count": 11,
   "id": "03e1e009",
   "metadata": {},
   "outputs": [
    {
     "data": {
      "text/plain": [
       "'Hello, this is a quick test file.\\n'"
      ]
     },
     "execution_count": 11,
     "metadata": {},
     "output_type": "execute_result"
    }
   ],
   "source": [
    "myfile.read()"
   ]
  },
  {
   "cell_type": "markdown",
   "id": "ed0063b5",
   "metadata": {},
   "source": [
    "When we try to read again it will show us '' because the reading cursor at the end of the file after having read it. so nothing left read."
   ]
  },
  {
   "cell_type": "code",
   "execution_count": 12,
   "id": "b0738cbb",
   "metadata": {},
   "outputs": [
    {
     "data": {
      "text/plain": [
       "''"
      ]
     },
     "execution_count": 12,
     "metadata": {},
     "output_type": "execute_result"
    }
   ],
   "source": [
    "myfile.read()"
   ]
  },
  {
   "cell_type": "markdown",
   "id": "8c7bbc1d",
   "metadata": {},
   "source": [
    " We can reset the cursor like:"
   ]
  },
  {
   "cell_type": "code",
   "execution_count": 15,
   "id": "efbdb7a1",
   "metadata": {},
   "outputs": [
    {
     "data": {
      "text/plain": [
       "0"
      ]
     },
     "execution_count": 15,
     "metadata": {},
     "output_type": "execute_result"
    }
   ],
   "source": [
    "#seek to start of file (index 0)\n",
    "myfile.seek(0)"
   ]
  },
  {
   "cell_type": "code",
   "execution_count": 16,
   "id": "e2cf24d4",
   "metadata": {},
   "outputs": [
    {
     "data": {
      "text/plain": [
       "'Hello, this is a quick test file.\\nthis is line 2.\\nthis is line 3.\\n'"
      ]
     },
     "execution_count": 16,
     "metadata": {},
     "output_type": "execute_result"
    }
   ],
   "source": [
    "myfile.read()"
   ]
  },
  {
   "cell_type": "markdown",
   "id": "eb395d30",
   "metadata": {},
   "source": [
    "We can read file line by line using readlines."
   ]
  },
  {
   "cell_type": "code",
   "execution_count": 18,
   "id": "f4f8571d",
   "metadata": {},
   "outputs": [
    {
     "data": {
      "text/plain": [
       "[]"
      ]
     },
     "execution_count": 18,
     "metadata": {},
     "output_type": "execute_result"
    }
   ],
   "source": [
    "myfile.readlines()"
   ]
  },
  {
   "cell_type": "code",
   "execution_count": 19,
   "id": "aa4c9bfe",
   "metadata": {},
   "outputs": [
    {
     "data": {
      "text/plain": [
       "0"
      ]
     },
     "execution_count": 19,
     "metadata": {},
     "output_type": "execute_result"
    }
   ],
   "source": [
    "myfile.seek(0)"
   ]
  },
  {
   "cell_type": "code",
   "execution_count": 20,
   "id": "71870817",
   "metadata": {},
   "outputs": [
    {
     "data": {
      "text/plain": [
       "['Hello, this is a quick test file.\\n',\n",
       " 'this is line 2.\\n',\n",
       " 'this is line 3.\\n']"
      ]
     },
     "execution_count": 20,
     "metadata": {},
     "output_type": "execute_result"
    }
   ],
   "source": [
    "myfile.readlines()"
   ]
  },
  {
   "cell_type": "markdown",
   "id": "95f2a0ba",
   "metadata": {},
   "source": [
    "When we have finished using a file. Its always a good practice to close the file."
   ]
  },
  {
   "cell_type": "code",
   "execution_count": 21,
   "id": "d4b5b728",
   "metadata": {},
   "outputs": [],
   "source": [
    "myfile.close()"
   ]
  },
  {
   "cell_type": "markdown",
   "id": "1163bb7d",
   "metadata": {},
   "source": [
    "<b>Writing to a file </b><br><br>\n",
    "By default, the open() only allows us to read thed file but if we want to write file we use <br><br>\n",
    "w - writing a file<br>\n",
    "w+ - read and write.<br><br>\n",
    "\n",
    "<b>USE CAUTION!</b><br><br>\n",
    "opening a file with 'w' or 'w+' will truncate the file means it will clear or delete content of file."
   ]
  },
  {
   "cell_type": "code",
   "execution_count": 25,
   "id": "6c02b04b",
   "metadata": {},
   "outputs": [],
   "source": [
    "myfile=open(\"test.txt\",'w+')"
   ]
  },
  {
   "cell_type": "code",
   "execution_count": 29,
   "id": "b1e2a816",
   "metadata": {},
   "outputs": [
    {
     "data": {
      "text/plain": [
       "31"
      ]
     },
     "execution_count": 29,
     "metadata": {},
     "output_type": "execute_result"
    }
   ],
   "source": [
    "myfile.write('This is a new line \\nsecond line')"
   ]
  },
  {
   "cell_type": "code",
   "execution_count": 30,
   "id": "0958e36e",
   "metadata": {},
   "outputs": [
    {
     "data": {
      "text/plain": [
       "['This is a new line \\n', ' second lineThis is a new line \\n', 'second line']"
      ]
     },
     "execution_count": 30,
     "metadata": {},
     "output_type": "execute_result"
    }
   ],
   "source": [
    "myfile.seek(0)\n",
    "myfile.readlines()"
   ]
  },
  {
   "cell_type": "code",
   "execution_count": 31,
   "id": "613b63da",
   "metadata": {},
   "outputs": [],
   "source": [
    "myfile.close()"
   ]
  },
  {
   "cell_type": "markdown",
   "id": "dab4a4d3",
   "metadata": {},
   "source": [
    "<b>Appending a file</b><br><br>\n",
    "<b>Passing an argument 'a' opens the file and put the pointer at the end, so anything written is appended. like 'w+' or 'a+' let us read & write to a file.If file doesn't exist one will be created</b><br><br>\n"
   ]
  },
  {
   "cell_type": "code",
   "execution_count": 37,
   "id": "fab24267",
   "metadata": {},
   "outputs": [],
   "source": [
    "myfile= open(\"test.txt\",'a+')"
   ]
  },
  {
   "cell_type": "code",
   "execution_count": 38,
   "id": "9466ee45",
   "metadata": {},
   "outputs": [
    {
     "data": {
      "text/plain": [
       "21"
      ]
     },
     "execution_count": 38,
     "metadata": {},
     "output_type": "execute_result"
    }
   ],
   "source": [
    "myfile.write(\"This is appended text\")"
   ]
  },
  {
   "cell_type": "code",
   "execution_count": 39,
   "id": "893e9a43",
   "metadata": {},
   "outputs": [
    {
     "data": {
      "text/plain": [
       "30"
      ]
     },
     "execution_count": 39,
     "metadata": {},
     "output_type": "execute_result"
    }
   ],
   "source": [
    "myfile.write(\"This is appended text 2nd line\")"
   ]
  },
  {
   "cell_type": "code",
   "execution_count": 41,
   "id": "e4991d71",
   "metadata": {},
   "outputs": [
    {
     "data": {
      "text/plain": [
       "['This is a new line \\n',\n",
       " ' second lineThis is a new line \\n',\n",
       " 'second lineThis is appended textThis is appended textThis is appended text 2nd line']"
      ]
     },
     "execution_count": 41,
     "metadata": {},
     "output_type": "execute_result"
    }
   ],
   "source": [
    "myfile.seek(0)\n",
    "myfile.readlines()"
   ]
  },
  {
   "cell_type": "code",
   "execution_count": 42,
   "id": "5fec5f00",
   "metadata": {},
   "outputs": [],
   "source": [
    "myfile.close()"
   ]
  },
  {
   "cell_type": "markdown",
   "id": "3c037b94",
   "metadata": {},
   "source": [
    "<b>Appending with %%writefile</b>"
   ]
  },
  {
   "cell_type": "code",
   "execution_count": 44,
   "id": "927cdd10",
   "metadata": {},
   "outputs": [
    {
     "name": "stdout",
     "output_type": "stream",
     "text": [
      "Appending to test.txt\n"
     ]
    }
   ],
   "source": [
    "%%writefile -a test.txt\n",
    "\n",
    "This is using cell magic\n",
    "and another line."
   ]
  },
  {
   "cell_type": "code",
   "execution_count": 45,
   "id": "8d792371",
   "metadata": {},
   "outputs": [
    {
     "name": "stdout",
     "output_type": "stream",
     "text": [
      "This is a new line \n",
      "\n",
      " second lineThis is a new line \n",
      "\n",
      "second lineThis is appended textThis is appended textThis is appended text 2nd line\n",
      "\n",
      "This is using cell magic\n",
      "\n",
      "and another line.\n",
      "\n"
     ]
    }
   ],
   "source": [
    "for line in open('test.txt'):\n",
    "    print(line)"
   ]
  },
  {
   "cell_type": "code",
   "execution_count": null,
   "id": "193c8cb9",
   "metadata": {},
   "outputs": [],
   "source": []
  }
 ],
 "metadata": {
  "kernelspec": {
   "display_name": "Python 3 (ipykernel)",
   "language": "python",
   "name": "python3"
  },
  "language_info": {
   "codemirror_mode": {
    "name": "ipython",
    "version": 3
   },
   "file_extension": ".py",
   "mimetype": "text/x-python",
   "name": "python",
   "nbconvert_exporter": "python",
   "pygments_lexer": "ipython3",
   "version": "3.9.7"
  }
 },
 "nbformat": 4,
 "nbformat_minor": 5
}
