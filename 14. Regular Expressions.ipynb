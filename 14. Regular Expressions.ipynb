{
 "cells": [
  {
   "cell_type": "markdown",
   "id": "7af982e1",
   "metadata": {},
   "source": [
    "<b>Many times a lot of data would be stored in files and we may have to pick and change only relevant portions from a file. Even though there are string functions which allow us to manipulate strings, when dealing with more complicated requirements, we would need more powerful tools.<br><br></b>\n",
    "\n",
    "<b>Regular Expressions are used to check and extract relevant portions of a string based on a pattern and modify if required. \n",
    "Python has a module named 're' for regular expressions.\n",
    "</b>"
   ]
  },
  {
   "cell_type": "markdown",
   "id": "6101cec4",
   "metadata": {},
   "source": [
    "<b>Working with re module\n",
    "Two commonly used methods in the re module are search and sub. Search is used to find a pattern and sub is used to perform a substitution.<br><br>\n",
    "\n",
    "input_data = “Flight Savana Airlines a2134”\n",
    "<br>\n",
    "The requirement is to search for the pattern \"Airlines\" in the input_data. Let’s understand how this can be achieved using re methods.\n",
    "<br>\n",
    "    re.search(r\"Airline\",InputData)\n",
    "<br>\n",
    "\n",
    "Here, r in front of the search pattern indicates 'raw string' where the special characters are treated as normal characters.\n",
    "The output will be 'None' if the pattern is not found.\n",
    "<br>\n",
    "If you want to search the pattern \"Air\" in the given string \"Airline\" here are few example for that.</b>"
   ]
  },
  {
   "cell_type": "code",
   "execution_count": 1,
   "id": "b4413219",
   "metadata": {},
   "outputs": [
    {
     "name": "stdout",
     "output_type": "stream",
     "text": [
      "Pattern found\n"
     ]
    }
   ],
   "source": [
    "import re\n",
    "if(re.search(r\"Air\",\"Airline\")!=None):\n",
    "    print(\"Pattern found\")\n",
    "else:\n",
    "    print(\"Pattern not found\")\n"
   ]
  },
  {
   "cell_type": "code",
   "execution_count": 2,
   "id": "1f1d35cf",
   "metadata": {},
   "outputs": [
    {
     "name": "stdout",
     "output_type": "stream",
     "text": [
      "Pattern not found\n"
     ]
    }
   ],
   "source": [
    "import re\n",
    "if(re.search(r\"Air\",\"airline\")!=None):\n",
    "    print(\"Pattern found\")\n",
    "else:\n",
    "    print(\"Pattern not found\")\n"
   ]
  },
  {
   "cell_type": "markdown",
   "id": "2f1325e1",
   "metadata": {},
   "source": [
    "re - Replacing data\n",
    "We can use the function ‘sub’ to perform a substitution.\n",
    "\n"
   ]
  },
  {
   "cell_type": "code",
   "execution_count": 3,
   "id": "b8ea136d",
   "metadata": {},
   "outputs": [
    {
     "name": "stdout",
     "output_type": "stream",
     "text": [
      "Flight Savana Airlines a2134\n",
      "Plane Savana Airlines a2134\n"
     ]
    }
   ],
   "source": [
    "import re\n",
    "flight_details=\"Flight Savana Airlines a2134\"\n",
    "print(flight_details)\n",
    "print(re.sub(r\"Flight\",r\"Plane\",flight_details))\n"
   ]
  },
  {
   "cell_type": "markdown",
   "id": "f1919fc9",
   "metadata": {},
   "source": [
    ".\n",
    "\n",
    "Used to match one occurrence of any character\n",
    "\n",
    "To search the pattern having two characters in between A and l in the given string \"Aopline\".\n",
    "\n",
    "import re\n",
    "if(re.search(r\"A..l\",\"Aopline\")!=None):\n",
    "    print(\"Pattern found\")\n",
    "else:\n",
    "    print(\"Pattern not found\")\n",
    "\n",
    "“.” stands for any character. If any two characters are there between A and l, then the pattern has matched"
   ]
  },
  {
   "cell_type": "markdown",
   "id": "ef535cf8",
   "metadata": {},
   "source": [
    "\\d\n",
    "\n",
    "Used to match one occurrence of any digit from 0-9\n",
    "\n",
    "To search for a digit between A and l in the given string \"A2line\".\n",
    "\n",
    "import re\n",
    "if(re.search(r\"A\\dl\",\"A2line\")!=None):\n",
    "    print(\"Pattern found\")\n",
    "else:\n",
    "    print(\"Pattern not found\")\n",
    "\n",
    "\\d checks for a digit. If any digit is found between A and l, then the pattern has matched"
   ]
  },
  {
   "cell_type": "markdown",
   "id": "2b0d9d78",
   "metadata": {},
   "source": [
    "*\n",
    "\n",
    "Used to match zero or more occurrences of previous character\n",
    "\n",
    "To check if a number is found 0 or n times after A in the given string.\n",
    "\n",
    "import re\n",
    "if(re.search(r\"A\\d*\",\"A2234line\")!=None):\n",
    "    print(\"Pattern found\")\n",
    "else:\n",
    "    print(\"Pattern not found\")\n",
    "\n",
    "Checks if a number is found 0 or n times after A"
   ]
  },
  {
   "cell_type": "markdown",
   "id": "f8b13edb",
   "metadata": {},
   "source": [
    "+\n",
    "\n",
    "Used to match one or more occurrences of previous character\n",
    "\n",
    "To check if a number is found 1 or n times after A in the given string.\n",
    "\n",
    "import re\n",
    "if(re.search(r\"A\\d+\",\"Airline\")!=None):\n",
    "    print(\"Pattern found\")\n",
    "else:\n",
    "    print(\"Pattern not found\")\n",
    "\n",
    "Checks if a number is found 1 or n times after A"
   ]
  },
  {
   "cell_type": "markdown",
   "id": "dade9695",
   "metadata": {},
   "source": [
    "?\n",
    "\n",
    "Used to match zero or one occurrence of previous character\n",
    "\n",
    "To check if a number is found 0 or 1 times after A in the given string.\n",
    "\n",
    "import re\n",
    "if(re.search(r\"A\\d?i\",\"Airline\")!=None):\n",
    "    print(\"Pattern found\")\n",
    "else:\n",
    "    print(\"Pattern not found\")\n",
    "\n",
    "Checks if a number is found 0 or 1 times after A\n"
   ]
  },
  {
   "cell_type": "markdown",
   "id": "366c3682",
   "metadata": {},
   "source": [
    "\n",
    "{n}\n",
    "\n",
    "Used to match exactly n occurrences of previous character\n",
    "\n",
    "To check if 3 digits are present after A in the given string.\n",
    "\n",
    "import re\n",
    "if(re.search(r\"A\\d{3}i\",\"A223irline\")!=None):\n",
    "    print(\"Pattern found\")\n",
    "else:\n",
    "    print(\"Pattern not found\")\n",
    "\n",
    "{n} checks if the preceding character appears exactly n times. Here we are checking if there are 3 digits after A\n",
    "\n"
   ]
  },
  {
   "cell_type": "markdown",
   "id": "f917efd2",
   "metadata": {},
   "source": [
    "[]\n",
    "\n",
    "Used to match one occurrence of any characters present within square brackets\n",
    "\n",
    "To search for a number between 4 and 8 in between A and l in the given string.\n",
    "\n",
    "import re\n",
    "if(re.search(r\"A[4-8]l\",\"A2line\")!=None):\n",
    "    print(\"Pattern found\")\n",
    "else:\n",
    "    print(\"Pattern not found\")\n",
    "\n",
    "[] does a single character substitution. We can specify a sequence of values. If any of the values are found, then the pattern has matched\n",
    "\n"
   ]
  },
  {
   "cell_type": "markdown",
   "id": "be3e63d3",
   "metadata": {},
   "source": [
    "^\n",
    "\n",
    "Used to match a pattern at the beginning of a string\n",
    "\n",
    "To check if the given string is starting with A.\n",
    "\n",
    "import re\n",
    "if(re.search(r\"^A\",\"Airline\")!=None):\n",
    "    print(\"Pattern found\")\n",
    "else:\n",
    "    print(\"Pattern not found\")\n",
    "\n",
    "^ checks if a pattern is at the beginning of the string. Here we check if string begins with “A”\n",
    "\n"
   ]
  },
  {
   "cell_type": "markdown",
   "id": "77e5b121",
   "metadata": {},
   "source": [
    "$\n",
    "\n",
    "Used to match a pattern at the end of a string\n",
    "\n",
    "To check if the given string is ending with e.\n",
    "\n",
    "import re\n",
    "if(re.search(r\"e$\",\"Airline\")!=None):\n",
    "    print(\"Pattern found\")\n",
    "else:\n",
    "    print(\"Pattern not found\")\n",
    "\n",
    "$ checks if a pattern is at the end of the string. Here we check if string ends with “e”\n",
    "\n"
   ]
  },
  {
   "cell_type": "markdown",
   "id": "0873aed2",
   "metadata": {},
   "source": [
    "\\w\n",
    "\n",
    "Used to match an word character which includes alphabets(a-zA-Z), digits(0-9) and '_'\n",
    "\n",
    "To check whether last character is alphanumeric or not.\n",
    "\n",
    "import re\n",
    "if(re.search(r\"\\w$\",\"Airline%\")!=None):\n",
    "    print(\"Pattern found\")\n",
    "else:\n",
    "    print(\"Pattern not found\")\n",
    "\n",
    "\\w checks for a-z,A-Z,0-9,_ Here we check if the last character is an alphanumeric character\n",
    "\n"
   ]
  },
  {
   "cell_type": "markdown",
   "id": "371351dd",
   "metadata": {},
   "source": [
    "\\s\n",
    "\n",
    "Used to match single space or sequence of spaces (including \\t \\n)\n",
    "\n",
    "To check for the space after \"Air\" in the given string \"Airline\".\n",
    "\n",
    " \n",
    "\n",
    "import re\n",
    "if(re.search(r\"Air\\s\",\"Airline\")!=None):\n",
    "    print(\"Pattern found\")\n",
    "else:\n",
    "    print(\"Pattern not found\")\n",
    "\n",
    "\\s indicates a space. Here we are checking if there is a space after Air\n",
    "\n"
   ]
  },
  {
   "cell_type": "markdown",
   "id": "3a72a221",
   "metadata": {},
   "source": [
    "|\n",
    "\n",
    "Used to match any one pattern which is on either side of it\n",
    "\n",
    "To search for the pattern \"Hell\" or \"Fell\" in the given string \"Fellow\".\n",
    "\n",
    "import re\n",
    "if(re.search(r\"Hell|Fell\",\"Fellow\")!=None):\n",
    "    print(\"Pattern found\")\n",
    "else:\n",
    "    print(\"Pattern not found\")\n",
    "\n",
    "| acts like ‘or’ operator. If Hell or Fell is found in the string, the pattern is found"
   ]
  },
  {
   "cell_type": "code",
   "execution_count": 5,
   "id": "b5da0422",
   "metadata": {},
   "outputs": [],
   "source": [
    "import re"
   ]
  },
  {
   "cell_type": "code",
   "execution_count": 6,
   "id": "c45ec32d",
   "metadata": {},
   "outputs": [],
   "source": [
    "s = \"This is a search string!\""
   ]
  },
  {
   "cell_type": "code",
   "execution_count": 7,
   "id": "292fe88c",
   "metadata": {},
   "outputs": [
    {
     "data": {
      "text/plain": [
       "True"
      ]
     },
     "execution_count": 7,
     "metadata": {},
     "output_type": "execute_result"
    }
   ],
   "source": [
    "'string' in s"
   ]
  },
  {
   "cell_type": "code",
   "execution_count": 9,
   "id": "b118e43d",
   "metadata": {},
   "outputs": [
    {
     "data": {
      "text/plain": [
       "<re.Match object; span=(17, 23), match='string'>"
      ]
     },
     "execution_count": 9,
     "metadata": {},
     "output_type": "execute_result"
    }
   ],
   "source": [
    "re.search('string',s)"
   ]
  },
  {
   "cell_type": "code",
   "execution_count": 10,
   "id": "c16e3e9a",
   "metadata": {},
   "outputs": [],
   "source": [
    "add = re.search('string',s)"
   ]
  },
  {
   "cell_type": "code",
   "execution_count": 13,
   "id": "97dfe73f",
   "metadata": {},
   "outputs": [
    {
     "data": {
      "text/plain": [
       "(17, 23)"
      ]
     },
     "execution_count": 13,
     "metadata": {},
     "output_type": "execute_result"
    }
   ],
   "source": [
    "add.span()"
   ]
  },
  {
   "cell_type": "code",
   "execution_count": 14,
   "id": "c021f85e",
   "metadata": {},
   "outputs": [
    {
     "data": {
      "text/plain": [
       "17"
      ]
     },
     "execution_count": 14,
     "metadata": {},
     "output_type": "execute_result"
    }
   ],
   "source": [
    "add.start()"
   ]
  },
  {
   "cell_type": "code",
   "execution_count": 15,
   "id": "ff9a5564",
   "metadata": {},
   "outputs": [
    {
     "data": {
      "text/plain": [
       "23"
      ]
     },
     "execution_count": 15,
     "metadata": {},
     "output_type": "execute_result"
    }
   ],
   "source": [
    "add.end()"
   ]
  },
  {
   "cell_type": "markdown",
   "id": "3b233aab",
   "metadata": {},
   "source": [
    "<b> we can create new variable and use it in multiple strings</b>"
   ]
  },
  {
   "cell_type": "code",
   "execution_count": 21,
   "id": "6e63d9a7",
   "metadata": {},
   "outputs": [],
   "source": [
    "pattern = re.compile('this')"
   ]
  },
  {
   "cell_type": "code",
   "execution_count": 22,
   "id": "1e6a9b17",
   "metadata": {},
   "outputs": [],
   "source": [
    "str1 = 'this is a string this should be string'"
   ]
  },
  {
   "cell_type": "code",
   "execution_count": 24,
   "id": "18cbc8d6",
   "metadata": {},
   "outputs": [
    {
     "data": {
      "text/plain": [
       "<re.Match object; span=(0, 4), match='this'>"
      ]
     },
     "execution_count": 24,
     "metadata": {},
     "output_type": "execute_result"
    }
   ],
   "source": [
    "\n",
    "a = pattern.search(str1)\n",
    "a"
   ]
  },
  {
   "cell_type": "code",
   "execution_count": 26,
   "id": "083cfefc",
   "metadata": {},
   "outputs": [
    {
     "data": {
      "text/plain": [
       "['this', 'this']"
      ]
     },
     "execution_count": 26,
     "metadata": {},
     "output_type": "execute_result"
    }
   ],
   "source": [
    "b=pattern.findall(str1)\n",
    "b"
   ]
  },
  {
   "cell_type": "code",
   "execution_count": 29,
   "id": "ac97c898",
   "metadata": {},
   "outputs": [
    {
     "name": "stdout",
     "output_type": "stream",
     "text": [
      "None\n"
     ]
    }
   ],
   "source": [
    "c = pattern.fullmatch(str1)\n",
    "print(c)"
   ]
  },
  {
   "cell_type": "code",
   "execution_count": 30,
   "id": "838a2b8d",
   "metadata": {},
   "outputs": [
    {
     "name": "stdout",
     "output_type": "stream",
     "text": [
      "<re.Match object; span=(0, 4), match='this'>\n"
     ]
    }
   ],
   "source": [
    "str2 = 'this'\n",
    "d = pattern.fullmatch(str2)\n",
    "print(d) "
   ]
  },
  {
   "cell_type": "code",
   "execution_count": 31,
   "id": "4e4e8cff",
   "metadata": {},
   "outputs": [
    {
     "name": "stdout",
     "output_type": "stream",
     "text": [
      "<re.Match object; span=(0, 4), match='this'>\n"
     ]
    }
   ],
   "source": [
    "e = pattern.match(str1)\n",
    "print(e)"
   ]
  },
  {
   "cell_type": "markdown",
   "id": "82c7d432",
   "metadata": {},
   "source": [
    "<b><a href=\"https://regex101.com/\">Regex101</a></b><br>\n",
    "<b>Practical use: Email validation, Password validation</b>"
   ]
  },
  {
   "cell_type": "code",
   "execution_count": null,
   "id": "6543a066",
   "metadata": {},
   "outputs": [],
   "source": []
  }
 ],
 "metadata": {
  "kernelspec": {
   "display_name": "Python 3 (ipykernel)",
   "language": "python",
   "name": "python3"
  },
  "language_info": {
   "codemirror_mode": {
    "name": "ipython",
    "version": 3
   },
   "file_extension": ".py",
   "mimetype": "text/x-python",
   "name": "python",
   "nbconvert_exporter": "python",
   "pygments_lexer": "ipython3",
   "version": "3.9.7"
  }
 },
 "nbformat": 4,
 "nbformat_minor": 5
}
