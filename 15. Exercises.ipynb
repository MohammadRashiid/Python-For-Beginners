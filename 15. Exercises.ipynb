{
 "cells": [
  {
   "cell_type": "markdown",
   "id": "e828fd66",
   "metadata": {},
   "source": [
    "<b>Write a python function, encrypt_sentence(msg) which accepts a message and encrypts it based on rules given below and returns the encrypted message.</b>\n",
    " <br><br>\n",
    "<b>\n",
    "Words at odd position -> Reverse It</b> <br><br>\n",
    "<b>\n",
    "Words at even position -> Rearrange the characters so that all consonants appear before the vowels and their order should not change\n",
    "</b> <br><br><b>\n",
    "Note: Assume that the sentence would begin with a word and there will be only a single space between the words.\n",
    "</b> <br><br>\n",
    "    <b>      Perform case sensitive string operations wherever necessary.\n",
    "</b> <br><br><b>\n",
    "Example: msg=the sun rises in the east    output=eht snu sesir ni eht stea</b> <br><br>"
   ]
  },
  {
   "cell_type": "code",
   "execution_count": 24,
   "id": "90f3ed16",
   "metadata": {},
   "outputs": [
    {
     "data": {
      "text/plain": [
       "'eht snu sesir ni eht stea'"
      ]
     },
     "execution_count": 24,
     "metadata": {},
     "output_type": "execute_result"
    }
   ],
   "source": [
    "vowels = ['a','e','i','o','u']\n",
    "def encrypt_sentence(msg):\n",
    "    final=[]\n",
    "    sentence = msg.split(\" \")\n",
    "    for index,x in enumerate(sentence):\n",
    "        if (index+1)%2!=0:\n",
    "            final.append(x[::-1])\n",
    "        else:\n",
    "            v=[]#to store all vowels\n",
    "            t=[]#to store the letters temporily\n",
    "            for letter in x:\n",
    "                if letter not in vowels:\n",
    "                    t.append(letter)\n",
    "                else:\n",
    "                    v.append(letter)\n",
    "            t.extend(v)\n",
    "            final.append(\"\".join(t))\n",
    "            \n",
    "    return \" \".join(final)\n",
    "        \n",
    "string = \"the sun rises in the east\"\n",
    "encrypt_sentence(string)"
   ]
  },
  {
   "cell_type": "markdown",
   "id": "1ae15c28",
   "metadata": {},
   "source": [
    "<b>Write a Python program to find the number of characters present the given string.</b>"
   ]
  },
  {
   "cell_type": "code",
   "execution_count": 32,
   "id": "85ddfa2d",
   "metadata": {},
   "outputs": [
    {
     "name": "stdout",
     "output_type": "stream",
     "text": [
      "Enter a string: mohammad rashid\n",
      "Total number of characters in string: 14\n"
     ]
    }
   ],
   "source": [
    "msg = input(\"Enter a string: \")\n",
    "count = 0\n",
    "for i in range(0,len(msg)):\n",
    "    if msg[i]!=' ':\n",
    "        count+=1\n",
    "print(\"Total number of characters in string:\",count)"
   ]
  },
  {
   "cell_type": "markdown",
   "id": "095226a0",
   "metadata": {},
   "source": [
    "<b>Write a Python program to find the numbers of words present in the given sentence.</b>"
   ]
  },
  {
   "cell_type": "code",
   "execution_count": 35,
   "id": "19cbb4ec",
   "metadata": {},
   "outputs": [
    {
     "name": "stdout",
     "output_type": "stream",
     "text": [
      "Enter a string: yes it is\n",
      "Total number of words in string: 3\n"
     ]
    }
   ],
   "source": [
    "msg = input(\"Enter a string: \")\n",
    "sentence = msg.split(\" \")\n",
    "count = 0\n",
    "for index,word in enumerate(sentence):\n",
    "        count+=1\n",
    "print(\"Total number of words in string:\",count)"
   ]
  },
  {
   "cell_type": "markdown",
   "id": "3d744b56",
   "metadata": {},
   "source": [
    "<b>Write a Python function words_count(sentence) to return a dictionary with the length of words as key and number words with such length as value.\n",
    "\n",
    "Example: sentence=“I love python and it so easy to learn” sample output={1:1,4:2,5:1,3:1,2:3,6:1}</b>"
   ]
  },
  {
   "cell_type": "code",
   "execution_count": 120,
   "id": "340cae77",
   "metadata": {},
   "outputs": [],
   "source": [
    "def words_count(my_string):\n",
    "    \n",
    "    res = list(my_string.split())\n",
    "    l1=[]\n",
    "    l2=[]\n",
    "    \n",
    "    for i in res:\n",
    "        length = len(i)\n",
    "        l1.append(length)\n",
    "    for i in l1:\n",
    "        counter = l1.count(i)\n",
    "        l2.append(counter)\n",
    "#     return l1\n",
    "    \n",
    "    my_dict = dict(zip(l1,l2))\n",
    "    return my_dict"
   ]
  },
  {
   "cell_type": "code",
   "execution_count": 122,
   "id": "1e7b7f4e",
   "metadata": {},
   "outputs": [
    {
     "data": {
      "text/plain": [
       "{1: 1, 4: 2, 6: 1, 3: 1, 2: 3, 5: 1}"
      ]
     },
     "execution_count": 122,
     "metadata": {},
     "output_type": "execute_result"
    }
   ],
   "source": [
    "sentence1 = 'I love python and it so easy to learn'\n",
    "sentence2 = 'the quick brown fox jumps over the lazy dog.'\n",
    "words_count(sentence1)\n",
    " "
   ]
  },
  {
   "cell_type": "markdown",
   "id": "fc5d4f62",
   "metadata": {},
   "source": [
    "<b>Write a Python function vowel_count(sentence) to return a dictionary with vowels, consonants, others as key and respective number of vowels, consonants, others characters as value.</b>\n",
    "<b>\n",
    "Note: Do case insensitive operations</b>\n",
    "\n",
    "<b>\n",
    "Example: sentence=“I love python and it so easy to learn”\n",
    "         sample output={“vowels”:12,”consonants”:17, “others”:8}</b>"
   ]
  },
  {
   "cell_type": "code",
   "execution_count": 140,
   "id": "b9925ccf",
   "metadata": {},
   "outputs": [],
   "source": [
    "vowels=['a','e','i','o','u']\n",
    "def vowel_count(sentence):\n",
    "    s_sentence = str(sentence)\n",
    "    l_sentence = s_sentence.lower()\n",
    "    c_vowels = 0\n",
    "    c_consonants = 0\n",
    "    c_others = 0\n",
    "    key_list = [\"vowels\",\"consonants\",\"others\"]\n",
    "    value_list = []\n",
    "\n",
    "    for i in l_sentence:\n",
    "        if(i in vowels):\n",
    "            c_vowels+=1\n",
    "        elif i == \" \":\n",
    "            c_others+=1\n",
    "        else:\n",
    "            c_consonants+=1\n",
    "    value_list.extend([c_vowels,c_consonants,c_others])\n",
    "    \n",
    "    dictionary = dict(zip(key_list,value_list))\n",
    "    \n",
    "    return dictionary"
   ]
  },
  {
   "cell_type": "code",
   "execution_count": 141,
   "id": "a5e6ab8f",
   "metadata": {},
   "outputs": [
    {
     "data": {
      "text/plain": [
       "{'vowels': 12, 'consonants': 17, 'others': 8}"
      ]
     },
     "execution_count": 141,
     "metadata": {},
     "output_type": "execute_result"
    }
   ],
   "source": [
    "sentence=\"I love python and it so easy to learn\"\n",
    "vowel_count(sentence)"
   ]
  },
  {
   "cell_type": "markdown",
   "id": "258bedd8",
   "metadata": {},
   "source": [
    "<b>observe and guess the answer</b>"
   ]
  },
  {
   "cell_type": "code",
   "execution_count": 143,
   "id": "0895eaa0",
   "metadata": {},
   "outputs": [
    {
     "name": "stdout",
     "output_type": "stream",
     "text": [
      "1\n"
     ]
    }
   ],
   "source": [
    "song=\"JINGLE Bells jingle Bells Jingle All The Way\"\n",
    "song.upper()\n",
    "song_words=song.split()\n",
    "count=0\n",
    "for word in song_words:\n",
    "    if(word.startswith(\"jingle\")):\n",
    "        count=count+1\n",
    "print(count)"
   ]
  },
  {
   "cell_type": "code",
   "execution_count": 144,
   "id": "e5b739f5",
   "metadata": {},
   "outputs": [
    {
     "name": "stdout",
     "output_type": "stream",
     "text": [
      "1 5 10\n"
     ]
    }
   ],
   "source": [
    "sample_dict={'a':1,'b':2}\n",
    "sample_dict.update({'b':5, 'c':10 })\n",
    "print(sample_dict.get('a'),sample_dict.get('b'),sample_dict.get('c'))\n",
    " "
   ]
  },
  {
   "cell_type": "code",
   "execution_count": 145,
   "id": "6144a149",
   "metadata": {},
   "outputs": [
    {
     "name": "stdout",
     "output_type": "stream",
     "text": [
      "New AirlineS4\n"
     ]
    }
   ],
   "source": [
    "import re\n",
    "word=\"New Airlines4\"\n",
    "if(re.search(r\"^N\",word) and re.search(r\"e$\",word)):\n",
    "    print(re.sub(r\"New\",r\"Old\",word))\n",
    "else:\n",
    "    print(re.sub(r\"s(\\d{1})\",r\"S\\1\",word))"
   ]
  },
  {
   "cell_type": "code",
   "execution_count": 146,
   "id": "7ec7ccf1",
   "metadata": {},
   "outputs": [
    {
     "name": "stdout",
     "output_type": "stream",
     "text": [
      "101\n"
     ]
    }
   ],
   "source": [
    "import math\n",
    "num_list=[100.5,30.465,-1.22,20.15]\n",
    "num_list.insert(1, -100.5)\n",
    "num_list.pop(0)\n",
    "num_list.sort()\n",
    "print(math.ceil(math.fabs(num_list[0])))"
   ]
  },
  {
   "cell_type": "code",
   "execution_count": null,
   "id": "3b7f785d",
   "metadata": {},
   "outputs": [],
   "source": []
  }
 ],
 "metadata": {
  "kernelspec": {
   "display_name": "Python 3 (ipykernel)",
   "language": "python",
   "name": "python3"
  },
  "language_info": {
   "codemirror_mode": {
    "name": "ipython",
    "version": 3
   },
   "file_extension": ".py",
   "mimetype": "text/x-python",
   "name": "python",
   "nbconvert_exporter": "python",
   "pygments_lexer": "ipython3",
   "version": "3.9.7"
  }
 },
 "nbformat": 4,
 "nbformat_minor": 5
}
