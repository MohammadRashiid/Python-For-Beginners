{
 "cells": [
  {
   "cell_type": "markdown",
   "id": "449133ff",
   "metadata": {},
   "source": [
    "<b>Creating clean repeatable code is a key part of a programmer. <br><br>\n",
    "Functions allows us to create a block of code that can be executed many times, without needing to rewrite the code many times <br><br>\n",
    "Syntax:\n",
    "<br>\n",
    "def function_name([arg1,...,argn]): \n",
    "    <br>'''Docstring explains code''' \n",
    "    <br>[return value] \n",
    "<br>variable_name = function_name([val1,...,valn])\n",
    "<br><br>\n",
    "Note: Anything enclosed in [ ] (square bracket) is optional.\n",
    "</b>"
   ]
  },
  {
   "cell_type": "code",
   "execution_count": 1,
   "id": "4aa846a8",
   "metadata": {},
   "outputs": [],
   "source": [
    "def hello(): #function name should be all lower case\n",
    "    '''\n",
    "    This is the hello world code\n",
    "    '''\n",
    "    print(\"Hello Mohammad!\")\n"
   ]
  },
  {
   "cell_type": "code",
   "execution_count": 2,
   "id": "0db71e13",
   "metadata": {},
   "outputs": [
    {
     "name": "stdout",
     "output_type": "stream",
     "text": [
      "Hello Mohammad!\n"
     ]
    }
   ],
   "source": [
    "hello()"
   ]
  },
  {
   "cell_type": "code",
   "execution_count": 5,
   "id": "d0554dbc",
   "metadata": {},
   "outputs": [],
   "source": [
    "def hello(name): #function name should be all lower case\n",
    "    '''\n",
    "    This is the hello world code\n",
    "    '''\n",
    "    print(\"Hello\",name)\n"
   ]
  },
  {
   "cell_type": "code",
   "execution_count": 6,
   "id": "ff0980e2",
   "metadata": {},
   "outputs": [
    {
     "name": "stdout",
     "output_type": "stream",
     "text": [
      "Hello Everyone!\n"
     ]
    }
   ],
   "source": [
    "hello(\"Everyone!\")"
   ]
  },
  {
   "cell_type": "markdown",
   "id": "f2dd2e55",
   "metadata": {},
   "source": [
    "<b> We use return keyword to send back the result of the function, instead of printing it out.<br>\n",
    "    return allows us to assign the output to a new variable however print not allow us to do so.\n",
    "</b>"
   ]
  },
  {
   "cell_type": "code",
   "execution_count": 7,
   "id": "8d1419c5",
   "metadata": {},
   "outputs": [],
   "source": [
    "def addition(num1,num2):\n",
    "    return num1+num2"
   ]
  },
  {
   "cell_type": "code",
   "execution_count": 8,
   "id": "98034ef8",
   "metadata": {},
   "outputs": [
    {
     "data": {
      "text/plain": [
       "5"
      ]
     },
     "execution_count": 8,
     "metadata": {},
     "output_type": "execute_result"
    }
   ],
   "source": [
    "addition(2,3)"
   ]
  },
  {
   "cell_type": "code",
   "execution_count": 9,
   "id": "ec5a255c",
   "metadata": {},
   "outputs": [],
   "source": [
    "def hello(name='Mohammad!'): #passing default argument to avoid error\n",
    "    '''\n",
    "    This is the hello world code\n",
    "    '''\n",
    "    print(\"Hello\",name)"
   ]
  },
  {
   "cell_type": "code",
   "execution_count": 10,
   "id": "c210a19c",
   "metadata": {},
   "outputs": [
    {
     "name": "stdout",
     "output_type": "stream",
     "text": [
      "Hello Mohammad!\n"
     ]
    }
   ],
   "source": [
    "hello()"
   ]
  },
  {
   "cell_type": "code",
   "execution_count": 11,
   "id": "7058086c",
   "metadata": {},
   "outputs": [
    {
     "name": "stdout",
     "output_type": "stream",
     "text": [
      "Hello Rashid!\n"
     ]
    }
   ],
   "source": [
    "hello(\"Rashid!\")"
   ]
  },
  {
   "cell_type": "markdown",
   "id": "3e4497e5",
   "metadata": {},
   "source": [
    "<b>Find out if the word 'dog' in the string</b>"
   ]
  },
  {
   "cell_type": "code",
   "execution_count": 12,
   "id": "113adace",
   "metadata": {},
   "outputs": [],
   "source": [
    "def dog_check(mystr):\n",
    "    if 'dog' in mystr.lower():\n",
    "        return True\n",
    "    else:\n",
    "        return False"
   ]
  },
  {
   "cell_type": "code",
   "execution_count": 13,
   "id": "48bd0c07",
   "metadata": {},
   "outputs": [
    {
     "data": {
      "text/plain": [
       "True"
      ]
     },
     "execution_count": 13,
     "metadata": {},
     "output_type": "execute_result"
    }
   ],
   "source": [
    "dog_check('He is a DOG Lover')"
   ]
  },
  {
   "cell_type": "code",
   "execution_count": 14,
   "id": "0c6b1981",
   "metadata": {},
   "outputs": [
    {
     "data": {
      "text/plain": [
       "False"
      ]
     },
     "execution_count": 14,
     "metadata": {},
     "output_type": "execute_result"
    }
   ],
   "source": [
    "dog_check('He is a cat Lover')"
   ]
  },
  {
   "cell_type": "markdown",
   "id": "906315c1",
   "metadata": {},
   "source": [
    "<b>Password is valid or not\n",
    "</b>"
   ]
  },
  {
   "cell_type": "code",
   "execution_count": 29,
   "id": "0a74960d",
   "metadata": {},
   "outputs": [],
   "source": [
    "def passport_check(passport_no):\n",
    "    if(len(passport_no)==8):\n",
    "        if(passport_no[0]>=\"A\" and passport_no[0]<=\"Z\"):\n",
    "            status=\"valid\"\n",
    "        else:\n",
    "            status=\"invalid\"\n",
    "    else:\n",
    "        status= \"invalid\"\n",
    "    return(f\"Passport is {status}\")\n"
   ]
  },
  {
   "cell_type": "code",
   "execution_count": 30,
   "id": "48c7e1bf",
   "metadata": {},
   "outputs": [
    {
     "data": {
      "text/plain": [
       "'Passport is invalid'"
      ]
     },
     "execution_count": 30,
     "metadata": {},
     "output_type": "execute_result"
    }
   ],
   "source": [
    "passport_check(\"01234567\")"
   ]
  },
  {
   "cell_type": "code",
   "execution_count": 31,
   "id": "a537b16d",
   "metadata": {},
   "outputs": [
    {
     "data": {
      "text/plain": [
       "'Passport is valid'"
      ]
     },
     "execution_count": 31,
     "metadata": {},
     "output_type": "execute_result"
    }
   ],
   "source": [
    "passport_check(\"A1234567\")"
   ]
  },
  {
   "cell_type": "markdown",
   "id": "c547f392",
   "metadata": {},
   "source": [
    "<b>Write a Python function, find_square() that accepts an integer number n and returns the square of n. Invoke the function and display the square of the number. </b>"
   ]
  },
  {
   "cell_type": "code",
   "execution_count": 35,
   "id": "e1335f16",
   "metadata": {},
   "outputs": [],
   "source": [
    "def find_square(n):\n",
    "    return pow(n,2)"
   ]
  },
  {
   "cell_type": "code",
   "execution_count": 36,
   "id": "2b70fff4",
   "metadata": {},
   "outputs": [
    {
     "data": {
      "text/plain": [
       "100"
      ]
     },
     "execution_count": 36,
     "metadata": {},
     "output_type": "execute_result"
    }
   ],
   "source": [
    "find_square(10)"
   ]
  },
  {
   "cell_type": "code",
   "execution_count": 37,
   "id": "0a197dc2",
   "metadata": {},
   "outputs": [
    {
     "name": "stdout",
     "output_type": "stream",
     "text": [
      "Enter an Integer: 10\n",
      "Square =  100\n"
     ]
    }
   ],
   "source": [
    "def find_square(n):\n",
    "    return pow(n,2)\n",
    "num = int(input(\"Enter an Integer: \"))\n",
    "print(\"Square = \", find_square(num))"
   ]
  },
  {
   "cell_type": "markdown",
   "id": "37486ba3",
   "metadata": {},
   "source": [
    "<b>Write a Python function, find_sum() that accepts an integer n and returns the sum of first n numbers. Invoke the function and display the sum of first n numbers. </b>"
   ]
  },
  {
   "cell_type": "code",
   "execution_count": 45,
   "id": "99b3de30",
   "metadata": {},
   "outputs": [
    {
     "name": "stdout",
     "output_type": "stream",
     "text": [
      "Enter a number: 10\n",
      "Sum of 1 to 10 is: 55\n"
     ]
    }
   ],
   "source": [
    "def find_sum(n):\n",
    "    summ=0\n",
    "    i=1\n",
    "    while i<=n:\n",
    "        summ+=i\n",
    "        i+=1\n",
    "    return summ\n",
    "num = int(input(\"Enter a number: \"))\n",
    "print(f\"Sum of 1 to {num} is:\",find_sum(num))"
   ]
  },
  {
   "cell_type": "code",
   "execution_count": 46,
   "id": "b7cfe6ff",
   "metadata": {},
   "outputs": [
    {
     "data": {
      "text/plain": [
       "55"
      ]
     },
     "execution_count": 46,
     "metadata": {},
     "output_type": "execute_result"
    }
   ],
   "source": [
    "find_sum(10\n",
    "    )"
   ]
  },
  {
   "cell_type": "markdown",
   "id": "caa44aa3",
   "metadata": {},
   "source": [
    "<b>Driving age</b>"
   ]
  },
  {
   "cell_type": "code",
   "execution_count": 48,
   "id": "c20d5e3b",
   "metadata": {},
   "outputs": [
    {
     "name": "stdout",
     "output_type": "stream",
     "text": [
      "What is your age?: 188\n",
      "Powering On. Enjoy the ride!\n"
     ]
    }
   ],
   "source": [
    "def checkDriverAge():\n",
    "    age = input(\"What is your age?: \")\n",
    "    if int(age) < 18:\n",
    "        print(\"Sorry, you are too young to drive this car. Powering off\")\n",
    "    elif int(age) > 18:\n",
    "        print(\"Powering On. Enjoy the ride!\");\n",
    "    elif int(age) == 18:\n",
    "        print(\"Congratulations on your first year of driving. Enjoy the ride!\")\n",
    "checkDriverAge()"
   ]
  },
  {
   "cell_type": "code",
   "execution_count": 49,
   "id": "0875b98f",
   "metadata": {},
   "outputs": [],
   "source": [
    "def checkDriverAge(age=0):\n",
    "    if int(age) < 18:\n",
    "        print(\"Sorry, you are too yound to drive this car. Powering off\")\n",
    "    elif int(age) > 18:\n",
    "        print(\"Powering On. Enjoy the ride!\");\n",
    "    elif int(age) == 18:\n",
    "        print(\"Congratulations on your first year of driving. Enjoy the ride!\")\n"
   ]
  },
  {
   "cell_type": "code",
   "execution_count": 50,
   "id": "90d705b2",
   "metadata": {},
   "outputs": [
    {
     "name": "stdout",
     "output_type": "stream",
     "text": [
      "Sorry, you are too yound to drive this car. Powering off\n"
     ]
    }
   ],
   "source": [
    "checkDriverAge(\n",
    "    0)"
   ]
  },
  {
   "cell_type": "code",
   "execution_count": 51,
   "id": "f43a2469",
   "metadata": {},
   "outputs": [
    {
     "name": "stdout",
     "output_type": "stream",
     "text": [
      "Powering On. Enjoy the ride!\n"
     ]
    }
   ],
   "source": [
    "checkDriverAge(20)"
   ]
  },
  {
   "cell_type": "markdown",
   "id": "4d348f70",
   "metadata": {},
   "source": [
    "<b>Print Highest Even Number from given list</b>"
   ]
  },
  {
   "cell_type": "code",
   "execution_count": 104,
   "id": "93634666",
   "metadata": {},
   "outputs": [],
   "source": [
    "def highest_even(li):\n",
    "    evens = []\n",
    "    for item in li:\n",
    "        if item%2==0:\n",
    "            evens.append(item)\n",
    "    return max(evens),\" is a maximum number in the list\"\n",
    "    \n",
    "        "
   ]
  },
  {
   "cell_type": "code",
   "execution_count": 105,
   "id": "4b318936",
   "metadata": {},
   "outputs": [
    {
     "data": {
      "text/plain": [
       "(10, ' is a maximum number in the list')"
      ]
     },
     "execution_count": 105,
     "metadata": {},
     "output_type": "execute_result"
    }
   ],
   "source": [
    "highest_even([10,8,2,3])"
   ]
  },
  {
   "cell_type": "markdown",
   "id": "02e3ab20",
   "metadata": {},
   "source": [
    "<b>\n",
    "    '*args <br><br>\n",
    "     “We use the “wildcard” or “*” notation like this – *args OR **kwargs – as our function’s argument when we have doubts about the number of  arguments we should pass in a function.” <br>we want to make a multiply function that takes any number of arguments and able to multiply them all together. It can be done using *args. It returns Tuple.<br><br>\n",
    "    **kwargs<br><br>\n",
    "    **kwargs in function definitions in python is used to pass a keyworded, variable-length argument list. We use the name kwargs with the double star. The reason is because the double star allows us to pass through keyword arguments (and any number of them).<br>It returns Dictionary.\n",
    "</b>"
   ]
  },
  {
   "cell_type": "code",
   "execution_count": 63,
   "id": "edab43b7",
   "metadata": {},
   "outputs": [],
   "source": [
    "#returns sum of given numbers\n",
    "def myfunc(a,b):\n",
    "    return a+b"
   ]
  },
  {
   "cell_type": "code",
   "execution_count": 64,
   "id": "519e0e05",
   "metadata": {},
   "outputs": [
    {
     "data": {
      "text/plain": [
       "100"
      ]
     },
     "execution_count": 64,
     "metadata": {},
     "output_type": "execute_result"
    }
   ],
   "source": [
    "myfunc(40,60)"
   ]
  },
  {
   "cell_type": "code",
   "execution_count": 65,
   "id": "afa58b18",
   "metadata": {},
   "outputs": [
    {
     "ename": "TypeError",
     "evalue": "myfunc() takes 2 positional arguments but 3 were given",
     "output_type": "error",
     "traceback": [
      "\u001b[1;31m---------------------------------------------------------------------------\u001b[0m",
      "\u001b[1;31mTypeError\u001b[0m                                 Traceback (most recent call last)",
      "\u001b[1;32mC:\\Users\\MOHAMM~1\\AppData\\Local\\Temp/ipykernel_8796/386377386.py\u001b[0m in \u001b[0;36m<module>\u001b[1;34m\u001b[0m\n\u001b[1;32m----> 1\u001b[1;33m \u001b[0mmyfunc\u001b[0m\u001b[1;33m(\u001b[0m\u001b[1;36m40\u001b[0m\u001b[1;33m,\u001b[0m\u001b[1;36m60\u001b[0m\u001b[1;33m,\u001b[0m\u001b[1;36m20\u001b[0m\u001b[1;33m)\u001b[0m\u001b[1;33m\u001b[0m\u001b[1;33m\u001b[0m\u001b[0m\n\u001b[0m",
      "\u001b[1;31mTypeError\u001b[0m: myfunc() takes 2 positional arguments but 3 were given"
     ]
    }
   ],
   "source": [
    "myfunc(40,60,20)"
   ]
  },
  {
   "cell_type": "code",
   "execution_count": 68,
   "id": "3161d6a0",
   "metadata": {},
   "outputs": [],
   "source": [
    "def myfunc2(*args):\n",
    "    print(args) #returns tuple\n",
    "    return sum(args)"
   ]
  },
  {
   "cell_type": "code",
   "execution_count": 69,
   "id": "4ea095b2",
   "metadata": {},
   "outputs": [
    {
     "name": "stdout",
     "output_type": "stream",
     "text": [
      "(40, 60, 20)\n"
     ]
    },
    {
     "data": {
      "text/plain": [
       "120"
      ]
     },
     "execution_count": 69,
     "metadata": {},
     "output_type": "execute_result"
    }
   ],
   "source": [
    "myfunc2(40,60,20)"
   ]
  },
  {
   "cell_type": "code",
   "execution_count": 85,
   "id": "68773505",
   "metadata": {},
   "outputs": [],
   "source": [
    "def myfunc3(*args,**kwargs):\n",
    "    print(args) #returns tuple\n",
    "    print(kwargs) #returns dictionary\n",
    "    total=0\n",
    "    for values in kwargs.values():\n",
    "        total+=values\n",
    "    return sum(args)+total"
   ]
  },
  {
   "cell_type": "code",
   "execution_count": 86,
   "id": "47ac1929",
   "metadata": {},
   "outputs": [
    {
     "name": "stdout",
     "output_type": "stream",
     "text": [
      "(40, 60, 20)\n",
      "{'num1': 2, 'num2': 4}\n"
     ]
    },
    {
     "data": {
      "text/plain": [
       "126"
      ]
     },
     "execution_count": 86,
     "metadata": {},
     "output_type": "execute_result"
    }
   ],
   "source": [
    "myfunc3(40,60,20,num1=2,num2=4)"
   ]
  },
  {
   "cell_type": "markdown",
   "id": "a5f83f60",
   "metadata": {},
   "source": [
    "<b>walrus operator :=<br><br>\n",
    "    The := operator is officially known as the assignment expression operator. <br>\n",
    "    \n",
    "</b>\n",
    "\n"
   ]
  },
  {
   "cell_type": "code",
   "execution_count": 108,
   "id": "ca2d3089",
   "metadata": {},
   "outputs": [
    {
     "ename": "SyntaxError",
     "evalue": "invalid syntax (Temp/ipykernel_8796/3219700664.py, line 2)",
     "output_type": "error",
     "traceback": [
      "\u001b[1;36m  File \u001b[1;32m\"C:\\Users\\MOHAMM~1\\AppData\\Local\\Temp/ipykernel_8796/3219700664.py\"\u001b[1;36m, line \u001b[1;32m2\u001b[0m\n\u001b[1;33m    if (length = len(a))>10:\u001b[0m\n\u001b[1;37m               ^\u001b[0m\n\u001b[1;31mSyntaxError\u001b[0m\u001b[1;31m:\u001b[0m invalid syntax\n"
     ]
    }
   ],
   "source": [
    "a=\"hellllloooooooo\"\n",
    "if (length = len(a))>10:\n",
    "    print(f\"{len(a)} too long!\")"
   ]
  },
  {
   "cell_type": "code",
   "execution_count": 110,
   "id": "ae1eb4ad",
   "metadata": {},
   "outputs": [
    {
     "name": "stdout",
     "output_type": "stream",
     "text": [
      "15 too long!\n"
     ]
    }
   ],
   "source": [
    "a=\"hellllloooooooo\"\n",
    "if (length := len(a))>10:\n",
    "    print(f\"{length} too long!\")"
   ]
  },
  {
   "cell_type": "markdown",
   "id": "9f1169de",
   "metadata": {},
   "source": [
    "<b>Scope - What variables do i have access to?\n",
    "    <br> Rules:<br> 1. Starts with local scope 2. if there is no local then Parent local scope 3. if there is no Parent local then global scope 4. Built-in Functions eg. sum\n",
    "    \n",
    "</b>"
   ]
  },
  {
   "cell_type": "code",
   "execution_count": 118,
   "id": "ad67b5c3",
   "metadata": {},
   "outputs": [
    {
     "name": "stdout",
     "output_type": "stream",
     "text": [
      "1\n",
      "10\n",
      "1\n"
     ]
    }
   ],
   "source": [
    "a = 1 #3.global scope\n",
    "\n",
    "def parent():\n",
    "    a=10 #2.parent scope\n",
    "    def confusion():\n",
    "        a=5 #1.local scope\n",
    "        return a\n",
    "    return confusion()\n",
    "\n",
    "print(a)\n",
    "#print confusion()\n",
    "print(parent()) #if we remove local scope a=5 it will return parent local a=10\n",
    "print(a)"
   ]
  },
  {
   "cell_type": "markdown",
   "id": "6691956a",
   "metadata": {},
   "source": [
    "<b>Global keyword</b>"
   ]
  },
  {
   "cell_type": "code",
   "execution_count": 122,
   "id": "83bbbadf",
   "metadata": {},
   "outputs": [],
   "source": [
    "total = 0\n",
    "def count():\n",
    "    global total #we can do this better by doing this see below \n",
    "    total += 1\n",
    "    return total"
   ]
  },
  {
   "cell_type": "code",
   "execution_count": 123,
   "id": "2891b88f",
   "metadata": {},
   "outputs": [
    {
     "data": {
      "text/plain": [
       "3"
      ]
     },
     "execution_count": 123,
     "metadata": {},
     "output_type": "execute_result"
    }
   ],
   "source": [
    "count()\n",
    "count()\n",
    "count()"
   ]
  },
  {
   "cell_type": "code",
   "execution_count": 127,
   "id": "f865b85a",
   "metadata": {},
   "outputs": [],
   "source": [
    "total = 0\n",
    "def count(total):\n",
    "    \n",
    "    total += 1\n",
    "    return total"
   ]
  },
  {
   "cell_type": "code",
   "execution_count": 129,
   "id": "67a58765",
   "metadata": {},
   "outputs": [
    {
     "data": {
      "text/plain": [
       "3"
      ]
     },
     "execution_count": 129,
     "metadata": {},
     "output_type": "execute_result"
    }
   ],
   "source": [
    "count(count(count(total)))\n"
   ]
  },
  {
   "cell_type": "markdown",
   "id": "c17d1e84",
   "metadata": {},
   "source": [
    "<b>Nonlocal keyword</b>"
   ]
  },
  {
   "cell_type": "code",
   "execution_count": 130,
   "id": "7ed27e00",
   "metadata": {},
   "outputs": [
    {
     "name": "stdout",
     "output_type": "stream",
     "text": [
      "inner: nonlocal\n",
      "outer: nonlocal\n"
     ]
    }
   ],
   "source": [
    "def outer():\n",
    "    x = \"local\"\n",
    "    def inner():\n",
    "        nonlocal x\n",
    "        x = \"nonlocal\"\n",
    "        print(\"inner:\", x)\n",
    "    inner()\n",
    "    print(\"outer:\", x)\n",
    "outer()\n"
   ]
  },
  {
   "cell_type": "code",
   "execution_count": 131,
   "id": "e70e8710",
   "metadata": {},
   "outputs": [
    {
     "name": "stdout",
     "output_type": "stream",
     "text": [
      "inner: nonlocal\n",
      "outer: local\n"
     ]
    }
   ],
   "source": [
    "def outer():\n",
    "    x = \"local\"\n",
    "    def inner():\n",
    "        #nonlocal x\n",
    "        x = \"nonlocal\"\n",
    "        print(\"inner:\", x)\n",
    "    inner()\n",
    "    print(\"outer:\", x)\n",
    "outer()"
   ]
  },
  {
   "cell_type": "code",
   "execution_count": 132,
   "id": "1a4f91a1",
   "metadata": {},
   "outputs": [
    {
     "name": "stdout",
     "output_type": "stream",
     "text": [
      "This airline allows baggage limit till 30 kgs\n",
      "Pay the extra baggage charge of 500 rupees\n",
      "This airline now allows baggage limit till 45 kgs\n",
      "Pay the extra baggage charge of 500 rupees\n"
     ]
    }
   ],
   "source": [
    "wt_limit=30\n",
    "def baggage_check(baggage_wt):\n",
    "    extra_baggage_charge=0\n",
    "    if not(baggage_wt>=0 and baggage_wt<=wt_limit):\n",
    "        extra_baggage=baggage_wt-wt_limit\n",
    "        extra_baggage_charge=extra_baggage*100\n",
    "    return extra_baggage_charge\n",
    "def update_baggage_limit(new_wt_limit):\n",
    "    wt_limit=new_wt_limit\n",
    "    print(\"This airline now allows baggage limit till\",wt_limit,\"kgs\")\n",
    "print(\"This airline allows baggage limit till\",wt_limit,\"kgs\")\n",
    "print(\"Pay the extra baggage charge of\",baggage_check(35),\"rupees\")\n",
    "update_baggage_limit(45)\n",
    "print(\"Pay the extra baggage charge of\",baggage_check(35),\"rupees\")\n"
   ]
  },
  {
   "cell_type": "markdown",
   "id": "6e9ccef7",
   "metadata": {},
   "source": [
    "<b>Write a Python function factorial(num) which returns the factorial of a given number.</b>"
   ]
  },
  {
   "cell_type": "code",
   "execution_count": 1,
   "id": "84a51704",
   "metadata": {},
   "outputs": [],
   "source": [
    "def factorial(num):\n",
    "    fact = 1\n",
    "    if num < 0:\n",
    "       print(\"Sorry, factorial does not exist for negative numbers\")\n",
    "    elif num == 0:\n",
    "       print(\"The factorial of 0 is 1\")\n",
    "    else:\n",
    "       for i in range(1,num + 1):\n",
    "           fact = fact*i\n",
    "       print(\"The factorial of\",num,\"is\",fact)"
   ]
  },
  {
   "cell_type": "code",
   "execution_count": 2,
   "id": "c967af51",
   "metadata": {},
   "outputs": [
    {
     "name": "stdout",
     "output_type": "stream",
     "text": [
      "The factorial of 5 is 120\n"
     ]
    }
   ],
   "source": [
    "factorial(5)"
   ]
  },
  {
   "cell_type": "markdown",
   "id": "85257402",
   "metadata": {},
   "source": [
    "<b> Write a Python Function is_palindrome(num) that accepts an integer num as argument and returns True if the num is palindrome else returns false. Invoke the function and based on return value print the output.\n",
    "\n",
    "Example: num=12321 output: Given number is a palindrome, num=12345 output: Given number is not a palindrome </b>"
   ]
  },
  {
   "cell_type": "code",
   "execution_count": 11,
   "id": "ee4a115a",
   "metadata": {},
   "outputs": [
    {
     "name": "stdout",
     "output_type": "stream",
     "text": [
      "Enter Number: 12332\n",
      "12332 is False\n"
     ]
    }
   ],
   "source": [
    "def is_palindrome(num):\n",
    "    temp = num\n",
    "    Reverse = 0\n",
    "    while(num > 0):\n",
    "        dig = num%10\n",
    "        Reverse = Reverse *10 + dig\n",
    "        num = num//10\n",
    "    if temp == Reverse:\n",
    "        return True\n",
    "    else:\n",
    "        return False\n",
    "    \n",
    "n = int(input(\"Enter Number: \"))\n",
    "print(f\"{n} is {is_palindrome(n)}\")\n"
   ]
  },
  {
   "cell_type": "markdown",
   "id": "c2d42923",
   "metadata": {},
   "source": [
    "<b> Write a Python function check_amicable_numbers(num1, num2) that accepts two numbers num1 and num2 as arguments and returns True if the given pair of numbers are amicable numbers else return false. Invoke the function and based on return value print the numbers are amicable numbers or not.\n",
    "\n",
    "num1 and num2 are said to be amicable numbers if sum of all the proper devisors (except num1 itself) of num1 is equal to num2 and sum of all the proper devisors of num2 (except num1 itself) is equal to num1.\n",
    "\n",
    "Example: 220 and 284 are amicable numbers as\n",
    "\n",
    "Proper devisors of 220 are 1, 2, 4, 5, 10, 11, 20, 22, 44, 55, 110 whose sum is 284\n",
    "\n",
    "Proper devisors of 284 are 1, 2, 4, 71, 142 whose sum is 220 </b>"
   ]
  },
  {
   "cell_type": "code",
   "execution_count": 14,
   "id": "1a2ce8c9",
   "metadata": {},
   "outputs": [
    {
     "name": "stdout",
     "output_type": "stream",
     "text": [
      "Enter Number 1: 220\n",
      "Enter Number 2: 284\n",
      "220 and 284 are amicable numbers\n"
     ]
    }
   ],
   "source": [
    "def check_amicable_numbers(num1, num2):\n",
    "    sum1 = 0\n",
    "    sum2 = 0\n",
    "    for i in range(1,num1):\n",
    "        if num1%i==0:\n",
    "            sum1+=i\n",
    "    for j in range(1,num2):\n",
    "        if num2%j==0:\n",
    "            sum2+=j\n",
    "    if(sum1==num2 and sum2==num1):\n",
    "        return f\"{num1} and {num2} are amicable numbers\"\n",
    "    else:\n",
    "        return f\"{num1} and {num2} are not amicable numbers\"\n",
    "\n",
    "n1 = int(input(\"Enter Number 1: \"))\n",
    "n2 = int(input(\"Enter Number 2: \"))\n",
    "print(check_amicable_numbers(n1, n2))"
   ]
  },
  {
   "cell_type": "markdown",
   "id": "8f46d5b9",
   "metadata": {},
   "source": [
    "<b> Write a Python function right_shift(num, n) that takes two numbers num and n as  arguments and returns value of the integer num rotated to the right by n positions. Assume both the numbers are unsigned. Invoke the function and print the return value.\n",
    "\n",
    "Hint: use >> binary operator to shift the bits.\n",
    "\n",
    "Example: num=60, n=2 result=15 </b>"
   ]
  },
  {
   "cell_type": "code",
   "execution_count": 16,
   "id": "b5dd53d6",
   "metadata": {},
   "outputs": [
    {
     "name": "stdout",
     "output_type": "stream",
     "text": [
      "Enter Number 1: 60\n",
      "Enter Number 2: 2\n",
      "result: 15\n"
     ]
    }
   ],
   "source": [
    "def right_shift(num, n):\n",
    "    if num>=0 and n>=0:\n",
    "        return num >> n\n",
    "    else:\n",
    "        return \"Signed Number\"\n",
    "    \n",
    "a = int(input(\"Enter Number 1: \"))\n",
    "n = int(input(\"Enter Number 2: \"))\n",
    "print(f\"result: {right_shift(a, n)}\")\n",
    "    "
   ]
  },
  {
   "cell_type": "markdown",
   "id": "d7319c82",
   "metadata": {},
   "source": [
    "<b> Write a Python function check_strong_number(num) that accepts a positive integer as argument and returns True if the number is strong number else false. Invoke the function and based on return value print the number is strong number or not.\n",
    "\n",
    "A number is said to be strong number, if the sum of factorial of each digit of the number is equal to the given number.\n",
    "\n",
    "Example:145 is strong number as\n",
    "\n",
    "1!=1\n",
    "\n",
    "4!=24\n",
    "\n",
    "5!=120\n",
    "\n",
    "Sum of all these is 145 </b>"
   ]
  },
  {
   "cell_type": "code",
   "execution_count": 20,
   "id": "9570bf9f",
   "metadata": {},
   "outputs": [
    {
     "name": "stdout",
     "output_type": "stream",
     "text": [
      "Enter Number: 145\n",
      "The number is a strong number\n"
     ]
    }
   ],
   "source": [
    "def check_strong_number(num):\n",
    "    sum1=0\n",
    "    temp=num\n",
    "    while(num):\n",
    "        i=1\n",
    "        factorial=1\n",
    "        r=num%10\n",
    "        while(i<=r):\n",
    "            factorial=factorial*i\n",
    "            i=i+1\n",
    "        sum1=sum1+factorial\n",
    "        num=num//10\n",
    "    if(sum1==temp):\n",
    "        return \"The number is a strong number\"\n",
    "    else:\n",
    "        return \"The number is not a strong number\"\n",
    "        \n",
    "n = int(input(\"Enter Number: \"))\n",
    "print(check_strong_number(n)) \n",
    "    "
   ]
  },
  {
   "cell_type": "markdown",
   "id": "f18ffc6c",
   "metadata": {},
   "source": [
    "<b>Observe & Predict the output of the following code snippet.</b>"
   ]
  },
  {
   "cell_type": "code",
   "execution_count": 5,
   "id": "72db461f",
   "metadata": {},
   "outputs": [
    {
     "name": "stdout",
     "output_type": "stream",
     "text": [
      "B\n"
     ]
    }
   ],
   "source": [
    "def verify(num1,num2):\n",
    "    if num1 > num2:\n",
    "        return num1\n",
    "    elif num1 == num2:\n",
    "        return 1\n",
    "    else:\n",
    "        return num2\n",
    "\n",
    "def display(arg1,arg2):\n",
    "    if(verify(arg1,arg2)==arg1):\n",
    "        print(\"A\")\n",
    "    elif(verify(arg1,arg2)==1):\n",
    "        print(\"C\")\n",
    "    else:\n",
    "        print(\"B\")\n",
    "display(1000,3500)"
   ]
  },
  {
   "cell_type": "code",
   "execution_count": 6,
   "id": "0383caca",
   "metadata": {},
   "outputs": [
    {
     "name": "stdout",
     "output_type": "stream",
     "text": [
      "0\n",
      "0\n"
     ]
    }
   ],
   "source": [
    "result=0\n",
    "\n",
    "def find_sum(num1,num2):\n",
    "    if(num1!=num2):\n",
    "        result=num1+num2\n",
    "    else:\n",
    "        result=2*(num1+num2)\n",
    "\n",
    "find_sum(3,4)\n",
    "print(result)\n",
    "find_sum(5,5)\n",
    "print(result)"
   ]
  },
  {
   "cell_type": "code",
   "execution_count": 15,
   "id": "81b7d7e0",
   "metadata": {
    "scrolled": true
   },
   "outputs": [
    {
     "ename": "NameError",
     "evalue": "name 'result_avg' is not defined",
     "output_type": "error",
     "traceback": [
      "\u001b[1;31m---------------------------------------------------------------------------\u001b[0m",
      "\u001b[1;31mNameError\u001b[0m                                 Traceback (most recent call last)",
      "\u001b[1;32mC:\\Users\\MOHAMM~1\\AppData\\Local\\Temp/ipykernel_11780/2378870113.py\u001b[0m in \u001b[0;36m<module>\u001b[1;34m\u001b[0m\n\u001b[0;32m      5\u001b[0m     \u001b[0mresult_avg\u001b[0m\u001b[1;33m=\u001b[0m\u001b[0mresult_sum\u001b[0m\u001b[1;33m/\u001b[0m\u001b[0mlen\u001b[0m\u001b[1;33m(\u001b[0m\u001b[0mlist_num\u001b[0m\u001b[1;33m)\u001b[0m\u001b[1;33m\u001b[0m\u001b[1;33m\u001b[0m\u001b[0m\n\u001b[0;32m      6\u001b[0m \u001b[0mfind_avg\u001b[0m\u001b[1;33m(\u001b[0m\u001b[1;33m[\u001b[0m\u001b[1;36m5\u001b[0m\u001b[1;33m,\u001b[0m\u001b[1;36m8\u001b[0m\u001b[1;33m,\u001b[0m\u001b[1;36m5\u001b[0m\u001b[1;33m]\u001b[0m\u001b[1;33m)\u001b[0m\u001b[1;33m\u001b[0m\u001b[1;33m\u001b[0m\u001b[0m\n\u001b[1;32m----> 7\u001b[1;33m \u001b[0mprint\u001b[0m\u001b[1;33m(\u001b[0m\u001b[0mresult_avg\u001b[0m\u001b[1;33m)\u001b[0m\u001b[1;33m\u001b[0m\u001b[1;33m\u001b[0m\u001b[0m\n\u001b[0m\u001b[0;32m      8\u001b[0m \u001b[1;33m\u001b[0m\u001b[0m\n",
      "\u001b[1;31mNameError\u001b[0m: name 'result_avg' is not defined"
     ]
    }
   ],
   "source": [
    "def find_avg(list_num):\n",
    "    result_sum=0\n",
    "    for num in list_num:\n",
    "        result_sum+=num\n",
    "    result_avg=result_sum/len(list_num)\n",
    "find_avg([5,8,5])\n",
    "print(result_avg)\n",
    " "
   ]
  },
  {
   "cell_type": "markdown",
   "id": "5ede7e9a",
   "metadata": {},
   "source": [
    "<b>Write a Python function proper_divisors(num) which returns a list of all the proper divisors of given number.\n",
    "\n",
    "Example: Proper divisors of 220 are 1, 2, 4, 5, 10, 11, 20, 22, 44, 55, 110</b>"
   ]
  },
  {
   "cell_type": "code",
   "execution_count": 5,
   "id": "a7f6c981",
   "metadata": {},
   "outputs": [],
   "source": [
    "def proper_divisors(num):\n",
    "    mylist=[]\n",
    "    i=1\n",
    "    while i<num:\n",
    "        if num%i == 0:\n",
    "            mylist.append(i)\n",
    "        \n",
    "        i+=1\n",
    "    return mylist"
   ]
  },
  {
   "cell_type": "code",
   "execution_count": 6,
   "id": "b47b535c",
   "metadata": {},
   "outputs": [
    {
     "data": {
      "text/plain": [
       "[1, 2, 4, 5, 10, 11, 20, 22, 44, 55, 110]"
      ]
     },
     "execution_count": 6,
     "metadata": {},
     "output_type": "execute_result"
    }
   ],
   "source": [
    "proper_divisors(220)"
   ]
  },
  {
   "cell_type": "markdown",
   "id": "c67830c0",
   "metadata": {},
   "source": [
    "<b>Write a Python function generate_fibanacci(n) to return a list of first n Fibonacci numbers.</b>"
   ]
  },
  {
   "cell_type": "code",
   "execution_count": 21,
   "id": "62ac1896",
   "metadata": {},
   "outputs": [],
   "source": [
    "def fib(n):\n",
    "    if n == 0:\n",
    "        return [0]\n",
    "    elif n == 1:\n",
    "        return [0, 1]\n",
    "    else:\n",
    "        lst = fib(n-1)\n",
    "        lst.append(lst[-1] + lst[-2])\n",
    "        return lst"
   ]
  },
  {
   "cell_type": "code",
   "execution_count": 22,
   "id": "f0835a4f",
   "metadata": {},
   "outputs": [
    {
     "data": {
      "text/plain": [
       "[0, 1, 1, 2, 3, 5, 8, 13, 21]"
      ]
     },
     "execution_count": 22,
     "metadata": {},
     "output_type": "execute_result"
    }
   ],
   "source": [
    "fib(8)"
   ]
  },
  {
   "cell_type": "markdown",
   "id": "295516a7",
   "metadata": {},
   "source": [
    "<b>\n",
    "Given a string containing uppercase characters (A-Z), compress the string using Run Length encoding. Repetition of character has to be replaced by storing the length of that run.\n",
    "\n",
    "Write a python function encode(message)  which performs the run length encoding for a given String and returns the run length encoded String.\n",
    "\n",
    "Provide different String values and test your program.\n",
    "\n",
    "Example: message=AAAABBBBCCCCCCCC  output: 4A4B8C</b>"
   ]
  },
  {
   "cell_type": "code",
   "execution_count": 64,
   "id": "717f6a5a",
   "metadata": {},
   "outputs": [],
   "source": [
    "def encode(message):\n",
    "    pairs = []\n",
    "    for char in message:\n",
    "        if len(pairs) > 0:\n",
    "            if pairs[-1][0] == char:\n",
    "                pairs[-1] = (char, pairs[-1][1] + 1)\n",
    "            else:\n",
    "                pairs.append((char, 1))\n",
    "        else:\n",
    "            pairs.append((char, 1))\n",
    "    strings = []\n",
    "    for letter, count in pairs:\n",
    "        strings.append(f\"{count}{letter.upper()}\")\n",
    "    return \"\".join(strings)\n"
   ]
  },
  {
   "cell_type": "code",
   "execution_count": 65,
   "id": "f10cb717",
   "metadata": {},
   "outputs": [
    {
     "data": {
      "text/plain": [
       "'4A4B8C'"
      ]
     },
     "execution_count": 65,
     "metadata": {},
     "output_type": "execute_result"
    }
   ],
   "source": [
    "encode(\"AAAABBBBCCCCCCCC\")"
   ]
  },
  {
   "cell_type": "markdown",
   "id": "1eed2d68",
   "metadata": {},
   "source": [
    "<b>\n",
    "    Represent a small bilingual (English-Swedish) glossary given below as a Python dictionary\n",
    "\n",
    "{\"merry\":\"god\", \"christmas\":\"jul\", \"and\":\"och\", \"happy\":\"gott\", \"new\":\"nytt\", \"year\":\"ar\"} \n",
    "\n",
    "and use it to translate your Christmas wishes from English into Swedish.\n",
    "\n",
    "That is, write a Python function translate(b_dict,list_words) that accepts the bilingual dictionary and a list of English words (your Christmas wish) and returns a list of equivalent Swedish words. </b>"
   ]
  },
  {
   "cell_type": "code",
   "execution_count": 70,
   "id": "34afabd4",
   "metadata": {},
   "outputs": [
    {
     "name": "stdout",
     "output_type": "stream",
     "text": [
      "The English Words are: ['merry', 'christmas']\n",
      "The equivalent swedish words are: ['god', 'jul']\n"
     ]
    }
   ],
   "source": [
    "def translate(b_dict,list_words):\n",
    "    swedish_words_list=[]\n",
    "    for x in list_words:\n",
    "        swedish_words_list.append(b_dict[x])\n",
    "    return swedish_words_list\n",
    "    \n",
    "b_dict= {\"merry\":\"god\", \"christmas\":\"jul\", \"and\":\"och\", \"happy\":\"gott\", \"new\":\"nytt\", \"year\":\"ar\"}\n",
    "list_words = [\"merry\",\"christmas\"]\n",
    "swedish_words_list=translate(b_dict,list_words)\n",
    "print(\"The English Words are:\",list_words)\n",
    "print(\"The equivalent swedish words are:\",swedish_words_list)"
   ]
  }
 ],
 "metadata": {
  "kernelspec": {
   "display_name": "Python 3 (ipykernel)",
   "language": "python",
   "name": "python3"
  },
  "language_info": {
   "codemirror_mode": {
    "name": "ipython",
    "version": 3
   },
   "file_extension": ".py",
   "mimetype": "text/x-python",
   "name": "python",
   "nbconvert_exporter": "python",
   "pygments_lexer": "ipython3",
   "version": "3.9.7"
  }
 },
 "nbformat": 4,
 "nbformat_minor": 5
}
