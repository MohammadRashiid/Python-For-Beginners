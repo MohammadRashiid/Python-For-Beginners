{
 "cells": [
  {
   "cell_type": "markdown",
   "id": "c2fb063b",
   "metadata": {},
   "source": [
    "<b> Functional Programming is a programming paradigm in which we try to bind everything in pure mathemetical functions style. It is a declarative type of programming style. Its main focus is on  \"what to solve?\" in contrast to to an imperative style where the main focus is \"how to solve?\" Its all about trying to keep our code clean and avoiding bugs in our program. </b>"
   ]
  },
  {
   "cell_type": "markdown",
   "id": "e96b06a9",
   "metadata": {},
   "source": [
    "<b> map() - returns list of items </b>"
   ]
  },
  {
   "cell_type": "code",
   "execution_count": 1,
   "id": "ddb604fd",
   "metadata": {},
   "outputs": [
    {
     "name": "stdout",
     "output_type": "stream",
     "text": [
      "[2, 4, 6]\n"
     ]
    }
   ],
   "source": [
    "my_list = [1,2,3] #can be tup,set etc.\n",
    "def multiply_by2(item):\n",
    "    return (item*2)\n",
    "print(list(map(multiply_by2,my_list)))"
   ]
  },
  {
   "cell_type": "markdown",
   "id": "c0c77ea9",
   "metadata": {},
   "source": [
    "<b> filter() - returns list of items. It filters iterable as per function. </b>"
   ]
  },
  {
   "cell_type": "code",
   "execution_count": 2,
   "id": "151ec895",
   "metadata": {},
   "outputs": [
    {
     "name": "stdout",
     "output_type": "stream",
     "text": [
      "[1, 3]\n"
     ]
    }
   ],
   "source": [
    "my_list = [1,2,3] #can be tup,set etc.\n",
    "def only_odd(item):\n",
    "    return item%2!=0\n",
    "print(list(filter(only_odd,my_list)))"
   ]
  },
  {
   "cell_type": "markdown",
   "id": "f1ed8692",
   "metadata": {},
   "source": [
    "<b> zip() - zipped multiple iterables & return list of tuples. </b>"
   ]
  },
  {
   "cell_type": "code",
   "execution_count": 3,
   "id": "150cf1f2",
   "metadata": {},
   "outputs": [
    {
     "name": "stdout",
     "output_type": "stream",
     "text": [
      "[(1, 'Me'), (2, 'You'), (3, 'We')]\n"
     ]
    }
   ],
   "source": [
    "my_list = [1,2,3]\n",
    "your_list = ('Me', 'You', 'We')\n",
    "print(list(zip(my_list,your_list)))"
   ]
  },
  {
   "cell_type": "markdown",
   "id": "037dd263",
   "metadata": {},
   "source": [
    "<b> reduce() - isn't built-in function. </b>"
   ]
  },
  {
   "cell_type": "code",
   "execution_count": 7,
   "id": "b7e67c0c",
   "metadata": {},
   "outputs": [
    {
     "name": "stdout",
     "output_type": "stream",
     "text": [
      "0 1\n",
      "1 2\n",
      "3 3\n",
      "6\n"
     ]
    }
   ],
   "source": [
    "from functools import reduce\n",
    "my_list = [1,2,3]\n",
    "def accumulator(acc,item):\n",
    "    print(acc,item)\n",
    "    return acc+item\n",
    "print(reduce(accumulator,my_list,0)) #default=0\n"
   ]
  },
  {
   "cell_type": "markdown",
   "id": "e33a5e13",
   "metadata": {},
   "source": [
    "<b> lambda expressions are one time anonymous functionsw that we don't need more than once. no need to give them a name.<br>\n",
    "    lambda param:action(param)</b>"
   ]
  },
  {
   "cell_type": "code",
   "execution_count": 8,
   "id": "8c2e512b",
   "metadata": {},
   "outputs": [
    {
     "name": "stdout",
     "output_type": "stream",
     "text": [
      "[2, 4, 6]\n"
     ]
    }
   ],
   "source": [
    "my_list = [1,2,3]\n",
    "print(list(map(lambda item:item*2,my_list)))"
   ]
  },
  {
   "cell_type": "code",
   "execution_count": 9,
   "id": "00d8a46e",
   "metadata": {},
   "outputs": [
    {
     "name": "stdout",
     "output_type": "stream",
     "text": [
      "[1, 3]\n"
     ]
    }
   ],
   "source": [
    "my_list = [1,2,3]\n",
    "print(list(filter(lambda item:item%2!=0,my_list)))"
   ]
  },
  {
   "cell_type": "code",
   "execution_count": 11,
   "id": "f478a372",
   "metadata": {},
   "outputs": [
    {
     "name": "stdout",
     "output_type": "stream",
     "text": [
      "7\n"
     ]
    }
   ],
   "source": [
    "from functools import reduce\n",
    "my_list = [1,2,3]\n",
    "\n",
    "print(reduce(lambda acc,item:acc+item,my_list,1))"
   ]
  },
  {
   "cell_type": "markdown",
   "id": "49cdf594",
   "metadata": {},
   "source": [
    "<b> List Comprehensions\n",
    "</b>"
   ]
  },
  {
   "cell_type": "code",
   "execution_count": 12,
   "id": "26e2c5b0",
   "metadata": {},
   "outputs": [
    {
     "name": "stdout",
     "output_type": "stream",
     "text": [
      "['h', 'e', 'l', 'l', 'o']\n"
     ]
    }
   ],
   "source": [
    "my_list = []\n",
    "for char in 'hello':\n",
    "    my_list.append(char)\n",
    "print(my_list)"
   ]
  },
  {
   "cell_type": "code",
   "execution_count": 13,
   "id": "e0435c75",
   "metadata": {},
   "outputs": [
    {
     "name": "stdout",
     "output_type": "stream",
     "text": [
      "['h', 'e', 'l', 'l', 'o']\n"
     ]
    }
   ],
   "source": [
    "# write above code using list comprehension\n",
    "\n",
    "li = [char for char in 'hello']\n",
    "print(li)"
   ]
  },
  {
   "cell_type": "code",
   "execution_count": 15,
   "id": "974a6bec",
   "metadata": {},
   "outputs": [
    {
     "name": "stdout",
     "output_type": "stream",
     "text": [
      "[1, 2, 3, 4, 5, 6, 7, 8, 9, 10]\n"
     ]
    }
   ],
   "source": [
    "l2= [num for num in range(1,11)]\n",
    "print(l2)"
   ]
  },
  {
   "cell_type": "code",
   "execution_count": 16,
   "id": "e03b0aa3",
   "metadata": {},
   "outputs": [
    {
     "name": "stdout",
     "output_type": "stream",
     "text": [
      "[2, 4, 6, 8, 10, 12, 14, 16, 18, 20]\n"
     ]
    }
   ],
   "source": [
    "l3= [num*2 for num in range(1,11)]\n",
    "print(l3)"
   ]
  },
  {
   "cell_type": "code",
   "execution_count": 18,
   "id": "4aa3dba6",
   "metadata": {},
   "outputs": [
    {
     "name": "stdout",
     "output_type": "stream",
     "text": [
      "[4, 8, 12, 16, 20]\n"
     ]
    }
   ],
   "source": [
    "#with if statement\n",
    "l4= [num*2 for num in range(1,11) if num%2==0]\n",
    "print(l4)"
   ]
  },
  {
   "cell_type": "markdown",
   "id": "19156c16",
   "metadata": {},
   "source": [
    "<b> Set Comprehensions - REMEMBER: SET RETURNS UNIQUE OBJECTS</b>"
   ]
  },
  {
   "cell_type": "code",
   "execution_count": 20,
   "id": "b1bc34cd",
   "metadata": {},
   "outputs": [
    {
     "name": "stdout",
     "output_type": "stream",
     "text": [
      "{'l', 'o', 'h', 'e'}\n"
     ]
    }
   ],
   "source": [
    "set1 = {char for char in 'hello'}\n",
    "print(set1)"
   ]
  },
  {
   "cell_type": "code",
   "execution_count": 21,
   "id": "5bf8432a",
   "metadata": {},
   "outputs": [
    {
     "name": "stdout",
     "output_type": "stream",
     "text": [
      "{4, 8, 12, 16, 20}\n"
     ]
    }
   ],
   "source": [
    "set2= {num*2 for num in range(1,11) if num%2==0}\n",
    "print(set2)"
   ]
  },
  {
   "cell_type": "code",
   "execution_count": 22,
   "id": "c0ce279f",
   "metadata": {},
   "outputs": [
    {
     "name": "stdout",
     "output_type": "stream",
     "text": [
      "{8, 4}\n"
     ]
    }
   ],
   "source": [
    "myset = {1,2,3,1,2,3,1,2,4}\n",
    "set4= {num*2 for num in myset if num%2==0}\n",
    "print(set4)"
   ]
  },
  {
   "cell_type": "markdown",
   "id": "63e2127a",
   "metadata": {},
   "source": [
    "<b> Dictionary Comprehension </b>"
   ]
  },
  {
   "cell_type": "code",
   "execution_count": 23,
   "id": "297d2b67",
   "metadata": {},
   "outputs": [],
   "source": [
    "sample_dict = {'a':1,'b':2,'c':3}"
   ]
  },
  {
   "cell_type": "code",
   "execution_count": 27,
   "id": "fc22190f",
   "metadata": {},
   "outputs": [
    {
     "data": {
      "text/plain": [
       "{'a': 2, 'b': 4, 'c': 6}"
      ]
     },
     "execution_count": 27,
     "metadata": {},
     "output_type": "execute_result"
    }
   ],
   "source": [
    "my_dict = {k:v*2 for k,v in sample_dict.items()}\n",
    "my_dict"
   ]
  },
  {
   "cell_type": "code",
   "execution_count": 28,
   "id": "7a0c9029",
   "metadata": {},
   "outputs": [
    {
     "data": {
      "text/plain": [
       "{'b': 4}"
      ]
     },
     "execution_count": 28,
     "metadata": {},
     "output_type": "execute_result"
    }
   ],
   "source": [
    "my_dict2 = {k:v*2 for k,v in sample_dict.items() if v%2==0}\n",
    "my_dict2"
   ]
  },
  {
   "cell_type": "code",
   "execution_count": 29,
   "id": "0bff01c3",
   "metadata": {},
   "outputs": [
    {
     "data": {
      "text/plain": [
       "{1: 2, 2: 4, 3: 6}"
      ]
     },
     "execution_count": 29,
     "metadata": {},
     "output_type": "execute_result"
    }
   ],
   "source": [
    "my_dict3 = {num:num*2 for num in [1,2,3]}\n",
    "my_dict3"
   ]
  }
 ],
 "metadata": {
  "kernelspec": {
   "display_name": "Python 3 (ipykernel)",
   "language": "python",
   "name": "python3"
  },
  "language_info": {
   "codemirror_mode": {
    "name": "ipython",
    "version": 3
   },
   "file_extension": ".py",
   "mimetype": "text/x-python",
   "name": "python",
   "nbconvert_exporter": "python",
   "pygments_lexer": "ipython3",
   "version": "3.9.7"
  }
 },
 "nbformat": 4,
 "nbformat_minor": 5
}
